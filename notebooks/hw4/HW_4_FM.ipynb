{
  "cells": [
    {
      "cell_type": "markdown",
      "metadata": {
        "id": "f123YSccg9qC"
      },
      "source": [
        "# Домашнее задание\n",
        "\n",
        "Домашнее задание состоит из нескольких блоков.\n",
        "\n",
        "\n",
        "## Эксперименты в ipynb ноутбуках (15 баллов)\n",
        "- Необходимо будет перебрать $N$ моделей $(N \\geq 2)$ матричной факторизации и перебрать у них $K$ гиперпараметров $(K \\geq 2)$ **(6 баллов)**\n",
        "    - Для перебора гиперпараметров можно использовать [`Optuna`](https://github.com/optuna/optuna), [`Hyperopt`](https://github.com/hyperopt/hyperopt)\n",
        "- Воспользоваться методом приближенного поиска соседей для выдачи рекомендаций. **(3 балла)**\n",
        "    - Можно использовать любые удобные: [`Annoy`](https://github.com/spotify/annoy), [`nmslib`](https://github.com/nmslib/nmslib) и.т.д\n",
        "- Добавить 3 \"аватаров\" (искусственных пользователей) и посмотреть рекомендации итоговой модели на них. Объяснить почему добавили именно таких пользователей. **(3 балла)**\n",
        "- Придумать как можно обработать рекомендации для холодных пользователей. **(3 балла)**\n",
        "\n",
        "Примечание: за невоспроизводимый код в ноутбуках (например, нарушен порядок выполнения ячеек, вызываются переменные, которые нигде не были объявлены ранее и.т.п) будут штрафы на усмотрение проверяющего.\n",
        "\n",
        "\n",
        "## Реализация итоговой модели в сервисе (10 баллов)\n",
        "- Пробитие бейзлайна $MAP@10 \\geq 0.074921$ **(6 баллов)**\n",
        "- Код сервиса соответствует критериям читаемости и воспроизводимости **(4 балла)**\n",
        "\n",
        "\n",
        "\n"
      ]
    },
    {
      "cell_type": "code",
      "source": [
        "from google.colab import drive\n",
        "drive.mount('/content/drive')"
      ],
      "metadata": {
        "colab": {
          "base_uri": "https://localhost:8080/"
        },
        "id": "PXLokE1_mTs4",
        "outputId": "81516b64-a26a-4dc0-ac8c-3978e12eb9b3"
      },
      "execution_count": 193,
      "outputs": [
        {
          "output_type": "stream",
          "name": "stdout",
          "text": [
            "Drive already mounted at /content/drive; to attempt to forcibly remount, call drive.mount(\"/content/drive\", force_remount=True).\n"
          ]
        }
      ]
    },
    {
      "cell_type": "code",
      "source": [
        "!pip install implicit -q\n",
        "!pip install rectools -q\n",
        "!pip install lightfm -q\n",
        "!pip install optuna -q"
      ],
      "metadata": {
        "id": "orBNDdOwmbGD"
      },
      "execution_count": 194,
      "outputs": []
    },
    {
      "cell_type": "code",
      "execution_count": 195,
      "metadata": {
        "id": "_MGYp5Qyg9pn"
      },
      "outputs": [],
      "source": [
        "import pandas as pd\n",
        "import numpy as np\n",
        "import matplotlib.pyplot as plt\n",
        "import seaborn as sns\n",
        "import optuna\n",
        "import matplotlib.pyplot as plt\n",
        "import typing as tp\n",
        "import os\n",
        "import warnings\n",
        "import dill\n",
        "import pickle\n",
        "import nmslib\n",
        "import time\n",
        "\n",
        "from implicit.als import AlternatingLeastSquares\n",
        "from rectools.metrics import Precision, Recall, MAP, calc_metrics\n",
        "from rectools.models import PopularModel, RandomModel, ImplicitALSWrapperModel\n",
        "from rectools import Columns\n",
        "from rectools.dataset import Dataset\n",
        "from rectools.models import ImplicitALSWrapperModel, LightFMWrapperModel\n",
        "from pathlib import Path\n",
        "from tqdm import tqdm\n",
        "from lightfm import LightFM\n",
        "from implicit.bpr import BayesianPersonalizedRanking\n",
        "from implicit.lmf import LogisticMatrixFactorization"
      ]
    },
    {
      "cell_type": "code",
      "execution_count": 196,
      "metadata": {
        "id": "xfr0caLtg9pm"
      },
      "outputs": [],
      "source": [
        "os.environ[\"OPENBLAS_NUM_THREADS\"] = \"1\"  # For implicit ALS"
      ]
    },
    {
      "cell_type": "code",
      "source": [
        "warnings.filterwarnings('ignore')"
      ],
      "metadata": {
        "id": "HRS9LfWT6aJ1"
      },
      "execution_count": 197,
      "outputs": []
    },
    {
      "cell_type": "code",
      "execution_count": 198,
      "metadata": {
        "id": "iy6SJAGZg9po"
      },
      "outputs": [],
      "source": [
        "DATA_PATH = '/content/drive/MyDrive/kion_train/'"
      ]
    },
    {
      "cell_type": "markdown",
      "metadata": {
        "id": "exSJ2H0Ig9po"
      },
      "source": [
        "# LOAD DATA "
      ]
    },
    {
      "cell_type": "code",
      "execution_count": 199,
      "metadata": {
        "colab": {
          "base_uri": "https://localhost:8080/"
        },
        "id": "nbMhDeZZg9pq",
        "outputId": "ddde787f-4cf7-4740-c9bf-8a227d854358"
      },
      "outputs": [
        {
          "output_type": "stream",
          "name": "stdout",
          "text": [
            "CPU times: user 2.54 s, sys: 335 ms, total: 2.88 s\n",
            "Wall time: 3.2 s\n"
          ]
        }
      ],
      "source": [
        "%%time\n",
        "users_df = pd.read_csv(DATA_PATH + 'users.csv')\n",
        "items_df = pd.read_csv(DATA_PATH + 'items.csv')\n",
        "interactions = pd.read_csv(DATA_PATH + 'interactions.csv')"
      ]
    },
    {
      "cell_type": "markdown",
      "metadata": {
        "id": "zqtl0miYg9ps"
      },
      "source": [
        "# Preprocess"
      ]
    },
    {
      "cell_type": "code",
      "execution_count": 200,
      "metadata": {
        "id": "yHjjVvxMg9pt"
      },
      "outputs": [],
      "source": [
        "Columns.Datetime = 'last_watch_dt'"
      ]
    },
    {
      "cell_type": "code",
      "execution_count": 201,
      "metadata": {
        "id": "XhwwA4PUg9pu"
      },
      "outputs": [],
      "source": [
        "interactions.drop(interactions[interactions[Columns.Datetime].str.len() != 10].index, inplace=True)"
      ]
    },
    {
      "cell_type": "code",
      "execution_count": 202,
      "metadata": {
        "id": "0bfVkD8eg9pu"
      },
      "outputs": [],
      "source": [
        "interactions[Columns.Datetime] = pd.to_datetime(interactions[Columns.Datetime], format='%Y-%m-%d')"
      ]
    },
    {
      "cell_type": "code",
      "execution_count": 203,
      "metadata": {
        "id": "Srl2xoZzg9pv"
      },
      "outputs": [],
      "source": [
        "max_date = interactions[Columns.Datetime].max()"
      ]
    },
    {
      "cell_type": "code",
      "execution_count": 204,
      "metadata": {
        "id": "iSrPP8wCg9pv"
      },
      "outputs": [],
      "source": [
        "interactions[Columns.Weight] = np.where(interactions['watched_pct'] > 10, 3, 1)"
      ]
    },
    {
      "cell_type": "code",
      "execution_count": 205,
      "metadata": {
        "colab": {
          "base_uri": "https://localhost:8080/"
        },
        "id": "RnPmn9Y4g9pw",
        "outputId": "58095501-904c-4406-fe0c-dae40731d55d"
      },
      "outputs": [
        {
          "output_type": "stream",
          "name": "stdout",
          "text": [
            "train: (4985269, 6)\n",
            "test: (490982, 6)\n"
          ]
        }
      ],
      "source": [
        "train = interactions[interactions[Columns.Datetime] < max_date - pd.Timedelta(days=7)].copy()\n",
        "test = interactions[interactions[Columns.Datetime] >= max_date - pd.Timedelta(days=7)].copy()\n",
        "\n",
        "print(f\"train: {train.shape}\")\n",
        "print(f\"test: {test.shape}\")"
      ]
    },
    {
      "cell_type": "code",
      "execution_count": 206,
      "metadata": {
        "id": "s__dzVobg9pw"
      },
      "outputs": [],
      "source": [
        "train.drop(train.query(\"total_dur < 300\").index, inplace=True)"
      ]
    },
    {
      "cell_type": "code",
      "execution_count": 207,
      "metadata": {
        "id": "aBBmm_sVg9px"
      },
      "outputs": [],
      "source": [
        "# отфильтруем холодных пользователей из теста\n",
        "cold_users = set(test[Columns.User]) - set(train[Columns.User])"
      ]
    },
    {
      "cell_type": "code",
      "execution_count": 208,
      "metadata": {
        "id": "IhzpFOfQg9px"
      },
      "outputs": [],
      "source": [
        "test.drop(test[test[Columns.User].isin(cold_users)].index, inplace=True)"
      ]
    },
    {
      "cell_type": "markdown",
      "metadata": {
        "id": "1Ax66tU4g9px"
      },
      "source": [
        "# Prepare features"
      ]
    },
    {
      "cell_type": "markdown",
      "metadata": {
        "id": "ME3JVYLog9py"
      },
      "source": [
        "## User features"
      ]
    },
    {
      "cell_type": "code",
      "execution_count": 209,
      "metadata": {
        "colab": {
          "base_uri": "https://localhost:8080/"
        },
        "id": "n0UVJ1Pgg9py",
        "outputId": "2757afa7-977a-40cc-ffb9-8d63c94c1e9f"
      },
      "outputs": [
        {
          "output_type": "execute_result",
          "data": {
            "text/plain": [
              "user_id         0\n",
              "age         14095\n",
              "income      14776\n",
              "sex         13831\n",
              "kids_flg        0\n",
              "dtype: int64"
            ]
          },
          "metadata": {},
          "execution_count": 209
        }
      ],
      "source": [
        "users_df.isnull().sum()"
      ]
    },
    {
      "cell_type": "code",
      "execution_count": 210,
      "metadata": {
        "id": "I0-DcCJ6g9py"
      },
      "outputs": [],
      "source": [
        "users_df.fillna('Unknown', inplace=True)"
      ]
    },
    {
      "cell_type": "code",
      "execution_count": 211,
      "metadata": {
        "colab": {
          "base_uri": "https://localhost:8080/"
        },
        "id": "RSqTgX2Sg9pz",
        "outputId": "76084039-aa25-41b5-a30c-80001129593f"
      },
      "outputs": [
        {
          "output_type": "execute_result",
          "data": {
            "text/plain": [
              "user_id     840197\n",
              "age              7\n",
              "income           7\n",
              "sex              3\n",
              "kids_flg         2\n",
              "dtype: int64"
            ]
          },
          "metadata": {},
          "execution_count": 211
        }
      ],
      "source": [
        "users_df.nunique()"
      ]
    },
    {
      "cell_type": "code",
      "execution_count": 212,
      "metadata": {
        "id": "xswCyptdg9pz"
      },
      "outputs": [],
      "source": [
        "users = users_df.loc[users_df[Columns.User].isin(train[Columns.User])].copy()"
      ]
    },
    {
      "cell_type": "code",
      "execution_count": 213,
      "metadata": {
        "colab": {
          "base_uri": "https://localhost:8080/",
          "height": 424
        },
        "id": "BZPGunZxg9pz",
        "outputId": "30f04354-d254-471a-9188-763356291e1a"
      },
      "outputs": [
        {
          "output_type": "execute_result",
          "data": {
            "text/plain": [
              "        user_id         age        income sex  kids_flg\n",
              "0        973171   age_25_34  income_60_90   М         1\n",
              "1        962099   age_18_24  income_20_40   М         0\n",
              "3        721985   age_45_54  income_20_40   Ж         0\n",
              "4        704055   age_35_44  income_60_90   Ж         0\n",
              "5       1037719   age_45_54  income_60_90   М         0\n",
              "...         ...         ...           ...  ..       ...\n",
              "840184   529394   age_25_34  income_40_60   Ж         0\n",
              "840186    80113   age_25_34  income_40_60   Ж         0\n",
              "840188   312839  age_65_inf  income_60_90   Ж         0\n",
              "840189   191349   age_45_54  income_40_60   М         1\n",
              "840190   393868   age_25_34  income_20_40   М         0\n",
              "\n",
              "[586668 rows x 5 columns]"
            ],
            "text/html": [
              "\n",
              "  <div id=\"df-0724e8c8-fbda-4f53-8279-806ced55faff\">\n",
              "    <div class=\"colab-df-container\">\n",
              "      <div>\n",
              "<style scoped>\n",
              "    .dataframe tbody tr th:only-of-type {\n",
              "        vertical-align: middle;\n",
              "    }\n",
              "\n",
              "    .dataframe tbody tr th {\n",
              "        vertical-align: top;\n",
              "    }\n",
              "\n",
              "    .dataframe thead th {\n",
              "        text-align: right;\n",
              "    }\n",
              "</style>\n",
              "<table border=\"1\" class=\"dataframe\">\n",
              "  <thead>\n",
              "    <tr style=\"text-align: right;\">\n",
              "      <th></th>\n",
              "      <th>user_id</th>\n",
              "      <th>age</th>\n",
              "      <th>income</th>\n",
              "      <th>sex</th>\n",
              "      <th>kids_flg</th>\n",
              "    </tr>\n",
              "  </thead>\n",
              "  <tbody>\n",
              "    <tr>\n",
              "      <th>0</th>\n",
              "      <td>973171</td>\n",
              "      <td>age_25_34</td>\n",
              "      <td>income_60_90</td>\n",
              "      <td>М</td>\n",
              "      <td>1</td>\n",
              "    </tr>\n",
              "    <tr>\n",
              "      <th>1</th>\n",
              "      <td>962099</td>\n",
              "      <td>age_18_24</td>\n",
              "      <td>income_20_40</td>\n",
              "      <td>М</td>\n",
              "      <td>0</td>\n",
              "    </tr>\n",
              "    <tr>\n",
              "      <th>3</th>\n",
              "      <td>721985</td>\n",
              "      <td>age_45_54</td>\n",
              "      <td>income_20_40</td>\n",
              "      <td>Ж</td>\n",
              "      <td>0</td>\n",
              "    </tr>\n",
              "    <tr>\n",
              "      <th>4</th>\n",
              "      <td>704055</td>\n",
              "      <td>age_35_44</td>\n",
              "      <td>income_60_90</td>\n",
              "      <td>Ж</td>\n",
              "      <td>0</td>\n",
              "    </tr>\n",
              "    <tr>\n",
              "      <th>5</th>\n",
              "      <td>1037719</td>\n",
              "      <td>age_45_54</td>\n",
              "      <td>income_60_90</td>\n",
              "      <td>М</td>\n",
              "      <td>0</td>\n",
              "    </tr>\n",
              "    <tr>\n",
              "      <th>...</th>\n",
              "      <td>...</td>\n",
              "      <td>...</td>\n",
              "      <td>...</td>\n",
              "      <td>...</td>\n",
              "      <td>...</td>\n",
              "    </tr>\n",
              "    <tr>\n",
              "      <th>840184</th>\n",
              "      <td>529394</td>\n",
              "      <td>age_25_34</td>\n",
              "      <td>income_40_60</td>\n",
              "      <td>Ж</td>\n",
              "      <td>0</td>\n",
              "    </tr>\n",
              "    <tr>\n",
              "      <th>840186</th>\n",
              "      <td>80113</td>\n",
              "      <td>age_25_34</td>\n",
              "      <td>income_40_60</td>\n",
              "      <td>Ж</td>\n",
              "      <td>0</td>\n",
              "    </tr>\n",
              "    <tr>\n",
              "      <th>840188</th>\n",
              "      <td>312839</td>\n",
              "      <td>age_65_inf</td>\n",
              "      <td>income_60_90</td>\n",
              "      <td>Ж</td>\n",
              "      <td>0</td>\n",
              "    </tr>\n",
              "    <tr>\n",
              "      <th>840189</th>\n",
              "      <td>191349</td>\n",
              "      <td>age_45_54</td>\n",
              "      <td>income_40_60</td>\n",
              "      <td>М</td>\n",
              "      <td>1</td>\n",
              "    </tr>\n",
              "    <tr>\n",
              "      <th>840190</th>\n",
              "      <td>393868</td>\n",
              "      <td>age_25_34</td>\n",
              "      <td>income_20_40</td>\n",
              "      <td>М</td>\n",
              "      <td>0</td>\n",
              "    </tr>\n",
              "  </tbody>\n",
              "</table>\n",
              "<p>586668 rows × 5 columns</p>\n",
              "</div>\n",
              "      <button class=\"colab-df-convert\" onclick=\"convertToInteractive('df-0724e8c8-fbda-4f53-8279-806ced55faff')\"\n",
              "              title=\"Convert this dataframe to an interactive table.\"\n",
              "              style=\"display:none;\">\n",
              "        \n",
              "  <svg xmlns=\"http://www.w3.org/2000/svg\" height=\"24px\"viewBox=\"0 0 24 24\"\n",
              "       width=\"24px\">\n",
              "    <path d=\"M0 0h24v24H0V0z\" fill=\"none\"/>\n",
              "    <path d=\"M18.56 5.44l.94 2.06.94-2.06 2.06-.94-2.06-.94-.94-2.06-.94 2.06-2.06.94zm-11 1L8.5 8.5l.94-2.06 2.06-.94-2.06-.94L8.5 2.5l-.94 2.06-2.06.94zm10 10l.94 2.06.94-2.06 2.06-.94-2.06-.94-.94-2.06-.94 2.06-2.06.94z\"/><path d=\"M17.41 7.96l-1.37-1.37c-.4-.4-.92-.59-1.43-.59-.52 0-1.04.2-1.43.59L10.3 9.45l-7.72 7.72c-.78.78-.78 2.05 0 2.83L4 21.41c.39.39.9.59 1.41.59.51 0 1.02-.2 1.41-.59l7.78-7.78 2.81-2.81c.8-.78.8-2.07 0-2.86zM5.41 20L4 18.59l7.72-7.72 1.47 1.35L5.41 20z\"/>\n",
              "  </svg>\n",
              "      </button>\n",
              "      \n",
              "  <style>\n",
              "    .colab-df-container {\n",
              "      display:flex;\n",
              "      flex-wrap:wrap;\n",
              "      gap: 12px;\n",
              "    }\n",
              "\n",
              "    .colab-df-convert {\n",
              "      background-color: #E8F0FE;\n",
              "      border: none;\n",
              "      border-radius: 50%;\n",
              "      cursor: pointer;\n",
              "      display: none;\n",
              "      fill: #1967D2;\n",
              "      height: 32px;\n",
              "      padding: 0 0 0 0;\n",
              "      width: 32px;\n",
              "    }\n",
              "\n",
              "    .colab-df-convert:hover {\n",
              "      background-color: #E2EBFA;\n",
              "      box-shadow: 0px 1px 2px rgba(60, 64, 67, 0.3), 0px 1px 3px 1px rgba(60, 64, 67, 0.15);\n",
              "      fill: #174EA6;\n",
              "    }\n",
              "\n",
              "    [theme=dark] .colab-df-convert {\n",
              "      background-color: #3B4455;\n",
              "      fill: #D2E3FC;\n",
              "    }\n",
              "\n",
              "    [theme=dark] .colab-df-convert:hover {\n",
              "      background-color: #434B5C;\n",
              "      box-shadow: 0px 1px 3px 1px rgba(0, 0, 0, 0.15);\n",
              "      filter: drop-shadow(0px 1px 2px rgba(0, 0, 0, 0.3));\n",
              "      fill: #FFFFFF;\n",
              "    }\n",
              "  </style>\n",
              "\n",
              "      <script>\n",
              "        const buttonEl =\n",
              "          document.querySelector('#df-0724e8c8-fbda-4f53-8279-806ced55faff button.colab-df-convert');\n",
              "        buttonEl.style.display =\n",
              "          google.colab.kernel.accessAllowed ? 'block' : 'none';\n",
              "\n",
              "        async function convertToInteractive(key) {\n",
              "          const element = document.querySelector('#df-0724e8c8-fbda-4f53-8279-806ced55faff');\n",
              "          const dataTable =\n",
              "            await google.colab.kernel.invokeFunction('convertToInteractive',\n",
              "                                                     [key], {});\n",
              "          if (!dataTable) return;\n",
              "\n",
              "          const docLinkHtml = 'Like what you see? Visit the ' +\n",
              "            '<a target=\"_blank\" href=https://colab.research.google.com/notebooks/data_table.ipynb>data table notebook</a>'\n",
              "            + ' to learn more about interactive tables.';\n",
              "          element.innerHTML = '';\n",
              "          dataTable['output_type'] = 'display_data';\n",
              "          await google.colab.output.renderOutput(dataTable, element);\n",
              "          const docLink = document.createElement('div');\n",
              "          docLink.innerHTML = docLinkHtml;\n",
              "          element.appendChild(docLink);\n",
              "        }\n",
              "      </script>\n",
              "    </div>\n",
              "  </div>\n",
              "  "
            ]
          },
          "metadata": {},
          "execution_count": 213
        }
      ],
      "source": [
        "users"
      ]
    },
    {
      "cell_type": "code",
      "execution_count": 214,
      "metadata": {
        "colab": {
          "base_uri": "https://localhost:8080/",
          "height": 206
        },
        "id": "1_3Zdy_lg9pz",
        "outputId": "eb2a19ba-8426-4499-b12c-ab792e1d815b"
      },
      "outputs": [
        {
          "output_type": "execute_result",
          "data": {
            "text/plain": [
              "        id value feature\n",
              "0   973171     М     sex\n",
              "1   962099     М     sex\n",
              "3   721985     Ж     sex\n",
              "4   704055     Ж     sex\n",
              "5  1037719     М     sex"
            ],
            "text/html": [
              "\n",
              "  <div id=\"df-03a718c0-8432-4af3-bdb6-9bf76e7777cf\">\n",
              "    <div class=\"colab-df-container\">\n",
              "      <div>\n",
              "<style scoped>\n",
              "    .dataframe tbody tr th:only-of-type {\n",
              "        vertical-align: middle;\n",
              "    }\n",
              "\n",
              "    .dataframe tbody tr th {\n",
              "        vertical-align: top;\n",
              "    }\n",
              "\n",
              "    .dataframe thead th {\n",
              "        text-align: right;\n",
              "    }\n",
              "</style>\n",
              "<table border=\"1\" class=\"dataframe\">\n",
              "  <thead>\n",
              "    <tr style=\"text-align: right;\">\n",
              "      <th></th>\n",
              "      <th>id</th>\n",
              "      <th>value</th>\n",
              "      <th>feature</th>\n",
              "    </tr>\n",
              "  </thead>\n",
              "  <tbody>\n",
              "    <tr>\n",
              "      <th>0</th>\n",
              "      <td>973171</td>\n",
              "      <td>М</td>\n",
              "      <td>sex</td>\n",
              "    </tr>\n",
              "    <tr>\n",
              "      <th>1</th>\n",
              "      <td>962099</td>\n",
              "      <td>М</td>\n",
              "      <td>sex</td>\n",
              "    </tr>\n",
              "    <tr>\n",
              "      <th>3</th>\n",
              "      <td>721985</td>\n",
              "      <td>Ж</td>\n",
              "      <td>sex</td>\n",
              "    </tr>\n",
              "    <tr>\n",
              "      <th>4</th>\n",
              "      <td>704055</td>\n",
              "      <td>Ж</td>\n",
              "      <td>sex</td>\n",
              "    </tr>\n",
              "    <tr>\n",
              "      <th>5</th>\n",
              "      <td>1037719</td>\n",
              "      <td>М</td>\n",
              "      <td>sex</td>\n",
              "    </tr>\n",
              "  </tbody>\n",
              "</table>\n",
              "</div>\n",
              "      <button class=\"colab-df-convert\" onclick=\"convertToInteractive('df-03a718c0-8432-4af3-bdb6-9bf76e7777cf')\"\n",
              "              title=\"Convert this dataframe to an interactive table.\"\n",
              "              style=\"display:none;\">\n",
              "        \n",
              "  <svg xmlns=\"http://www.w3.org/2000/svg\" height=\"24px\"viewBox=\"0 0 24 24\"\n",
              "       width=\"24px\">\n",
              "    <path d=\"M0 0h24v24H0V0z\" fill=\"none\"/>\n",
              "    <path d=\"M18.56 5.44l.94 2.06.94-2.06 2.06-.94-2.06-.94-.94-2.06-.94 2.06-2.06.94zm-11 1L8.5 8.5l.94-2.06 2.06-.94-2.06-.94L8.5 2.5l-.94 2.06-2.06.94zm10 10l.94 2.06.94-2.06 2.06-.94-2.06-.94-.94-2.06-.94 2.06-2.06.94z\"/><path d=\"M17.41 7.96l-1.37-1.37c-.4-.4-.92-.59-1.43-.59-.52 0-1.04.2-1.43.59L10.3 9.45l-7.72 7.72c-.78.78-.78 2.05 0 2.83L4 21.41c.39.39.9.59 1.41.59.51 0 1.02-.2 1.41-.59l7.78-7.78 2.81-2.81c.8-.78.8-2.07 0-2.86zM5.41 20L4 18.59l7.72-7.72 1.47 1.35L5.41 20z\"/>\n",
              "  </svg>\n",
              "      </button>\n",
              "      \n",
              "  <style>\n",
              "    .colab-df-container {\n",
              "      display:flex;\n",
              "      flex-wrap:wrap;\n",
              "      gap: 12px;\n",
              "    }\n",
              "\n",
              "    .colab-df-convert {\n",
              "      background-color: #E8F0FE;\n",
              "      border: none;\n",
              "      border-radius: 50%;\n",
              "      cursor: pointer;\n",
              "      display: none;\n",
              "      fill: #1967D2;\n",
              "      height: 32px;\n",
              "      padding: 0 0 0 0;\n",
              "      width: 32px;\n",
              "    }\n",
              "\n",
              "    .colab-df-convert:hover {\n",
              "      background-color: #E2EBFA;\n",
              "      box-shadow: 0px 1px 2px rgba(60, 64, 67, 0.3), 0px 1px 3px 1px rgba(60, 64, 67, 0.15);\n",
              "      fill: #174EA6;\n",
              "    }\n",
              "\n",
              "    [theme=dark] .colab-df-convert {\n",
              "      background-color: #3B4455;\n",
              "      fill: #D2E3FC;\n",
              "    }\n",
              "\n",
              "    [theme=dark] .colab-df-convert:hover {\n",
              "      background-color: #434B5C;\n",
              "      box-shadow: 0px 1px 3px 1px rgba(0, 0, 0, 0.15);\n",
              "      filter: drop-shadow(0px 1px 2px rgba(0, 0, 0, 0.3));\n",
              "      fill: #FFFFFF;\n",
              "    }\n",
              "  </style>\n",
              "\n",
              "      <script>\n",
              "        const buttonEl =\n",
              "          document.querySelector('#df-03a718c0-8432-4af3-bdb6-9bf76e7777cf button.colab-df-convert');\n",
              "        buttonEl.style.display =\n",
              "          google.colab.kernel.accessAllowed ? 'block' : 'none';\n",
              "\n",
              "        async function convertToInteractive(key) {\n",
              "          const element = document.querySelector('#df-03a718c0-8432-4af3-bdb6-9bf76e7777cf');\n",
              "          const dataTable =\n",
              "            await google.colab.kernel.invokeFunction('convertToInteractive',\n",
              "                                                     [key], {});\n",
              "          if (!dataTable) return;\n",
              "\n",
              "          const docLinkHtml = 'Like what you see? Visit the ' +\n",
              "            '<a target=\"_blank\" href=https://colab.research.google.com/notebooks/data_table.ipynb>data table notebook</a>'\n",
              "            + ' to learn more about interactive tables.';\n",
              "          element.innerHTML = '';\n",
              "          dataTable['output_type'] = 'display_data';\n",
              "          await google.colab.output.renderOutput(dataTable, element);\n",
              "          const docLink = document.createElement('div');\n",
              "          docLink.innerHTML = docLinkHtml;\n",
              "          element.appendChild(docLink);\n",
              "        }\n",
              "      </script>\n",
              "    </div>\n",
              "  </div>\n",
              "  "
            ]
          },
          "metadata": {},
          "execution_count": 214
        }
      ],
      "source": [
        "user_features_frames = []\n",
        "for feature in [\"sex\", \"age\", \"income\"]:\n",
        "    feature_frame = users.reindex(columns=[Columns.User, feature])\n",
        "    feature_frame.columns = [\"id\", \"value\"]\n",
        "    feature_frame[\"feature\"] = feature\n",
        "    user_features_frames.append(feature_frame)\n",
        "user_features = pd.concat(user_features_frames)\n",
        "user_features.head()"
      ]
    },
    {
      "cell_type": "code",
      "execution_count": 215,
      "metadata": {
        "colab": {
          "base_uri": "https://localhost:8080/",
          "height": 143
        },
        "id": "p7GzvNyUg9p0",
        "outputId": "8b4994b7-53c6-4988-a5c6-df4a1293f00a"
      },
      "outputs": [
        {
          "output_type": "execute_result",
          "data": {
            "text/plain": [
              "       id         value feature\n",
              "0  973171             М     sex\n",
              "0  973171     age_25_34     age\n",
              "0  973171  income_60_90  income"
            ],
            "text/html": [
              "\n",
              "  <div id=\"df-7429d65a-ed7f-4663-bf95-2885c85c0ae8\">\n",
              "    <div class=\"colab-df-container\">\n",
              "      <div>\n",
              "<style scoped>\n",
              "    .dataframe tbody tr th:only-of-type {\n",
              "        vertical-align: middle;\n",
              "    }\n",
              "\n",
              "    .dataframe tbody tr th {\n",
              "        vertical-align: top;\n",
              "    }\n",
              "\n",
              "    .dataframe thead th {\n",
              "        text-align: right;\n",
              "    }\n",
              "</style>\n",
              "<table border=\"1\" class=\"dataframe\">\n",
              "  <thead>\n",
              "    <tr style=\"text-align: right;\">\n",
              "      <th></th>\n",
              "      <th>id</th>\n",
              "      <th>value</th>\n",
              "      <th>feature</th>\n",
              "    </tr>\n",
              "  </thead>\n",
              "  <tbody>\n",
              "    <tr>\n",
              "      <th>0</th>\n",
              "      <td>973171</td>\n",
              "      <td>М</td>\n",
              "      <td>sex</td>\n",
              "    </tr>\n",
              "    <tr>\n",
              "      <th>0</th>\n",
              "      <td>973171</td>\n",
              "      <td>age_25_34</td>\n",
              "      <td>age</td>\n",
              "    </tr>\n",
              "    <tr>\n",
              "      <th>0</th>\n",
              "      <td>973171</td>\n",
              "      <td>income_60_90</td>\n",
              "      <td>income</td>\n",
              "    </tr>\n",
              "  </tbody>\n",
              "</table>\n",
              "</div>\n",
              "      <button class=\"colab-df-convert\" onclick=\"convertToInteractive('df-7429d65a-ed7f-4663-bf95-2885c85c0ae8')\"\n",
              "              title=\"Convert this dataframe to an interactive table.\"\n",
              "              style=\"display:none;\">\n",
              "        \n",
              "  <svg xmlns=\"http://www.w3.org/2000/svg\" height=\"24px\"viewBox=\"0 0 24 24\"\n",
              "       width=\"24px\">\n",
              "    <path d=\"M0 0h24v24H0V0z\" fill=\"none\"/>\n",
              "    <path d=\"M18.56 5.44l.94 2.06.94-2.06 2.06-.94-2.06-.94-.94-2.06-.94 2.06-2.06.94zm-11 1L8.5 8.5l.94-2.06 2.06-.94-2.06-.94L8.5 2.5l-.94 2.06-2.06.94zm10 10l.94 2.06.94-2.06 2.06-.94-2.06-.94-.94-2.06-.94 2.06-2.06.94z\"/><path d=\"M17.41 7.96l-1.37-1.37c-.4-.4-.92-.59-1.43-.59-.52 0-1.04.2-1.43.59L10.3 9.45l-7.72 7.72c-.78.78-.78 2.05 0 2.83L4 21.41c.39.39.9.59 1.41.59.51 0 1.02-.2 1.41-.59l7.78-7.78 2.81-2.81c.8-.78.8-2.07 0-2.86zM5.41 20L4 18.59l7.72-7.72 1.47 1.35L5.41 20z\"/>\n",
              "  </svg>\n",
              "      </button>\n",
              "      \n",
              "  <style>\n",
              "    .colab-df-container {\n",
              "      display:flex;\n",
              "      flex-wrap:wrap;\n",
              "      gap: 12px;\n",
              "    }\n",
              "\n",
              "    .colab-df-convert {\n",
              "      background-color: #E8F0FE;\n",
              "      border: none;\n",
              "      border-radius: 50%;\n",
              "      cursor: pointer;\n",
              "      display: none;\n",
              "      fill: #1967D2;\n",
              "      height: 32px;\n",
              "      padding: 0 0 0 0;\n",
              "      width: 32px;\n",
              "    }\n",
              "\n",
              "    .colab-df-convert:hover {\n",
              "      background-color: #E2EBFA;\n",
              "      box-shadow: 0px 1px 2px rgba(60, 64, 67, 0.3), 0px 1px 3px 1px rgba(60, 64, 67, 0.15);\n",
              "      fill: #174EA6;\n",
              "    }\n",
              "\n",
              "    [theme=dark] .colab-df-convert {\n",
              "      background-color: #3B4455;\n",
              "      fill: #D2E3FC;\n",
              "    }\n",
              "\n",
              "    [theme=dark] .colab-df-convert:hover {\n",
              "      background-color: #434B5C;\n",
              "      box-shadow: 0px 1px 3px 1px rgba(0, 0, 0, 0.15);\n",
              "      filter: drop-shadow(0px 1px 2px rgba(0, 0, 0, 0.3));\n",
              "      fill: #FFFFFF;\n",
              "    }\n",
              "  </style>\n",
              "\n",
              "      <script>\n",
              "        const buttonEl =\n",
              "          document.querySelector('#df-7429d65a-ed7f-4663-bf95-2885c85c0ae8 button.colab-df-convert');\n",
              "        buttonEl.style.display =\n",
              "          google.colab.kernel.accessAllowed ? 'block' : 'none';\n",
              "\n",
              "        async function convertToInteractive(key) {\n",
              "          const element = document.querySelector('#df-7429d65a-ed7f-4663-bf95-2885c85c0ae8');\n",
              "          const dataTable =\n",
              "            await google.colab.kernel.invokeFunction('convertToInteractive',\n",
              "                                                     [key], {});\n",
              "          if (!dataTable) return;\n",
              "\n",
              "          const docLinkHtml = 'Like what you see? Visit the ' +\n",
              "            '<a target=\"_blank\" href=https://colab.research.google.com/notebooks/data_table.ipynb>data table notebook</a>'\n",
              "            + ' to learn more about interactive tables.';\n",
              "          element.innerHTML = '';\n",
              "          dataTable['output_type'] = 'display_data';\n",
              "          await google.colab.output.renderOutput(dataTable, element);\n",
              "          const docLink = document.createElement('div');\n",
              "          docLink.innerHTML = docLinkHtml;\n",
              "          element.appendChild(docLink);\n",
              "        }\n",
              "      </script>\n",
              "    </div>\n",
              "  </div>\n",
              "  "
            ]
          },
          "metadata": {},
          "execution_count": 215
        }
      ],
      "source": [
        "user_features.query(f\"id == 973171\")"
      ]
    },
    {
      "cell_type": "markdown",
      "metadata": {
        "id": "ZD9E2xyPg9p0"
      },
      "source": [
        "# Item features"
      ]
    },
    {
      "cell_type": "code",
      "execution_count": 216,
      "metadata": {
        "colab": {
          "base_uri": "https://localhost:8080/"
        },
        "id": "LhQuNutdg9p0",
        "outputId": "7cbcd5b0-f223-4ec9-8dc2-efb0fb966ffd"
      },
      "outputs": [
        {
          "output_type": "execute_result",
          "data": {
            "text/plain": [
              "item_id             0\n",
              "content_type        0\n",
              "title               0\n",
              "title_orig       4745\n",
              "release_year       98\n",
              "genres              0\n",
              "countries          37\n",
              "for_kids        15397\n",
              "age_rating          2\n",
              "studios         14898\n",
              "directors        1509\n",
              "actors           2619\n",
              "description         2\n",
              "keywords          423\n",
              "dtype: int64"
            ]
          },
          "metadata": {},
          "execution_count": 216
        }
      ],
      "source": [
        "items_df.isnull().sum()"
      ]
    },
    {
      "cell_type": "code",
      "execution_count": 217,
      "metadata": {
        "id": "Tite7j4Zg9p0"
      },
      "outputs": [],
      "source": [
        "items = items_df.loc[items_df[Columns.Item].isin(train[Columns.Item])].copy()"
      ]
    },
    {
      "cell_type": "code",
      "execution_count": 218,
      "metadata": {
        "colab": {
          "base_uri": "https://localhost:8080/",
          "height": 441
        },
        "id": "z8vB79r6g9p1",
        "outputId": "d08601a2-52f9-42c1-fd50-0c4b66a18868"
      },
      "outputs": [
        {
          "output_type": "execute_result",
          "data": {
            "text/plain": [
              "   item_id content_type                 title      title_orig  release_year  \\\n",
              "0    10711         film        Поговори с ней  Hable con ella        2002.0   \n",
              "1     2508         film           Голые перцы    Search Party        2014.0   \n",
              "2    10716         film      Тактическая сила  Tactical Force        2011.0   \n",
              "3     7868         film                45 лет        45 Years        2015.0   \n",
              "4    16268         film  Все решает мгновение             NaN        1978.0   \n",
              "\n",
              "                                             genres       countries  for_kids  \\\n",
              "0           драмы, зарубежные, детективы, мелодрамы         Испания       NaN   \n",
              "1                  зарубежные, приключения, комедии             США       NaN   \n",
              "2  криминал, зарубежные, триллеры, боевики, комедии          Канада       NaN   \n",
              "3                      драмы, зарубежные, мелодрамы  Великобритания       NaN   \n",
              "4                драмы, спорт, советские, мелодрамы            СССР       NaN   \n",
              "\n",
              "   age_rating   studios         directors  \\\n",
              "0        16.0       NaN  Педро Альмодовар   \n",
              "1        16.0       NaN    Скот Армстронг   \n",
              "2        16.0       NaN  Адам П. Калтраро   \n",
              "3        16.0       NaN         Эндрю Хэй   \n",
              "4        12.0  Ленфильм  Виктор Садовский   \n",
              "\n",
              "                                              actors  \\\n",
              "0  Адольфо Фернандес, Ана Фернандес, Дарио Гранди...   \n",
              "1  Адам Палли, Брайан Хаски, Дж.Б. Смув, Джейсон ...   \n",
              "2  Адриан Холмс, Даррен Шалави, Джерри Вассерман,...   \n",
              "3  Александра Риддлстон-Барретт, Джеральдин Джейм...   \n",
              "4  Александр Абдулов, Александр Демьяненко, Алекс...   \n",
              "\n",
              "                                         description  \\\n",
              "0  Мелодрама легендарного Педро Альмодовара «Пого...   \n",
              "1  Уморительная современная комедия на популярную...   \n",
              "2  Профессиональный рестлер Стив Остин («Все или ...   \n",
              "3  Шарлотта Рэмплинг, Том Кортни, Джеральдин Джей...   \n",
              "4  Расчетливая чаровница из советского кинохита «...   \n",
              "\n",
              "                                            keywords  \n",
              "0  Поговори, ней, 2002, Испания, друзья, любовь, ...  \n",
              "1  Голые, перцы, 2014, США, друзья, свадьбы, прео...  \n",
              "2  Тактическая, сила, 2011, Канада, бандиты, ганг...  \n",
              "3  45, лет, 2015, Великобритания, брак, жизнь, лю...  \n",
              "4  Все, решает, мгновение, 1978, СССР, сильные, ж...  "
            ],
            "text/html": [
              "\n",
              "  <div id=\"df-c9914840-2646-4212-bd1a-c17cdd2aaa84\">\n",
              "    <div class=\"colab-df-container\">\n",
              "      <div>\n",
              "<style scoped>\n",
              "    .dataframe tbody tr th:only-of-type {\n",
              "        vertical-align: middle;\n",
              "    }\n",
              "\n",
              "    .dataframe tbody tr th {\n",
              "        vertical-align: top;\n",
              "    }\n",
              "\n",
              "    .dataframe thead th {\n",
              "        text-align: right;\n",
              "    }\n",
              "</style>\n",
              "<table border=\"1\" class=\"dataframe\">\n",
              "  <thead>\n",
              "    <tr style=\"text-align: right;\">\n",
              "      <th></th>\n",
              "      <th>item_id</th>\n",
              "      <th>content_type</th>\n",
              "      <th>title</th>\n",
              "      <th>title_orig</th>\n",
              "      <th>release_year</th>\n",
              "      <th>genres</th>\n",
              "      <th>countries</th>\n",
              "      <th>for_kids</th>\n",
              "      <th>age_rating</th>\n",
              "      <th>studios</th>\n",
              "      <th>directors</th>\n",
              "      <th>actors</th>\n",
              "      <th>description</th>\n",
              "      <th>keywords</th>\n",
              "    </tr>\n",
              "  </thead>\n",
              "  <tbody>\n",
              "    <tr>\n",
              "      <th>0</th>\n",
              "      <td>10711</td>\n",
              "      <td>film</td>\n",
              "      <td>Поговори с ней</td>\n",
              "      <td>Hable con ella</td>\n",
              "      <td>2002.0</td>\n",
              "      <td>драмы, зарубежные, детективы, мелодрамы</td>\n",
              "      <td>Испания</td>\n",
              "      <td>NaN</td>\n",
              "      <td>16.0</td>\n",
              "      <td>NaN</td>\n",
              "      <td>Педро Альмодовар</td>\n",
              "      <td>Адольфо Фернандес, Ана Фернандес, Дарио Гранди...</td>\n",
              "      <td>Мелодрама легендарного Педро Альмодовара «Пого...</td>\n",
              "      <td>Поговори, ней, 2002, Испания, друзья, любовь, ...</td>\n",
              "    </tr>\n",
              "    <tr>\n",
              "      <th>1</th>\n",
              "      <td>2508</td>\n",
              "      <td>film</td>\n",
              "      <td>Голые перцы</td>\n",
              "      <td>Search Party</td>\n",
              "      <td>2014.0</td>\n",
              "      <td>зарубежные, приключения, комедии</td>\n",
              "      <td>США</td>\n",
              "      <td>NaN</td>\n",
              "      <td>16.0</td>\n",
              "      <td>NaN</td>\n",
              "      <td>Скот Армстронг</td>\n",
              "      <td>Адам Палли, Брайан Хаски, Дж.Б. Смув, Джейсон ...</td>\n",
              "      <td>Уморительная современная комедия на популярную...</td>\n",
              "      <td>Голые, перцы, 2014, США, друзья, свадьбы, прео...</td>\n",
              "    </tr>\n",
              "    <tr>\n",
              "      <th>2</th>\n",
              "      <td>10716</td>\n",
              "      <td>film</td>\n",
              "      <td>Тактическая сила</td>\n",
              "      <td>Tactical Force</td>\n",
              "      <td>2011.0</td>\n",
              "      <td>криминал, зарубежные, триллеры, боевики, комедии</td>\n",
              "      <td>Канада</td>\n",
              "      <td>NaN</td>\n",
              "      <td>16.0</td>\n",
              "      <td>NaN</td>\n",
              "      <td>Адам П. Калтраро</td>\n",
              "      <td>Адриан Холмс, Даррен Шалави, Джерри Вассерман,...</td>\n",
              "      <td>Профессиональный рестлер Стив Остин («Все или ...</td>\n",
              "      <td>Тактическая, сила, 2011, Канада, бандиты, ганг...</td>\n",
              "    </tr>\n",
              "    <tr>\n",
              "      <th>3</th>\n",
              "      <td>7868</td>\n",
              "      <td>film</td>\n",
              "      <td>45 лет</td>\n",
              "      <td>45 Years</td>\n",
              "      <td>2015.0</td>\n",
              "      <td>драмы, зарубежные, мелодрамы</td>\n",
              "      <td>Великобритания</td>\n",
              "      <td>NaN</td>\n",
              "      <td>16.0</td>\n",
              "      <td>NaN</td>\n",
              "      <td>Эндрю Хэй</td>\n",
              "      <td>Александра Риддлстон-Барретт, Джеральдин Джейм...</td>\n",
              "      <td>Шарлотта Рэмплинг, Том Кортни, Джеральдин Джей...</td>\n",
              "      <td>45, лет, 2015, Великобритания, брак, жизнь, лю...</td>\n",
              "    </tr>\n",
              "    <tr>\n",
              "      <th>4</th>\n",
              "      <td>16268</td>\n",
              "      <td>film</td>\n",
              "      <td>Все решает мгновение</td>\n",
              "      <td>NaN</td>\n",
              "      <td>1978.0</td>\n",
              "      <td>драмы, спорт, советские, мелодрамы</td>\n",
              "      <td>СССР</td>\n",
              "      <td>NaN</td>\n",
              "      <td>12.0</td>\n",
              "      <td>Ленфильм</td>\n",
              "      <td>Виктор Садовский</td>\n",
              "      <td>Александр Абдулов, Александр Демьяненко, Алекс...</td>\n",
              "      <td>Расчетливая чаровница из советского кинохита «...</td>\n",
              "      <td>Все, решает, мгновение, 1978, СССР, сильные, ж...</td>\n",
              "    </tr>\n",
              "  </tbody>\n",
              "</table>\n",
              "</div>\n",
              "      <button class=\"colab-df-convert\" onclick=\"convertToInteractive('df-c9914840-2646-4212-bd1a-c17cdd2aaa84')\"\n",
              "              title=\"Convert this dataframe to an interactive table.\"\n",
              "              style=\"display:none;\">\n",
              "        \n",
              "  <svg xmlns=\"http://www.w3.org/2000/svg\" height=\"24px\"viewBox=\"0 0 24 24\"\n",
              "       width=\"24px\">\n",
              "    <path d=\"M0 0h24v24H0V0z\" fill=\"none\"/>\n",
              "    <path d=\"M18.56 5.44l.94 2.06.94-2.06 2.06-.94-2.06-.94-.94-2.06-.94 2.06-2.06.94zm-11 1L8.5 8.5l.94-2.06 2.06-.94-2.06-.94L8.5 2.5l-.94 2.06-2.06.94zm10 10l.94 2.06.94-2.06 2.06-.94-2.06-.94-.94-2.06-.94 2.06-2.06.94z\"/><path d=\"M17.41 7.96l-1.37-1.37c-.4-.4-.92-.59-1.43-.59-.52 0-1.04.2-1.43.59L10.3 9.45l-7.72 7.72c-.78.78-.78 2.05 0 2.83L4 21.41c.39.39.9.59 1.41.59.51 0 1.02-.2 1.41-.59l7.78-7.78 2.81-2.81c.8-.78.8-2.07 0-2.86zM5.41 20L4 18.59l7.72-7.72 1.47 1.35L5.41 20z\"/>\n",
              "  </svg>\n",
              "      </button>\n",
              "      \n",
              "  <style>\n",
              "    .colab-df-container {\n",
              "      display:flex;\n",
              "      flex-wrap:wrap;\n",
              "      gap: 12px;\n",
              "    }\n",
              "\n",
              "    .colab-df-convert {\n",
              "      background-color: #E8F0FE;\n",
              "      border: none;\n",
              "      border-radius: 50%;\n",
              "      cursor: pointer;\n",
              "      display: none;\n",
              "      fill: #1967D2;\n",
              "      height: 32px;\n",
              "      padding: 0 0 0 0;\n",
              "      width: 32px;\n",
              "    }\n",
              "\n",
              "    .colab-df-convert:hover {\n",
              "      background-color: #E2EBFA;\n",
              "      box-shadow: 0px 1px 2px rgba(60, 64, 67, 0.3), 0px 1px 3px 1px rgba(60, 64, 67, 0.15);\n",
              "      fill: #174EA6;\n",
              "    }\n",
              "\n",
              "    [theme=dark] .colab-df-convert {\n",
              "      background-color: #3B4455;\n",
              "      fill: #D2E3FC;\n",
              "    }\n",
              "\n",
              "    [theme=dark] .colab-df-convert:hover {\n",
              "      background-color: #434B5C;\n",
              "      box-shadow: 0px 1px 3px 1px rgba(0, 0, 0, 0.15);\n",
              "      filter: drop-shadow(0px 1px 2px rgba(0, 0, 0, 0.3));\n",
              "      fill: #FFFFFF;\n",
              "    }\n",
              "  </style>\n",
              "\n",
              "      <script>\n",
              "        const buttonEl =\n",
              "          document.querySelector('#df-c9914840-2646-4212-bd1a-c17cdd2aaa84 button.colab-df-convert');\n",
              "        buttonEl.style.display =\n",
              "          google.colab.kernel.accessAllowed ? 'block' : 'none';\n",
              "\n",
              "        async function convertToInteractive(key) {\n",
              "          const element = document.querySelector('#df-c9914840-2646-4212-bd1a-c17cdd2aaa84');\n",
              "          const dataTable =\n",
              "            await google.colab.kernel.invokeFunction('convertToInteractive',\n",
              "                                                     [key], {});\n",
              "          if (!dataTable) return;\n",
              "\n",
              "          const docLinkHtml = 'Like what you see? Visit the ' +\n",
              "            '<a target=\"_blank\" href=https://colab.research.google.com/notebooks/data_table.ipynb>data table notebook</a>'\n",
              "            + ' to learn more about interactive tables.';\n",
              "          element.innerHTML = '';\n",
              "          dataTable['output_type'] = 'display_data';\n",
              "          await google.colab.output.renderOutput(dataTable, element);\n",
              "          const docLink = document.createElement('div');\n",
              "          docLink.innerHTML = docLinkHtml;\n",
              "          element.appendChild(docLink);\n",
              "        }\n",
              "      </script>\n",
              "    </div>\n",
              "  </div>\n",
              "  "
            ]
          },
          "metadata": {},
          "execution_count": 218
        }
      ],
      "source": [
        "items.head()"
      ]
    },
    {
      "cell_type": "code",
      "execution_count": 219,
      "metadata": {
        "colab": {
          "base_uri": "https://localhost:8080/"
        },
        "id": "Zq3P7-kFg9p1",
        "outputId": "12ac6dd7-58fa-473f-f7b0-b5d4159040c9"
      },
      "outputs": [
        {
          "output_type": "execute_result",
          "data": {
            "text/plain": [
              "item_id         14019\n",
              "content_type        2\n",
              "title           13454\n",
              "title_orig       9724\n",
              "release_year      104\n",
              "genres           2559\n",
              "countries         666\n",
              "for_kids            2\n",
              "age_rating          6\n",
              "studios            38\n",
              "directors        7414\n",
              "actors          11830\n",
              "description     13791\n",
              "keywords        13583\n",
              "dtype: int64"
            ]
          },
          "metadata": {},
          "execution_count": 219
        }
      ],
      "source": [
        "items.nunique()"
      ]
    },
    {
      "cell_type": "code",
      "execution_count": 220,
      "metadata": {
        "colab": {
          "base_uri": "https://localhost:8080/",
          "height": 206
        },
        "id": "1dQn-FpDg9p1",
        "outputId": "64612337-4bcf-4122-c6ff-4ace432f6c5e"
      },
      "outputs": [
        {
          "output_type": "execute_result",
          "data": {
            "text/plain": [
              "      id       value feature\n",
              "0  10711       драмы   genre\n",
              "0  10711  зарубежные   genre\n",
              "0  10711   детективы   genre\n",
              "0  10711   мелодрамы   genre\n",
              "1   2508  зарубежные   genre"
            ],
            "text/html": [
              "\n",
              "  <div id=\"df-6e455a14-b2c5-43f1-9c94-e81aeba60795\">\n",
              "    <div class=\"colab-df-container\">\n",
              "      <div>\n",
              "<style scoped>\n",
              "    .dataframe tbody tr th:only-of-type {\n",
              "        vertical-align: middle;\n",
              "    }\n",
              "\n",
              "    .dataframe tbody tr th {\n",
              "        vertical-align: top;\n",
              "    }\n",
              "\n",
              "    .dataframe thead th {\n",
              "        text-align: right;\n",
              "    }\n",
              "</style>\n",
              "<table border=\"1\" class=\"dataframe\">\n",
              "  <thead>\n",
              "    <tr style=\"text-align: right;\">\n",
              "      <th></th>\n",
              "      <th>id</th>\n",
              "      <th>value</th>\n",
              "      <th>feature</th>\n",
              "    </tr>\n",
              "  </thead>\n",
              "  <tbody>\n",
              "    <tr>\n",
              "      <th>0</th>\n",
              "      <td>10711</td>\n",
              "      <td>драмы</td>\n",
              "      <td>genre</td>\n",
              "    </tr>\n",
              "    <tr>\n",
              "      <th>0</th>\n",
              "      <td>10711</td>\n",
              "      <td>зарубежные</td>\n",
              "      <td>genre</td>\n",
              "    </tr>\n",
              "    <tr>\n",
              "      <th>0</th>\n",
              "      <td>10711</td>\n",
              "      <td>детективы</td>\n",
              "      <td>genre</td>\n",
              "    </tr>\n",
              "    <tr>\n",
              "      <th>0</th>\n",
              "      <td>10711</td>\n",
              "      <td>мелодрамы</td>\n",
              "      <td>genre</td>\n",
              "    </tr>\n",
              "    <tr>\n",
              "      <th>1</th>\n",
              "      <td>2508</td>\n",
              "      <td>зарубежные</td>\n",
              "      <td>genre</td>\n",
              "    </tr>\n",
              "  </tbody>\n",
              "</table>\n",
              "</div>\n",
              "      <button class=\"colab-df-convert\" onclick=\"convertToInteractive('df-6e455a14-b2c5-43f1-9c94-e81aeba60795')\"\n",
              "              title=\"Convert this dataframe to an interactive table.\"\n",
              "              style=\"display:none;\">\n",
              "        \n",
              "  <svg xmlns=\"http://www.w3.org/2000/svg\" height=\"24px\"viewBox=\"0 0 24 24\"\n",
              "       width=\"24px\">\n",
              "    <path d=\"M0 0h24v24H0V0z\" fill=\"none\"/>\n",
              "    <path d=\"M18.56 5.44l.94 2.06.94-2.06 2.06-.94-2.06-.94-.94-2.06-.94 2.06-2.06.94zm-11 1L8.5 8.5l.94-2.06 2.06-.94-2.06-.94L8.5 2.5l-.94 2.06-2.06.94zm10 10l.94 2.06.94-2.06 2.06-.94-2.06-.94-.94-2.06-.94 2.06-2.06.94z\"/><path d=\"M17.41 7.96l-1.37-1.37c-.4-.4-.92-.59-1.43-.59-.52 0-1.04.2-1.43.59L10.3 9.45l-7.72 7.72c-.78.78-.78 2.05 0 2.83L4 21.41c.39.39.9.59 1.41.59.51 0 1.02-.2 1.41-.59l7.78-7.78 2.81-2.81c.8-.78.8-2.07 0-2.86zM5.41 20L4 18.59l7.72-7.72 1.47 1.35L5.41 20z\"/>\n",
              "  </svg>\n",
              "      </button>\n",
              "      \n",
              "  <style>\n",
              "    .colab-df-container {\n",
              "      display:flex;\n",
              "      flex-wrap:wrap;\n",
              "      gap: 12px;\n",
              "    }\n",
              "\n",
              "    .colab-df-convert {\n",
              "      background-color: #E8F0FE;\n",
              "      border: none;\n",
              "      border-radius: 50%;\n",
              "      cursor: pointer;\n",
              "      display: none;\n",
              "      fill: #1967D2;\n",
              "      height: 32px;\n",
              "      padding: 0 0 0 0;\n",
              "      width: 32px;\n",
              "    }\n",
              "\n",
              "    .colab-df-convert:hover {\n",
              "      background-color: #E2EBFA;\n",
              "      box-shadow: 0px 1px 2px rgba(60, 64, 67, 0.3), 0px 1px 3px 1px rgba(60, 64, 67, 0.15);\n",
              "      fill: #174EA6;\n",
              "    }\n",
              "\n",
              "    [theme=dark] .colab-df-convert {\n",
              "      background-color: #3B4455;\n",
              "      fill: #D2E3FC;\n",
              "    }\n",
              "\n",
              "    [theme=dark] .colab-df-convert:hover {\n",
              "      background-color: #434B5C;\n",
              "      box-shadow: 0px 1px 3px 1px rgba(0, 0, 0, 0.15);\n",
              "      filter: drop-shadow(0px 1px 2px rgba(0, 0, 0, 0.3));\n",
              "      fill: #FFFFFF;\n",
              "    }\n",
              "  </style>\n",
              "\n",
              "      <script>\n",
              "        const buttonEl =\n",
              "          document.querySelector('#df-6e455a14-b2c5-43f1-9c94-e81aeba60795 button.colab-df-convert');\n",
              "        buttonEl.style.display =\n",
              "          google.colab.kernel.accessAllowed ? 'block' : 'none';\n",
              "\n",
              "        async function convertToInteractive(key) {\n",
              "          const element = document.querySelector('#df-6e455a14-b2c5-43f1-9c94-e81aeba60795');\n",
              "          const dataTable =\n",
              "            await google.colab.kernel.invokeFunction('convertToInteractive',\n",
              "                                                     [key], {});\n",
              "          if (!dataTable) return;\n",
              "\n",
              "          const docLinkHtml = 'Like what you see? Visit the ' +\n",
              "            '<a target=\"_blank\" href=https://colab.research.google.com/notebooks/data_table.ipynb>data table notebook</a>'\n",
              "            + ' to learn more about interactive tables.';\n",
              "          element.innerHTML = '';\n",
              "          dataTable['output_type'] = 'display_data';\n",
              "          await google.colab.output.renderOutput(dataTable, element);\n",
              "          const docLink = document.createElement('div');\n",
              "          docLink.innerHTML = docLinkHtml;\n",
              "          element.appendChild(docLink);\n",
              "        }\n",
              "      </script>\n",
              "    </div>\n",
              "  </div>\n",
              "  "
            ]
          },
          "metadata": {},
          "execution_count": 220
        }
      ],
      "source": [
        "# Explode genres to flatten table\n",
        "items[\"genre\"] = items[\"genres\"].str.lower().str.replace(\", \", \",\", regex=False).str.split(\",\")\n",
        "genre_feature = items[[\"item_id\", \"genre\"]].explode(\"genre\")\n",
        "genre_feature.columns = [\"id\", \"value\"]\n",
        "genre_feature[\"feature\"] = \"genre\"\n",
        "genre_feature.head()"
      ]
    },
    {
      "cell_type": "code",
      "execution_count": 221,
      "metadata": {
        "id": "JJQp8iV9g9p2"
      },
      "outputs": [],
      "source": [
        "content_feature = items.reindex(columns=[Columns.Item, \"content_type\"])\n",
        "content_feature.columns = [\"id\", \"value\"]\n",
        "content_feature[\"feature\"] = \"content_type\""
      ]
    },
    {
      "cell_type": "code",
      "execution_count": 222,
      "metadata": {
        "colab": {
          "base_uri": "https://localhost:8080/",
          "height": 424
        },
        "id": "X_De8Z9hg9p2",
        "outputId": "708fe649-faeb-416f-fdf4-a564251627b5"
      },
      "outputs": [
        {
          "output_type": "execute_result",
          "data": {
            "text/plain": [
              "          id   value       feature\n",
              "0      10711    film  content_type\n",
              "1       2508    film  content_type\n",
              "2      10716    film  content_type\n",
              "3       7868    film  content_type\n",
              "4      16268    film  content_type\n",
              "...      ...     ...           ...\n",
              "15958   6443  series  content_type\n",
              "15959   2367  series  content_type\n",
              "15960  10632  series  content_type\n",
              "15961   4538  series  content_type\n",
              "15962   3206  series  content_type\n",
              "\n",
              "[14019 rows x 3 columns]"
            ],
            "text/html": [
              "\n",
              "  <div id=\"df-4797f9d7-2e51-426d-a85c-3c15696d19f7\">\n",
              "    <div class=\"colab-df-container\">\n",
              "      <div>\n",
              "<style scoped>\n",
              "    .dataframe tbody tr th:only-of-type {\n",
              "        vertical-align: middle;\n",
              "    }\n",
              "\n",
              "    .dataframe tbody tr th {\n",
              "        vertical-align: top;\n",
              "    }\n",
              "\n",
              "    .dataframe thead th {\n",
              "        text-align: right;\n",
              "    }\n",
              "</style>\n",
              "<table border=\"1\" class=\"dataframe\">\n",
              "  <thead>\n",
              "    <tr style=\"text-align: right;\">\n",
              "      <th></th>\n",
              "      <th>id</th>\n",
              "      <th>value</th>\n",
              "      <th>feature</th>\n",
              "    </tr>\n",
              "  </thead>\n",
              "  <tbody>\n",
              "    <tr>\n",
              "      <th>0</th>\n",
              "      <td>10711</td>\n",
              "      <td>film</td>\n",
              "      <td>content_type</td>\n",
              "    </tr>\n",
              "    <tr>\n",
              "      <th>1</th>\n",
              "      <td>2508</td>\n",
              "      <td>film</td>\n",
              "      <td>content_type</td>\n",
              "    </tr>\n",
              "    <tr>\n",
              "      <th>2</th>\n",
              "      <td>10716</td>\n",
              "      <td>film</td>\n",
              "      <td>content_type</td>\n",
              "    </tr>\n",
              "    <tr>\n",
              "      <th>3</th>\n",
              "      <td>7868</td>\n",
              "      <td>film</td>\n",
              "      <td>content_type</td>\n",
              "    </tr>\n",
              "    <tr>\n",
              "      <th>4</th>\n",
              "      <td>16268</td>\n",
              "      <td>film</td>\n",
              "      <td>content_type</td>\n",
              "    </tr>\n",
              "    <tr>\n",
              "      <th>...</th>\n",
              "      <td>...</td>\n",
              "      <td>...</td>\n",
              "      <td>...</td>\n",
              "    </tr>\n",
              "    <tr>\n",
              "      <th>15958</th>\n",
              "      <td>6443</td>\n",
              "      <td>series</td>\n",
              "      <td>content_type</td>\n",
              "    </tr>\n",
              "    <tr>\n",
              "      <th>15959</th>\n",
              "      <td>2367</td>\n",
              "      <td>series</td>\n",
              "      <td>content_type</td>\n",
              "    </tr>\n",
              "    <tr>\n",
              "      <th>15960</th>\n",
              "      <td>10632</td>\n",
              "      <td>series</td>\n",
              "      <td>content_type</td>\n",
              "    </tr>\n",
              "    <tr>\n",
              "      <th>15961</th>\n",
              "      <td>4538</td>\n",
              "      <td>series</td>\n",
              "      <td>content_type</td>\n",
              "    </tr>\n",
              "    <tr>\n",
              "      <th>15962</th>\n",
              "      <td>3206</td>\n",
              "      <td>series</td>\n",
              "      <td>content_type</td>\n",
              "    </tr>\n",
              "  </tbody>\n",
              "</table>\n",
              "<p>14019 rows × 3 columns</p>\n",
              "</div>\n",
              "      <button class=\"colab-df-convert\" onclick=\"convertToInteractive('df-4797f9d7-2e51-426d-a85c-3c15696d19f7')\"\n",
              "              title=\"Convert this dataframe to an interactive table.\"\n",
              "              style=\"display:none;\">\n",
              "        \n",
              "  <svg xmlns=\"http://www.w3.org/2000/svg\" height=\"24px\"viewBox=\"0 0 24 24\"\n",
              "       width=\"24px\">\n",
              "    <path d=\"M0 0h24v24H0V0z\" fill=\"none\"/>\n",
              "    <path d=\"M18.56 5.44l.94 2.06.94-2.06 2.06-.94-2.06-.94-.94-2.06-.94 2.06-2.06.94zm-11 1L8.5 8.5l.94-2.06 2.06-.94-2.06-.94L8.5 2.5l-.94 2.06-2.06.94zm10 10l.94 2.06.94-2.06 2.06-.94-2.06-.94-.94-2.06-.94 2.06-2.06.94z\"/><path d=\"M17.41 7.96l-1.37-1.37c-.4-.4-.92-.59-1.43-.59-.52 0-1.04.2-1.43.59L10.3 9.45l-7.72 7.72c-.78.78-.78 2.05 0 2.83L4 21.41c.39.39.9.59 1.41.59.51 0 1.02-.2 1.41-.59l7.78-7.78 2.81-2.81c.8-.78.8-2.07 0-2.86zM5.41 20L4 18.59l7.72-7.72 1.47 1.35L5.41 20z\"/>\n",
              "  </svg>\n",
              "      </button>\n",
              "      \n",
              "  <style>\n",
              "    .colab-df-container {\n",
              "      display:flex;\n",
              "      flex-wrap:wrap;\n",
              "      gap: 12px;\n",
              "    }\n",
              "\n",
              "    .colab-df-convert {\n",
              "      background-color: #E8F0FE;\n",
              "      border: none;\n",
              "      border-radius: 50%;\n",
              "      cursor: pointer;\n",
              "      display: none;\n",
              "      fill: #1967D2;\n",
              "      height: 32px;\n",
              "      padding: 0 0 0 0;\n",
              "      width: 32px;\n",
              "    }\n",
              "\n",
              "    .colab-df-convert:hover {\n",
              "      background-color: #E2EBFA;\n",
              "      box-shadow: 0px 1px 2px rgba(60, 64, 67, 0.3), 0px 1px 3px 1px rgba(60, 64, 67, 0.15);\n",
              "      fill: #174EA6;\n",
              "    }\n",
              "\n",
              "    [theme=dark] .colab-df-convert {\n",
              "      background-color: #3B4455;\n",
              "      fill: #D2E3FC;\n",
              "    }\n",
              "\n",
              "    [theme=dark] .colab-df-convert:hover {\n",
              "      background-color: #434B5C;\n",
              "      box-shadow: 0px 1px 3px 1px rgba(0, 0, 0, 0.15);\n",
              "      filter: drop-shadow(0px 1px 2px rgba(0, 0, 0, 0.3));\n",
              "      fill: #FFFFFF;\n",
              "    }\n",
              "  </style>\n",
              "\n",
              "      <script>\n",
              "        const buttonEl =\n",
              "          document.querySelector('#df-4797f9d7-2e51-426d-a85c-3c15696d19f7 button.colab-df-convert');\n",
              "        buttonEl.style.display =\n",
              "          google.colab.kernel.accessAllowed ? 'block' : 'none';\n",
              "\n",
              "        async function convertToInteractive(key) {\n",
              "          const element = document.querySelector('#df-4797f9d7-2e51-426d-a85c-3c15696d19f7');\n",
              "          const dataTable =\n",
              "            await google.colab.kernel.invokeFunction('convertToInteractive',\n",
              "                                                     [key], {});\n",
              "          if (!dataTable) return;\n",
              "\n",
              "          const docLinkHtml = 'Like what you see? Visit the ' +\n",
              "            '<a target=\"_blank\" href=https://colab.research.google.com/notebooks/data_table.ipynb>data table notebook</a>'\n",
              "            + ' to learn more about interactive tables.';\n",
              "          element.innerHTML = '';\n",
              "          dataTable['output_type'] = 'display_data';\n",
              "          await google.colab.output.renderOutput(dataTable, element);\n",
              "          const docLink = document.createElement('div');\n",
              "          docLink.innerHTML = docLinkHtml;\n",
              "          element.appendChild(docLink);\n",
              "        }\n",
              "      </script>\n",
              "    </div>\n",
              "  </div>\n",
              "  "
            ]
          },
          "metadata": {},
          "execution_count": 222
        }
      ],
      "source": [
        "content_feature"
      ]
    },
    {
      "cell_type": "code",
      "execution_count": 223,
      "metadata": {
        "id": "GoBoiT2Cg9p2"
      },
      "outputs": [],
      "source": [
        "item_features = pd.concat((genre_feature, content_feature))"
      ]
    },
    {
      "cell_type": "code",
      "execution_count": 224,
      "metadata": {
        "id": "9tcS71MHg9p2",
        "outputId": "9461dc3a-f548-444a-a410-c32f762618ae",
        "colab": {
          "base_uri": "https://localhost:8080/",
          "height": 424
        }
      },
      "outputs": [
        {
          "output_type": "execute_result",
          "data": {
            "text/plain": [
              "          id       value       feature\n",
              "0      10711       драмы         genre\n",
              "0      10711  зарубежные         genre\n",
              "0      10711   детективы         genre\n",
              "0      10711   мелодрамы         genre\n",
              "1       2508  зарубежные         genre\n",
              "...      ...         ...           ...\n",
              "15958   6443      series  content_type\n",
              "15959   2367      series  content_type\n",
              "15960  10632      series  content_type\n",
              "15961   4538      series  content_type\n",
              "15962   3206      series  content_type\n",
              "\n",
              "[50224 rows x 3 columns]"
            ],
            "text/html": [
              "\n",
              "  <div id=\"df-1d12b704-241d-4ec7-a934-eae33a3271b5\">\n",
              "    <div class=\"colab-df-container\">\n",
              "      <div>\n",
              "<style scoped>\n",
              "    .dataframe tbody tr th:only-of-type {\n",
              "        vertical-align: middle;\n",
              "    }\n",
              "\n",
              "    .dataframe tbody tr th {\n",
              "        vertical-align: top;\n",
              "    }\n",
              "\n",
              "    .dataframe thead th {\n",
              "        text-align: right;\n",
              "    }\n",
              "</style>\n",
              "<table border=\"1\" class=\"dataframe\">\n",
              "  <thead>\n",
              "    <tr style=\"text-align: right;\">\n",
              "      <th></th>\n",
              "      <th>id</th>\n",
              "      <th>value</th>\n",
              "      <th>feature</th>\n",
              "    </tr>\n",
              "  </thead>\n",
              "  <tbody>\n",
              "    <tr>\n",
              "      <th>0</th>\n",
              "      <td>10711</td>\n",
              "      <td>драмы</td>\n",
              "      <td>genre</td>\n",
              "    </tr>\n",
              "    <tr>\n",
              "      <th>0</th>\n",
              "      <td>10711</td>\n",
              "      <td>зарубежные</td>\n",
              "      <td>genre</td>\n",
              "    </tr>\n",
              "    <tr>\n",
              "      <th>0</th>\n",
              "      <td>10711</td>\n",
              "      <td>детективы</td>\n",
              "      <td>genre</td>\n",
              "    </tr>\n",
              "    <tr>\n",
              "      <th>0</th>\n",
              "      <td>10711</td>\n",
              "      <td>мелодрамы</td>\n",
              "      <td>genre</td>\n",
              "    </tr>\n",
              "    <tr>\n",
              "      <th>1</th>\n",
              "      <td>2508</td>\n",
              "      <td>зарубежные</td>\n",
              "      <td>genre</td>\n",
              "    </tr>\n",
              "    <tr>\n",
              "      <th>...</th>\n",
              "      <td>...</td>\n",
              "      <td>...</td>\n",
              "      <td>...</td>\n",
              "    </tr>\n",
              "    <tr>\n",
              "      <th>15958</th>\n",
              "      <td>6443</td>\n",
              "      <td>series</td>\n",
              "      <td>content_type</td>\n",
              "    </tr>\n",
              "    <tr>\n",
              "      <th>15959</th>\n",
              "      <td>2367</td>\n",
              "      <td>series</td>\n",
              "      <td>content_type</td>\n",
              "    </tr>\n",
              "    <tr>\n",
              "      <th>15960</th>\n",
              "      <td>10632</td>\n",
              "      <td>series</td>\n",
              "      <td>content_type</td>\n",
              "    </tr>\n",
              "    <tr>\n",
              "      <th>15961</th>\n",
              "      <td>4538</td>\n",
              "      <td>series</td>\n",
              "      <td>content_type</td>\n",
              "    </tr>\n",
              "    <tr>\n",
              "      <th>15962</th>\n",
              "      <td>3206</td>\n",
              "      <td>series</td>\n",
              "      <td>content_type</td>\n",
              "    </tr>\n",
              "  </tbody>\n",
              "</table>\n",
              "<p>50224 rows × 3 columns</p>\n",
              "</div>\n",
              "      <button class=\"colab-df-convert\" onclick=\"convertToInteractive('df-1d12b704-241d-4ec7-a934-eae33a3271b5')\"\n",
              "              title=\"Convert this dataframe to an interactive table.\"\n",
              "              style=\"display:none;\">\n",
              "        \n",
              "  <svg xmlns=\"http://www.w3.org/2000/svg\" height=\"24px\"viewBox=\"0 0 24 24\"\n",
              "       width=\"24px\">\n",
              "    <path d=\"M0 0h24v24H0V0z\" fill=\"none\"/>\n",
              "    <path d=\"M18.56 5.44l.94 2.06.94-2.06 2.06-.94-2.06-.94-.94-2.06-.94 2.06-2.06.94zm-11 1L8.5 8.5l.94-2.06 2.06-.94-2.06-.94L8.5 2.5l-.94 2.06-2.06.94zm10 10l.94 2.06.94-2.06 2.06-.94-2.06-.94-.94-2.06-.94 2.06-2.06.94z\"/><path d=\"M17.41 7.96l-1.37-1.37c-.4-.4-.92-.59-1.43-.59-.52 0-1.04.2-1.43.59L10.3 9.45l-7.72 7.72c-.78.78-.78 2.05 0 2.83L4 21.41c.39.39.9.59 1.41.59.51 0 1.02-.2 1.41-.59l7.78-7.78 2.81-2.81c.8-.78.8-2.07 0-2.86zM5.41 20L4 18.59l7.72-7.72 1.47 1.35L5.41 20z\"/>\n",
              "  </svg>\n",
              "      </button>\n",
              "      \n",
              "  <style>\n",
              "    .colab-df-container {\n",
              "      display:flex;\n",
              "      flex-wrap:wrap;\n",
              "      gap: 12px;\n",
              "    }\n",
              "\n",
              "    .colab-df-convert {\n",
              "      background-color: #E8F0FE;\n",
              "      border: none;\n",
              "      border-radius: 50%;\n",
              "      cursor: pointer;\n",
              "      display: none;\n",
              "      fill: #1967D2;\n",
              "      height: 32px;\n",
              "      padding: 0 0 0 0;\n",
              "      width: 32px;\n",
              "    }\n",
              "\n",
              "    .colab-df-convert:hover {\n",
              "      background-color: #E2EBFA;\n",
              "      box-shadow: 0px 1px 2px rgba(60, 64, 67, 0.3), 0px 1px 3px 1px rgba(60, 64, 67, 0.15);\n",
              "      fill: #174EA6;\n",
              "    }\n",
              "\n",
              "    [theme=dark] .colab-df-convert {\n",
              "      background-color: #3B4455;\n",
              "      fill: #D2E3FC;\n",
              "    }\n",
              "\n",
              "    [theme=dark] .colab-df-convert:hover {\n",
              "      background-color: #434B5C;\n",
              "      box-shadow: 0px 1px 3px 1px rgba(0, 0, 0, 0.15);\n",
              "      filter: drop-shadow(0px 1px 2px rgba(0, 0, 0, 0.3));\n",
              "      fill: #FFFFFF;\n",
              "    }\n",
              "  </style>\n",
              "\n",
              "      <script>\n",
              "        const buttonEl =\n",
              "          document.querySelector('#df-1d12b704-241d-4ec7-a934-eae33a3271b5 button.colab-df-convert');\n",
              "        buttonEl.style.display =\n",
              "          google.colab.kernel.accessAllowed ? 'block' : 'none';\n",
              "\n",
              "        async function convertToInteractive(key) {\n",
              "          const element = document.querySelector('#df-1d12b704-241d-4ec7-a934-eae33a3271b5');\n",
              "          const dataTable =\n",
              "            await google.colab.kernel.invokeFunction('convertToInteractive',\n",
              "                                                     [key], {});\n",
              "          if (!dataTable) return;\n",
              "\n",
              "          const docLinkHtml = 'Like what you see? Visit the ' +\n",
              "            '<a target=\"_blank\" href=https://colab.research.google.com/notebooks/data_table.ipynb>data table notebook</a>'\n",
              "            + ' to learn more about interactive tables.';\n",
              "          element.innerHTML = '';\n",
              "          dataTable['output_type'] = 'display_data';\n",
              "          await google.colab.output.renderOutput(dataTable, element);\n",
              "          const docLink = document.createElement('div');\n",
              "          docLink.innerHTML = docLinkHtml;\n",
              "          element.appendChild(docLink);\n",
              "        }\n",
              "      </script>\n",
              "    </div>\n",
              "  </div>\n",
              "  "
            ]
          },
          "metadata": {},
          "execution_count": 224
        }
      ],
      "source": [
        "item_features"
      ]
    },
    {
      "cell_type": "markdown",
      "source": [
        "# Hyperparameters search(Optuna)"
      ],
      "metadata": {
        "id": "9HiBhhXVqzYE"
      }
    },
    {
      "cell_type": "markdown",
      "source": [
        "Подберем гиперпараметры для LightFM и ALS "
      ],
      "metadata": {
        "id": "J60OHjGa6BCv"
      }
    },
    {
      "cell_type": "code",
      "source": [
        "K_RECOS = 10\n",
        "RANDOM_STATE = 42\n",
        "NUM_THREADS = 16\n",
        "N_TRIALS = 15\n",
        "LOSS = 'warp'"
      ],
      "metadata": {
        "id": "RXNLa9EuscMo"
      },
      "execution_count": 225,
      "outputs": []
    },
    {
      "cell_type": "code",
      "source": [
        "%%time\n",
        "dataset = Dataset.construct(\n",
        "    interactions_df=train,\n",
        "    user_features_df=user_features,\n",
        "    cat_user_features=[\"sex\", \"age\", \"income\"],\n",
        "    item_features_df=item_features,\n",
        "    cat_item_features=[\"genre\", \"content_type\"],\n",
        ")"
      ],
      "metadata": {
        "colab": {
          "base_uri": "https://localhost:8080/"
        },
        "id": "hEuETEk8tlv4",
        "outputId": "747b434f-e800-4307-df62-e6a1a96c5460"
      },
      "execution_count": null,
      "outputs": [
        {
          "output_type": "stream",
          "name": "stdout",
          "text": [
            "CPU times: user 1.87 s, sys: 15.1 ms, total: 1.88 s\n",
            "Wall time: 1.91 s\n"
          ]
        }
      ]
    },
    {
      "cell_type": "code",
      "source": [
        "TEST_USERS = test[Columns.User].unique()"
      ],
      "metadata": {
        "id": "dqb5YaPHt0vM"
      },
      "execution_count": null,
      "outputs": []
    },
    {
      "cell_type": "code",
      "source": [
        "def objective(trial):\n",
        "    n_factors = trial.suggest_int('no_components', 16, 64, step=16)\n",
        "    lr = trial.suggest_float('learning_rate', 1e-5, 1e-2, log = True)\n",
        "    \n",
        "    lightfm = LightFMWrapperModel(\n",
        "        LightFM(\n",
        "            no_components=n_factors,\n",
        "            loss=LOSS,\n",
        "            learning_rate=lr,\n",
        "            random_state=RANDOM_STATE\n",
        "        ),\n",
        "        num_threads=NUM_THREADS,\n",
        "    )\n",
        "    \n",
        "    lightfm.fit(dataset)\n",
        "\n",
        "    recos = lightfm.recommend(\n",
        "        users=TEST_USERS,\n",
        "        dataset=dataset,\n",
        "        k=K_RECOS,\n",
        "        filter_viewed=True,\n",
        "    )\n",
        "    \n",
        "    map_10 = MAP(k=K_RECOS).calc(recos, test)\n",
        "    return map_10"
      ],
      "metadata": {
        "id": "LkOek50uq4Zv"
      },
      "execution_count": null,
      "outputs": []
    },
    {
      "cell_type": "code",
      "source": [
        "study = optuna.create_study(direction=\"maximize\")\n",
        "study.optimize(objective, n_trials=N_TRIALS)\n",
        "\n",
        "print(\"Number of finished trials: {}\".format(len(study.trials)))\n",
        "\n",
        "print(\"Best trial:\")\n",
        "trial = study.best_trial\n",
        "\n",
        "print(\"  Value: {}\".format(trial.value))\n",
        "\n",
        "print(\"  Params: \")\n",
        "for key, value in trial.params.items():\n",
        "    print(\"    {}: {}\".format(key, value))"
      ],
      "metadata": {
        "colab": {
          "base_uri": "https://localhost:8080/"
        },
        "id": "ppsuRwzsvjKt",
        "outputId": "b2a18d66-9535-463c-ece9-5d11a929bd10"
      },
      "execution_count": null,
      "outputs": [
        {
          "output_type": "stream",
          "name": "stderr",
          "text": [
            "\u001b[32m[I 2022-12-11 14:54:26,818]\u001b[0m A new study created in memory with name: no-name-6eb51dca-7046-40f9-bb83-a53b4ea65163\u001b[0m\n",
            "\u001b[32m[I 2022-12-11 14:56:01,026]\u001b[0m Trial 0 finished with value: 0.009432127264212135 and parameters: {'no_components': 32, 'learning_rate': 0.00013870722039573694}. Best is trial 0 with value: 0.009432127264212135.\u001b[0m\n",
            "\u001b[32m[I 2022-12-11 14:57:30,592]\u001b[0m Trial 1 finished with value: 0.0679174610090235 and parameters: {'no_components': 32, 'learning_rate': 0.0005553736722823529}. Best is trial 1 with value: 0.0679174610090235.\u001b[0m\n",
            "\u001b[32m[I 2022-12-11 14:58:47,242]\u001b[0m Trial 2 finished with value: 0.009357366662305697 and parameters: {'no_components': 16, 'learning_rate': 0.00019358437778645675}. Best is trial 1 with value: 0.0679174610090235.\u001b[0m\n",
            "\u001b[32m[I 2022-12-11 15:00:01,740]\u001b[0m Trial 3 finished with value: 0.0675838359279414 and parameters: {'no_components': 16, 'learning_rate': 0.00043558535255909373}. Best is trial 1 with value: 0.0679174610090235.\u001b[0m\n",
            "\u001b[32m[I 2022-12-11 15:01:15,576]\u001b[0m Trial 4 finished with value: 0.00044275717791796335 and parameters: {'no_components': 16, 'learning_rate': 3.819934047976136e-05}. Best is trial 1 with value: 0.0679174610090235.\u001b[0m\n",
            "\u001b[32m[I 2022-12-11 15:03:01,030]\u001b[0m Trial 5 finished with value: 0.07062663961061656 and parameters: {'no_components': 64, 'learning_rate': 0.0004762526492256823}. Best is trial 5 with value: 0.07062663961061656.\u001b[0m\n",
            "\u001b[32m[I 2022-12-11 15:04:41,641]\u001b[0m Trial 6 finished with value: 0.06888353874315703 and parameters: {'no_components': 64, 'learning_rate': 0.0012133369106361223}. Best is trial 5 with value: 0.07062663961061656.\u001b[0m\n",
            "\u001b[32m[I 2022-12-11 15:06:00,624]\u001b[0m Trial 7 finished with value: 0.06579726610735548 and parameters: {'no_components': 32, 'learning_rate': 0.0002772881251601052}. Best is trial 5 with value: 0.07062663961061656.\u001b[0m\n",
            "\u001b[32m[I 2022-12-11 15:07:21,995]\u001b[0m Trial 8 finished with value: 0.0004091174531922424 and parameters: {'no_components': 32, 'learning_rate': 2.616899064108362e-05}. Best is trial 5 with value: 0.07062663961061656.\u001b[0m\n",
            "\u001b[32m[I 2022-12-11 15:08:57,302]\u001b[0m Trial 9 finished with value: 0.0006120162935282715 and parameters: {'no_components': 48, 'learning_rate': 1.131303353467306e-05}. Best is trial 5 with value: 0.07062663961061656.\u001b[0m\n",
            "\u001b[32m[I 2022-12-11 15:10:37,125]\u001b[0m Trial 10 finished with value: 0.077786760761296 and parameters: {'no_components': 64, 'learning_rate': 0.007636781385955923}. Best is trial 10 with value: 0.077786760761296.\u001b[0m\n",
            "\u001b[32m[I 2022-12-11 15:12:18,079]\u001b[0m Trial 11 finished with value: 0.07556222421470836 and parameters: {'no_components': 64, 'learning_rate': 0.007948848157986126}. Best is trial 10 with value: 0.077786760761296.\u001b[0m\n",
            "\u001b[32m[I 2022-12-11 15:14:02,814]\u001b[0m Trial 12 finished with value: 0.07723159513632995 and parameters: {'no_components': 64, 'learning_rate': 0.00978288417795273}. Best is trial 10 with value: 0.077786760761296.\u001b[0m\n",
            "\u001b[32m[I 2022-12-11 15:15:31,833]\u001b[0m Trial 13 finished with value: 0.07854116391924246 and parameters: {'no_components': 48, 'learning_rate': 0.009507555095601732}. Best is trial 13 with value: 0.07854116391924246.\u001b[0m\n",
            "\u001b[32m[I 2022-12-11 15:17:01,791]\u001b[0m Trial 14 finished with value: 0.0745651548765108 and parameters: {'no_components': 48, 'learning_rate': 0.0024648340898383476}. Best is trial 13 with value: 0.07854116391924246.\u001b[0m\n"
          ]
        },
        {
          "output_type": "stream",
          "name": "stdout",
          "text": [
            "Number of finished trials: 15\n",
            "Best trial:\n",
            "  Value: 0.07854116391924246\n",
            "  Params: \n",
            "    no_components: 48\n",
            "    learning_rate: 0.009507555095601732\n"
          ]
        }
      ]
    },
    {
      "cell_type": "code",
      "source": [
        "def objective(trial):\n",
        "    n_factors = trial.suggest_int('no_components', 16, 64, step=16)\n",
        "    reg = trial.suggest_float('learning_rate', 1e-4, 1e-1, log = True)\n",
        "    \n",
        "    als = ImplicitALSWrapperModel(\n",
        "        AlternatingLeastSquares(\n",
        "            factors=n_factors, \n",
        "            regularization=reg,\n",
        "            random_state=RANDOM_STATE, \n",
        "            num_threads=NUM_THREADS,\n",
        "        ),\n",
        "        fit_features_together=True,\n",
        "    )\n",
        "    \n",
        "    als.fit(dataset)\n",
        "\n",
        "    recos = als.recommend(\n",
        "        users=TEST_USERS,\n",
        "        dataset=dataset,\n",
        "        k=K_RECOS,\n",
        "        filter_viewed=True,\n",
        "    )\n",
        "    \n",
        "    map_10 = MAP(k=K_RECOS).calc(recos, test)\n",
        "    return map_10"
      ],
      "metadata": {
        "id": "gjejV63gqIbT"
      },
      "execution_count": null,
      "outputs": []
    },
    {
      "cell_type": "code",
      "source": [
        "study = optuna.create_study(direction=\"maximize\")\n",
        "study.optimize(objective, n_trials=N_TRIALS)\n",
        "\n",
        "print(\"Number of finished trials: {}\".format(len(study.trials)))\n",
        "\n",
        "print(\"Best trial:\")\n",
        "trial = study.best_trial\n",
        "\n",
        "print(\"  Value: {}\".format(trial.value))\n",
        "\n",
        "print(\"  Params: \")\n",
        "for key, value in trial.params.items():\n",
        "    print(\"    {}: {}\".format(key, value))"
      ],
      "metadata": {
        "colab": {
          "base_uri": "https://localhost:8080/"
        },
        "id": "z42bzLjCqJ8Z",
        "outputId": "27272ce4-547a-4678-a0aa-ad50c6eb2662"
      },
      "execution_count": null,
      "outputs": [
        {
          "output_type": "stream",
          "name": "stderr",
          "text": [
            "\u001b[32m[I 2022-12-11 15:19:31,164]\u001b[0m A new study created in memory with name: no-name-2c87bc5e-c7be-42a1-af2a-f8c5823e9f9c\u001b[0m\n",
            "\u001b[32m[I 2022-12-11 15:21:25,081]\u001b[0m Trial 0 finished with value: 0.07460223241074236 and parameters: {'no_components': 64, 'learning_rate': 0.03542932017866923}. Best is trial 0 with value: 0.07460223241074236.\u001b[0m\n",
            "\u001b[32m[I 2022-12-11 15:23:20,671]\u001b[0m Trial 1 finished with value: 0.07466291097826479 and parameters: {'no_components': 64, 'learning_rate': 0.0014524363870082018}. Best is trial 1 with value: 0.07466291097826479.\u001b[0m\n",
            "WARNING:implicit:GPU training requires factor size to be a multiple of 32. Increasing factors from 16 to 32.\n",
            "\u001b[32m[I 2022-12-11 15:25:03,235]\u001b[0m Trial 2 finished with value: 0.07382740308329078 and parameters: {'no_components': 16, 'learning_rate': 0.025049831594355403}. Best is trial 1 with value: 0.07466291097826479.\u001b[0m\n",
            "WARNING:implicit:GPU training requires factor size to be a multiple of 32. Increasing factors from 48 to 64.\n",
            "\u001b[32m[I 2022-12-11 15:26:56,887]\u001b[0m Trial 3 finished with value: 0.07460267990822674 and parameters: {'no_components': 48, 'learning_rate': 0.0020432489819319027}. Best is trial 1 with value: 0.07466291097826479.\u001b[0m\n",
            "\u001b[32m[I 2022-12-11 15:28:39,990]\u001b[0m Trial 4 finished with value: 0.07403126136111143 and parameters: {'no_components': 32, 'learning_rate': 0.0003418895211759192}. Best is trial 1 with value: 0.07466291097826479.\u001b[0m\n",
            "WARNING:implicit:GPU training requires factor size to be a multiple of 32. Increasing factors from 48 to 64.\n",
            "\u001b[32m[I 2022-12-11 15:30:32,128]\u001b[0m Trial 5 finished with value: 0.0742412118057543 and parameters: {'no_components': 48, 'learning_rate': 0.007241072780661774}. Best is trial 1 with value: 0.07466291097826479.\u001b[0m\n",
            "WARNING:implicit:GPU training requires factor size to be a multiple of 32. Increasing factors from 16 to 32.\n",
            "\u001b[32m[I 2022-12-11 15:32:16,253]\u001b[0m Trial 6 finished with value: 0.0739010910312354 and parameters: {'no_components': 16, 'learning_rate': 0.0004265282386392723}. Best is trial 1 with value: 0.07466291097826479.\u001b[0m\n",
            "\u001b[32m[I 2022-12-11 15:33:56,649]\u001b[0m Trial 7 finished with value: 0.074104543632464 and parameters: {'no_components': 32, 'learning_rate': 0.00017842618351210786}. Best is trial 1 with value: 0.07466291097826479.\u001b[0m\n",
            "WARNING:implicit:GPU training requires factor size to be a multiple of 32. Increasing factors from 16 to 32.\n",
            "\u001b[32m[I 2022-12-11 15:35:38,645]\u001b[0m Trial 8 finished with value: 0.07415995988805946 and parameters: {'no_components': 16, 'learning_rate': 0.028148120680282655}. Best is trial 1 with value: 0.07466291097826479.\u001b[0m\n",
            "WARNING:implicit:GPU training requires factor size to be a multiple of 32. Increasing factors from 48 to 64.\n",
            "\u001b[32m[I 2022-12-11 15:37:31,224]\u001b[0m Trial 9 finished with value: 0.07461084398178966 and parameters: {'no_components': 48, 'learning_rate': 0.0004591280547987425}. Best is trial 1 with value: 0.07466291097826479.\u001b[0m\n",
            "\u001b[32m[I 2022-12-11 15:39:23,277]\u001b[0m Trial 10 finished with value: 0.07468420922877972 and parameters: {'no_components': 64, 'learning_rate': 0.0021226898589793044}. Best is trial 10 with value: 0.07468420922877972.\u001b[0m\n",
            "\u001b[32m[I 2022-12-11 15:41:14,691]\u001b[0m Trial 11 finished with value: 0.0745224290013911 and parameters: {'no_components': 64, 'learning_rate': 0.0019369867104940771}. Best is trial 10 with value: 0.07468420922877972.\u001b[0m\n",
            "\u001b[32m[I 2022-12-11 15:43:04,918]\u001b[0m Trial 12 finished with value: 0.07422101163092719 and parameters: {'no_components': 64, 'learning_rate': 0.005848153237528703}. Best is trial 10 with value: 0.07468420922877972.\u001b[0m\n",
            "\u001b[32m[I 2022-12-11 15:44:53,931]\u001b[0m Trial 13 finished with value: 0.07480028299600754 and parameters: {'no_components': 64, 'learning_rate': 0.001109615409689709}. Best is trial 13 with value: 0.07480028299600754.\u001b[0m\n",
            "WARNING:implicit:GPU training requires factor size to be a multiple of 32. Increasing factors from 48 to 64.\n",
            "\u001b[32m[I 2022-12-11 15:46:45,733]\u001b[0m Trial 14 finished with value: 0.07473901504987482 and parameters: {'no_components': 48, 'learning_rate': 0.000957061799324058}. Best is trial 13 with value: 0.07480028299600754.\u001b[0m\n"
          ]
        },
        {
          "output_type": "stream",
          "name": "stdout",
          "text": [
            "Number of finished trials: 15\n",
            "Best trial:\n",
            "  Value: 0.07480028299600754\n",
            "  Params: \n",
            "    no_components: 64\n",
            "    learning_rate: 0.001109615409689709\n"
          ]
        }
      ]
    },
    {
      "cell_type": "markdown",
      "source": [
        "Обучим лучшую модель на всех данных:"
      ],
      "metadata": {
        "id": "695ZsUpu51hh"
      }
    },
    {
      "cell_type": "code",
      "source": [
        "users_df = users_df.loc[users_df[Columns.User].isin(interactions[Columns.User])]\n",
        "\n",
        "user_features_frames = []\n",
        "for feature in [\"sex\", \"age\", \"income\"]:\n",
        "    feature_frame = users_df.reindex(columns=[Columns.User, feature])\n",
        "    feature_frame.columns = [\"id\", \"value\"]\n",
        "    feature_frame[\"feature\"] = feature\n",
        "    user_features_frames.append(feature_frame)\n",
        "user_features = pd.concat(user_features_frames)"
      ],
      "metadata": {
        "id": "t2Dc5u-Q5rBZ"
      },
      "execution_count": 34,
      "outputs": []
    },
    {
      "cell_type": "code",
      "source": [
        "items_df = items_df.loc[items_df[Columns.Item].isin(interactions[Columns.Item])]\n",
        "\n",
        "items_df[\"genre\"] = items_df[\"genres\"].str.lower().str.replace(\", \", \",\", regex=False).str.split(\",\")\n",
        "genre_feature = items_df[[\"item_id\", \"genre\"]].explode(\"genre\")\n",
        "genre_feature.columns = [\"id\", \"value\"]\n",
        "genre_feature[\"feature\"] = \"genre\"\n",
        "genre_feature.head()\n",
        "\n",
        "content_feature = items_df.reindex(columns=[Columns.Item, \"content_type\"])\n",
        "content_feature.columns = [\"id\", \"value\"]\n",
        "content_feature[\"feature\"] = \"content_type\"\n",
        "\n",
        "item_features = pd.concat((genre_feature, content_feature))"
      ],
      "metadata": {
        "id": "3rJeLXQp6NhW"
      },
      "execution_count": 35,
      "outputs": []
    },
    {
      "cell_type": "code",
      "source": [
        "full_dataset = Dataset.construct(\n",
        "    interactions_df=interactions,\n",
        "    user_features_df=user_features,\n",
        "    cat_user_features=[\"sex\", \"age\", \"income\"],\n",
        "    item_features_df=item_features,\n",
        "    cat_item_features=[\"genre\", \"content_type\"],\n",
        ")"
      ],
      "metadata": {
        "id": "lg8FKZDe55Q_"
      },
      "execution_count": 36,
      "outputs": []
    },
    {
      "cell_type": "code",
      "source": [
        "best_model = LightFMWrapperModel(\n",
        "    LightFM(\n",
        "        no_components=48,\n",
        "        loss=LOSS,\n",
        "        learning_rate=0.0095,\n",
        "        random_state=RANDOM_STATE\n",
        "    ),\n",
        "    num_threads=NUM_THREADS,\n",
        ")\n",
        "    \n",
        "best_model.fit(full_dataset)"
      ],
      "metadata": {
        "colab": {
          "base_uri": "https://localhost:8080/"
        },
        "id": "N9GtDXMO7Qqp",
        "outputId": "b0be78c3-b10e-418b-fbcd-dd6bfba33edf"
      },
      "execution_count": null,
      "outputs": [
        {
          "output_type": "execute_result",
          "data": {
            "text/plain": [
              "<rectools.models.lightfm.LightFMWrapperModel at 0x7f7771dab370>"
            ]
          },
          "metadata": {},
          "execution_count": 128
        }
      ]
    },
    {
      "cell_type": "code",
      "source": [
        "with open('/content/drive/MyDrive/LightFM_best.dill', 'wb') as f:\n",
        "    dill.dump(best_model, f)"
      ],
      "metadata": {
        "id": "stIXaO4J9q3R"
      },
      "execution_count": null,
      "outputs": []
    },
    {
      "cell_type": "code",
      "source": [
        "with open('/content/drive/MyDrive/LightFM_best.dill', 'rb') as f:\n",
        "    best_model = dill.load(f)"
      ],
      "metadata": {
        "id": "hfxG1176NAAu"
      },
      "execution_count": 37,
      "outputs": []
    },
    {
      "cell_type": "code",
      "source": [
        "recos = best_model.recommend(\n",
        "    users=interactions['user_id'].unique(),\n",
        "    dataset=full_dataset,\n",
        "    k=K_RECOS,\n",
        "    filter_viewed=True,\n",
        ")"
      ],
      "metadata": {
        "id": "rn1R9y9156fJ",
        "colab": {
          "base_uri": "https://localhost:8080/",
          "height": 380
        },
        "outputId": "3065b5d1-33af-4e66-c4ec-76512641641e"
      },
      "execution_count": null,
      "outputs": [
        {
          "output_type": "error",
          "ename": "KeyboardInterrupt",
          "evalue": "ignored",
          "traceback": [
            "\u001b[0;31m---------------------------------------------------------------------------\u001b[0m",
            "\u001b[0;31mKeyboardInterrupt\u001b[0m                         Traceback (most recent call last)",
            "\u001b[0;32m<ipython-input-42-39f95aa69a35>\u001b[0m in \u001b[0;36m<module>\u001b[0;34m\u001b[0m\n\u001b[0;32m----> 1\u001b[0;31m recos = best_model.recommend(\n\u001b[0m\u001b[1;32m      2\u001b[0m     \u001b[0musers\u001b[0m\u001b[0;34m=\u001b[0m\u001b[0minteractions\u001b[0m\u001b[0;34m[\u001b[0m\u001b[0;34m'user_id'\u001b[0m\u001b[0;34m]\u001b[0m\u001b[0;34m.\u001b[0m\u001b[0munique\u001b[0m\u001b[0;34m(\u001b[0m\u001b[0;34m)\u001b[0m\u001b[0;34m,\u001b[0m\u001b[0;34m\u001b[0m\u001b[0;34m\u001b[0m\u001b[0m\n\u001b[1;32m      3\u001b[0m     \u001b[0mdataset\u001b[0m\u001b[0;34m=\u001b[0m\u001b[0mfull_dataset\u001b[0m\u001b[0;34m,\u001b[0m\u001b[0;34m\u001b[0m\u001b[0;34m\u001b[0m\u001b[0m\n\u001b[1;32m      4\u001b[0m     \u001b[0mk\u001b[0m\u001b[0;34m=\u001b[0m\u001b[0mK_RECOS\u001b[0m\u001b[0;34m,\u001b[0m\u001b[0;34m\u001b[0m\u001b[0;34m\u001b[0m\u001b[0m\n\u001b[1;32m      5\u001b[0m     \u001b[0mfilter_viewed\u001b[0m\u001b[0;34m=\u001b[0m\u001b[0;32mTrue\u001b[0m\u001b[0;34m,\u001b[0m\u001b[0;34m\u001b[0m\u001b[0;34m\u001b[0m\u001b[0m\n",
            "\u001b[0;32m/usr/local/lib/python3.8/dist-packages/rectools/models/base.py\u001b[0m in \u001b[0;36mrecommend\u001b[0;34m(self, users, dataset, k, filter_viewed, items_to_recommend, add_rank_col)\u001b[0m\n\u001b[1;32m    130\u001b[0m             \u001b[0msorted_item_ids_to_recommend\u001b[0m \u001b[0;34m=\u001b[0m \u001b[0;32mNone\u001b[0m\u001b[0;34m\u001b[0m\u001b[0;34m\u001b[0m\u001b[0m\n\u001b[1;32m    131\u001b[0m \u001b[0;34m\u001b[0m\u001b[0m\n\u001b[0;32m--> 132\u001b[0;31m         reco_user_ids, reco_item_ids, reco_scores = self._recommend_u2i(\n\u001b[0m\u001b[1;32m    133\u001b[0m             \u001b[0muser_ids\u001b[0m\u001b[0;34m,\u001b[0m\u001b[0;34m\u001b[0m\u001b[0;34m\u001b[0m\u001b[0m\n\u001b[1;32m    134\u001b[0m             \u001b[0mdataset\u001b[0m\u001b[0;34m,\u001b[0m\u001b[0;34m\u001b[0m\u001b[0;34m\u001b[0m\u001b[0m\n",
            "\u001b[0;32m/usr/local/lib/python3.8/dist-packages/rectools/models/vector.py\u001b[0m in \u001b[0;36m_recommend_u2i\u001b[0;34m(self, user_ids, dataset, k, filter_viewed, sorted_item_ids_to_recommend)\u001b[0m\n\u001b[1;32m    139\u001b[0m         \u001b[0mall_scores\u001b[0m\u001b[0;34m:\u001b[0m \u001b[0mtp\u001b[0m\u001b[0;34m.\u001b[0m\u001b[0mList\u001b[0m\u001b[0;34m[\u001b[0m\u001b[0mnp\u001b[0m\u001b[0;34m.\u001b[0m\u001b[0mndarray\u001b[0m\u001b[0;34m]\u001b[0m \u001b[0;34m=\u001b[0m \u001b[0;34m[\u001b[0m\u001b[0;34m]\u001b[0m\u001b[0;34m\u001b[0m\u001b[0;34m\u001b[0m\u001b[0m\n\u001b[1;32m    140\u001b[0m         \u001b[0;32mfor\u001b[0m \u001b[0mtarget_id\u001b[0m \u001b[0;32min\u001b[0m \u001b[0mtqdm\u001b[0m\u001b[0;34m(\u001b[0m\u001b[0muser_ids\u001b[0m\u001b[0;34m,\u001b[0m \u001b[0mdisable\u001b[0m\u001b[0;34m=\u001b[0m\u001b[0mself\u001b[0m\u001b[0;34m.\u001b[0m\u001b[0mverbose\u001b[0m \u001b[0;34m==\u001b[0m \u001b[0;36m0\u001b[0m\u001b[0;34m)\u001b[0m\u001b[0;34m:\u001b[0m\u001b[0;34m\u001b[0m\u001b[0;34m\u001b[0m\u001b[0m\n\u001b[0;32m--> 141\u001b[0;31m             \u001b[0mscores\u001b[0m \u001b[0;34m=\u001b[0m \u001b[0mscores_calculator\u001b[0m\u001b[0;34m.\u001b[0m\u001b[0mcalc\u001b[0m\u001b[0;34m(\u001b[0m\u001b[0mtarget_id\u001b[0m\u001b[0;34m)\u001b[0m\u001b[0;34m\u001b[0m\u001b[0;34m\u001b[0m\u001b[0m\n\u001b[0m\u001b[1;32m    142\u001b[0m             reco_ids, reco_scores = recommend_from_scores(\n\u001b[1;32m    143\u001b[0m                 \u001b[0mscores\u001b[0m\u001b[0;34m=\u001b[0m\u001b[0mscores\u001b[0m\u001b[0;34m,\u001b[0m\u001b[0;34m\u001b[0m\u001b[0;34m\u001b[0m\u001b[0m\n",
            "\u001b[0;32m/usr/local/lib/python3.8/dist-packages/rectools/models/vector.py\u001b[0m in \u001b[0;36mcalc\u001b[0;34m(self, subject_id)\u001b[0m\n\u001b[1;32m     96\u001b[0m         \u001b[0msubject_factors\u001b[0m \u001b[0;34m=\u001b[0m \u001b[0mself\u001b[0m\u001b[0;34m.\u001b[0m\u001b[0msubjects_factors\u001b[0m\u001b[0;34m[\u001b[0m\u001b[0msubject_id\u001b[0m\u001b[0;34m]\u001b[0m\u001b[0;34m\u001b[0m\u001b[0;34m\u001b[0m\u001b[0m\n\u001b[1;32m     97\u001b[0m         \u001b[0;32mif\u001b[0m \u001b[0mself\u001b[0m\u001b[0;34m.\u001b[0m\u001b[0mdistance\u001b[0m \u001b[0;34m==\u001b[0m \u001b[0mDistance\u001b[0m\u001b[0;34m.\u001b[0m\u001b[0mDOT\u001b[0m\u001b[0;34m:\u001b[0m\u001b[0;34m\u001b[0m\u001b[0;34m\u001b[0m\u001b[0m\n\u001b[0;32m---> 98\u001b[0;31m             \u001b[0mscores\u001b[0m \u001b[0;34m=\u001b[0m \u001b[0mself\u001b[0m\u001b[0;34m.\u001b[0m\u001b[0mobjects_factors\u001b[0m \u001b[0;34m@\u001b[0m \u001b[0msubject_factors\u001b[0m\u001b[0;34m\u001b[0m\u001b[0;34m\u001b[0m\u001b[0m\n\u001b[0m\u001b[1;32m     99\u001b[0m         \u001b[0;32melif\u001b[0m \u001b[0mself\u001b[0m\u001b[0;34m.\u001b[0m\u001b[0mdistance\u001b[0m \u001b[0;34m==\u001b[0m \u001b[0mDistance\u001b[0m\u001b[0;34m.\u001b[0m\u001b[0mEUCLIDEAN\u001b[0m\u001b[0;34m:\u001b[0m\u001b[0;34m\u001b[0m\u001b[0;34m\u001b[0m\u001b[0m\n\u001b[1;32m    100\u001b[0m             \u001b[0msubject_dot\u001b[0m \u001b[0;34m=\u001b[0m \u001b[0mself\u001b[0m\u001b[0;34m.\u001b[0m\u001b[0msubjects_dots\u001b[0m\u001b[0;34m[\u001b[0m\u001b[0msubject_id\u001b[0m\u001b[0;34m]\u001b[0m\u001b[0;34m\u001b[0m\u001b[0;34m\u001b[0m\u001b[0m\n",
            "\u001b[0;31mKeyboardInterrupt\u001b[0m: "
          ]
        }
      ]
    },
    {
      "cell_type": "code",
      "source": [
        "recos = recos[['user_id', 'item_id']].groupby('user_id')['item_id'].apply(list)"
      ],
      "metadata": {
        "id": "Ypt__eed7yVf"
      },
      "execution_count": null,
      "outputs": []
    },
    {
      "cell_type": "code",
      "source": [
        "recos = recos.T.to_dict()"
      ],
      "metadata": {
        "id": "opSLb3ZH_aIZ"
      },
      "execution_count": null,
      "outputs": []
    },
    {
      "cell_type": "code",
      "source": [
        "with open('/content/drive/MyDrive/offline_lightfm.pkl', 'wb') as f:\n",
        "    pickle.dump(recos, f)"
      ],
      "metadata": {
        "id": "3imvyDTs5zix"
      },
      "execution_count": null,
      "outputs": []
    },
    {
      "cell_type": "code",
      "source": [
        "with open('/content/drive/MyDrive/offline_lightfm.pkl', 'rb') as f:\n",
        "    recos = pickle.load(f)"
      ],
      "metadata": {
        "id": "sRUK_3p1XHmD"
      },
      "execution_count": null,
      "outputs": []
    },
    {
      "cell_type": "markdown",
      "metadata": {
        "id": "9yYd5_O1g9p6"
      },
      "source": [
        "# Approximate Nearest Neighbors "
      ]
    },
    {
      "cell_type": "code",
      "execution_count": null,
      "metadata": {
        "id": "mPmYkMiig9p7"
      },
      "outputs": [],
      "source": [
        "user_embeddings, item_embeddings = best_model.get_vectors(full_dataset)"
      ]
    },
    {
      "cell_type": "code",
      "execution_count": null,
      "metadata": {
        "id": "WyVRmjm3g9p7",
        "outputId": "bf6fd360-f040-425d-e7b7-ba644c0508ef",
        "colab": {
          "base_uri": "https://localhost:8080/"
        }
      },
      "outputs": [
        {
          "output_type": "execute_result",
          "data": {
            "text/plain": [
              "((962179, 50), (15706, 50))"
            ]
          },
          "metadata": {},
          "execution_count": 48
        }
      ],
      "source": [
        "user_embeddings.shape, item_embeddings.shape"
      ]
    },
    {
      "cell_type": "code",
      "execution_count": null,
      "metadata": {
        "id": "5kKLolDHg9p8"
      },
      "outputs": [],
      "source": [
        "def augment_inner_product(factors):\n",
        "    normed_factors = np.linalg.norm(factors, axis=1)\n",
        "    max_norm = normed_factors.max()\n",
        "    \n",
        "    extra_dim = np.sqrt(max_norm ** 2 - normed_factors ** 2).reshape(-1, 1)\n",
        "    augmented_factors = np.append(factors, extra_dim, axis=1)\n",
        "    return max_norm, augmented_factors"
      ]
    },
    {
      "cell_type": "code",
      "execution_count": null,
      "metadata": {
        "id": "PJJCNhgDg9p8",
        "outputId": "6ceddabd-b872-4ba0-fd48-583cfaddb72d",
        "colab": {
          "base_uri": "https://localhost:8080/"
        }
      },
      "outputs": [
        {
          "output_type": "stream",
          "name": "stdout",
          "text": [
            "pre shape:  (15706, 50)\n"
          ]
        },
        {
          "output_type": "execute_result",
          "data": {
            "text/plain": [
              "(15706, 51)"
            ]
          },
          "metadata": {},
          "execution_count": 50
        }
      ],
      "source": [
        "print('pre shape: ', item_embeddings.shape)\n",
        "max_norm, augmented_item_embeddings = augment_inner_product(item_embeddings)\n",
        "augmented_item_embeddings.shape"
      ]
    },
    {
      "cell_type": "code",
      "execution_count": null,
      "metadata": {
        "id": "8VkQ9evig9p8",
        "outputId": "73c64484-596c-462d-c33b-c0700b6767d0",
        "colab": {
          "base_uri": "https://localhost:8080/"
        }
      },
      "outputs": [
        {
          "output_type": "execute_result",
          "data": {
            "text/plain": [
              "(962179, 51)"
            ]
          },
          "metadata": {},
          "execution_count": 51
        }
      ],
      "source": [
        "extra_zero = np.zeros((user_embeddings.shape[0], 1))\n",
        "augmented_user_embeddings = np.append(user_embeddings, extra_zero, axis=1)\n",
        "augmented_user_embeddings.shape"
      ]
    },
    {
      "cell_type": "code",
      "execution_count": null,
      "metadata": {
        "id": "aZ0Zm8y_g9p8"
      },
      "outputs": [],
      "source": [
        "user_id = 30"
      ]
    },
    {
      "cell_type": "code",
      "execution_count": null,
      "metadata": {
        "id": "hPzSynrsg9p8",
        "outputId": "537df3af-7604-441f-d627-089a8b5dc511",
        "colab": {
          "base_uri": "https://localhost:8080/"
        }
      },
      "outputs": [
        {
          "output_type": "execute_result",
          "data": {
            "text/plain": [
              "array([-4.83524780e+01,  1.00000000e+00,  3.75187844e-01,  3.21771622e-01,\n",
              "       -6.29868388e-01, -4.12927717e-01, -5.88016272e-01,  8.23162735e-01,\n",
              "        3.88127029e-01, -1.18629479e+00,  2.73747325e-01, -3.02571565e-01,\n",
              "       -7.79085159e-02, -4.71073091e-01, -5.45040727e-01, -5.40704846e-01,\n",
              "       -4.42222714e-01,  3.65312696e-01,  3.23337018e-01,  6.10963106e-01,\n",
              "        1.87580198e-01,  6.52648330e-01, -3.86717796e-01,  7.66267478e-01,\n",
              "       -3.17292750e-01,  1.69645607e-01,  4.95087385e-01,  1.92529917e-01,\n",
              "        6.13795817e-01,  4.07496661e-01,  1.57391593e-01, -2.01613009e-01,\n",
              "        1.95904985e-01,  1.49788320e-01, -5.93021393e-01, -4.47738171e-01,\n",
              "       -4.44614768e-01, -5.31978607e-01,  3.15818250e-01,  1.59003735e-01,\n",
              "       -3.89377236e-01, -3.84812877e-02,  3.61991405e-01, -9.75922823e-01,\n",
              "        2.45007321e-01,  2.57781893e-01,  8.22612226e-01, -9.48879346e-02,\n",
              "       -8.41700435e-01, -6.60143137e-01])"
            ]
          },
          "metadata": {},
          "execution_count": 53
        }
      ],
      "source": [
        "user_embeddings[user_id]"
      ]
    },
    {
      "cell_type": "code",
      "execution_count": null,
      "metadata": {
        "id": "QAQRWSrWg9p9",
        "outputId": "6d792d10-efb5-4f27-d18d-484713e8f738",
        "colab": {
          "base_uri": "https://localhost:8080/"
        }
      },
      "outputs": [
        {
          "output_type": "execute_result",
          "data": {
            "text/plain": [
              "array([-4.83524780e+01,  1.00000000e+00,  3.75187844e-01,  3.21771622e-01,\n",
              "       -6.29868388e-01, -4.12927717e-01, -5.88016272e-01,  8.23162735e-01,\n",
              "        3.88127029e-01, -1.18629479e+00,  2.73747325e-01, -3.02571565e-01,\n",
              "       -7.79085159e-02, -4.71073091e-01, -5.45040727e-01, -5.40704846e-01,\n",
              "       -4.42222714e-01,  3.65312696e-01,  3.23337018e-01,  6.10963106e-01,\n",
              "        1.87580198e-01,  6.52648330e-01, -3.86717796e-01,  7.66267478e-01,\n",
              "       -3.17292750e-01,  1.69645607e-01,  4.95087385e-01,  1.92529917e-01,\n",
              "        6.13795817e-01,  4.07496661e-01,  1.57391593e-01, -2.01613009e-01,\n",
              "        1.95904985e-01,  1.49788320e-01, -5.93021393e-01, -4.47738171e-01,\n",
              "       -4.44614768e-01, -5.31978607e-01,  3.15818250e-01,  1.59003735e-01,\n",
              "       -3.89377236e-01, -3.84812877e-02,  3.61991405e-01, -9.75922823e-01,\n",
              "        2.45007321e-01,  2.57781893e-01,  8.22612226e-01, -9.48879346e-02,\n",
              "       -8.41700435e-01, -6.60143137e-01,  0.00000000e+00])"
            ]
          },
          "metadata": {},
          "execution_count": 54
        }
      ],
      "source": [
        "augmented_user_embeddings[user_id]"
      ]
    },
    {
      "cell_type": "code",
      "execution_count": null,
      "metadata": {
        "id": "Fy4C2-6cg9p9"
      },
      "outputs": [],
      "source": [
        "item_id = 0"
      ]
    },
    {
      "cell_type": "code",
      "execution_count": null,
      "metadata": {
        "id": "byl_9a5fg9p9",
        "outputId": "63e32e40-1f71-4b4d-cd92-2a1fb68d0c79",
        "colab": {
          "base_uri": "https://localhost:8080/"
        }
      },
      "outputs": [
        {
          "output_type": "execute_result",
          "data": {
            "text/plain": [
              "array([ 1.        ,  0.93062925,  0.04542188, -0.08912785, -0.40182877,\n",
              "       -0.01549784, -0.11049332, -0.01765494,  0.05176789,  0.12865528,\n",
              "        0.05936557, -0.20821114, -0.30196556,  0.05172248, -0.19765013,\n",
              "        0.00188106, -0.04415952,  0.16934076,  0.30296585,  0.14377218,\n",
              "        0.26332912,  0.04185844,  0.12309168,  0.24374816,  0.08689702,\n",
              "        0.23112383,  0.0627045 , -0.09111952,  0.23607387,  0.20371312,\n",
              "        0.17750743,  0.03330431,  0.46970484, -0.03104644, -0.16072789,\n",
              "       -0.36810169,  0.04212458, -0.24139892,  0.17092629,  0.16394579,\n",
              "       -0.22414672, -0.21966258,  0.16820855, -0.15324032,  0.00239269,\n",
              "        0.07272961, -0.05856246, -0.20957781,  0.08415761, -0.1520945 ])"
            ]
          },
          "metadata": {},
          "execution_count": 56
        }
      ],
      "source": [
        "item_embeddings[item_id]"
      ]
    },
    {
      "cell_type": "code",
      "execution_count": null,
      "metadata": {
        "id": "Pboc2YwAg9p9",
        "outputId": "0a1ba270-abce-4354-f559-3cfce3f1eaa9",
        "colab": {
          "base_uri": "https://localhost:8080/"
        }
      },
      "outputs": [
        {
          "output_type": "execute_result",
          "data": {
            "text/plain": [
              "array([ 1.00000000e+00,  9.30629253e-01,  4.54218797e-02, -8.91278535e-02,\n",
              "       -4.01828766e-01, -1.54978363e-02, -1.10493325e-01, -1.76549442e-02,\n",
              "        5.17678931e-02,  1.28655285e-01,  5.93655668e-02, -2.08211139e-01,\n",
              "       -3.01965564e-01,  5.17224781e-02, -1.97650135e-01,  1.88106298e-03,\n",
              "       -4.41595241e-02,  1.69340760e-01,  3.02965850e-01,  1.43772185e-01,\n",
              "        2.63329118e-01,  4.18584384e-02,  1.23091675e-01,  2.43748158e-01,\n",
              "        8.68970156e-02,  2.31123835e-01,  6.27045035e-02, -9.11195204e-02,\n",
              "        2.36073866e-01,  2.03713119e-01,  1.77507430e-01,  3.33043076e-02,\n",
              "        4.69704837e-01, -3.10464352e-02, -1.60727888e-01, -3.68101686e-01,\n",
              "        4.21245806e-02, -2.41398916e-01,  1.70926288e-01,  1.63945794e-01,\n",
              "       -2.24146724e-01, -2.19662577e-01,  1.68208554e-01, -1.53240323e-01,\n",
              "        2.39269063e-03,  7.27296099e-02, -5.85624613e-02, -2.09577814e-01,\n",
              "        8.41576084e-02, -1.52094498e-01,  2.81623229e+00])"
            ]
          },
          "metadata": {},
          "execution_count": 57
        }
      ],
      "source": [
        "augmented_item_embeddings[item_id]"
      ]
    },
    {
      "cell_type": "code",
      "execution_count": null,
      "metadata": {
        "id": "UQJJedhQg9p9",
        "outputId": "187e1593-9d1a-41d4-a73d-0e4d2ca6bc59",
        "colab": {
          "base_uri": "https://localhost:8080/"
        }
      },
      "outputs": [
        {
          "output_type": "stream",
          "name": "stdout",
          "text": [
            "Index-time parameters {'M': 48, 'indexThreadQty': 4, 'efConstruction': 100, 'post': 0}\n"
          ]
        }
      ],
      "source": [
        "# Set index parameters\n",
        "# These are the most important ones\n",
        "M = 48\n",
        "efC = 100\n",
        "\n",
        "num_threads = 4\n",
        "index_time_params = {'M': M, 'indexThreadQty': num_threads, 'efConstruction': efC, 'post' : 0}\n",
        "print('Index-time parameters', index_time_params)"
      ]
    },
    {
      "cell_type": "code",
      "execution_count": null,
      "metadata": {
        "id": "5fCJU1cDg9p9"
      },
      "outputs": [],
      "source": [
        "# Number of neighbors \n",
        "K=10"
      ]
    },
    {
      "cell_type": "code",
      "execution_count": null,
      "metadata": {
        "id": "TpkHnrAWg9p9"
      },
      "outputs": [],
      "source": [
        "# Space name should correspond to the space name \n",
        "# used for brute-force search\n",
        "space_name='negdotprod'"
      ]
    },
    {
      "cell_type": "code",
      "execution_count": null,
      "metadata": {
        "id": "QuF81yQ2g9p-",
        "outputId": "046ac5c8-2822-47f8-afab-ec1b168d0f2d",
        "colab": {
          "base_uri": "https://localhost:8080/"
        }
      },
      "outputs": [
        {
          "output_type": "execute_result",
          "data": {
            "text/plain": [
              "15706"
            ]
          },
          "metadata": {},
          "execution_count": 61
        }
      ],
      "source": [
        "# Intitialize the library, specify the space, the type of the vector and add data points \n",
        "index = nmslib.init(method='hnsw', space=space_name, data_type=nmslib.DataType.DENSE_VECTOR) \n",
        "index.addDataPointBatch(augmented_item_embeddings) "
      ]
    },
    {
      "cell_type": "code",
      "execution_count": null,
      "metadata": {
        "id": "r_iQdbdFg9p-",
        "outputId": "aed7a431-3c82-4a11-b8f5-7bde73e16dd6",
        "colab": {
          "base_uri": "https://localhost:8080/"
        }
      },
      "outputs": [
        {
          "output_type": "stream",
          "name": "stdout",
          "text": [
            "Index-time parameters {'M': 48, 'indexThreadQty': 4, 'efConstruction': 100}\n",
            "Indexing time = 1.670063\n"
          ]
        }
      ],
      "source": [
        "# Create an index\n",
        "start = time.time()\n",
        "index_time_params = {'M': M, 'indexThreadQty': num_threads, 'efConstruction': efC}\n",
        "index.createIndex(index_time_params) \n",
        "end = time.time() \n",
        "print('Index-time parameters', index_time_params)\n",
        "print('Indexing time = %f' % (end-start))"
      ]
    },
    {
      "cell_type": "code",
      "execution_count": null,
      "metadata": {
        "id": "rl7q0TIJg9p-",
        "outputId": "f3747cda-f6fc-4f1b-9159-0a86d45f2660",
        "colab": {
          "base_uri": "https://localhost:8080/"
        }
      },
      "outputs": [
        {
          "output_type": "stream",
          "name": "stdout",
          "text": [
            "Setting query-time parameters {'efSearch': 100}\n"
          ]
        }
      ],
      "source": [
        "# Setting query-time parameters\n",
        "efS = 100\n",
        "query_time_params = {'efSearch': efS}\n",
        "print('Setting query-time parameters', query_time_params)\n",
        "index.setQueryTimeParams(query_time_params)"
      ]
    },
    {
      "cell_type": "code",
      "execution_count": null,
      "metadata": {
        "id": "uW6MJgtsg9p_",
        "outputId": "3f8f5cd5-dbd2-4f27-d13e-6a0b2d76cd0c",
        "colab": {
          "base_uri": "https://localhost:8080/"
        }
      },
      "outputs": [
        {
          "output_type": "stream",
          "name": "stdout",
          "text": [
            "kNN time total=36.979611 (sec), per query=0.000038 (sec), per query adjusted for thread number=0.000154 (sec)\n"
          ]
        }
      ],
      "source": [
        "# Querying\n",
        "query_qty = augmented_user_embeddings.shape[0]\n",
        "start = time.time() \n",
        "nbrs = index.knnQueryBatch(augmented_user_embeddings, k = K, num_threads = num_threads)\n",
        "end = time.time() \n",
        "print('kNN time total=%f (sec), per query=%f (sec), per query adjusted for thread number=%f (sec)' % \n",
        "      (end-start, float(end-start)/query_qty, num_threads*float(end-start)/query_qty)) "
      ]
    },
    {
      "cell_type": "code",
      "execution_count": null,
      "metadata": {
        "id": "Kq5NJcV5g9p_",
        "outputId": "95e5539d-e93a-4338-c826-6ab5ab815b91",
        "colab": {
          "base_uri": "https://localhost:8080/"
        }
      },
      "outputs": [
        {
          "output_type": "execute_result",
          "data": {
            "text/plain": [
              "(array([ 32,  16,  25,  84,  21, 235, 370, 174,  44, 173], dtype=int32),\n",
              " array([42.82581 , 42.887737, 43.208855, 43.479225, 43.63003 , 43.703815,\n",
              "        43.70658 , 43.707195, 43.715534, 43.741734], dtype=float32))"
            ]
          },
          "metadata": {},
          "execution_count": 65
        }
      ],
      "source": [
        "nbrs[0]"
      ]
    },
    {
      "cell_type": "code",
      "execution_count": null,
      "metadata": {
        "id": "TP-XWsCgg9p_",
        "outputId": "8231b754-7b3b-4d48-b576-5710c8a07e6e",
        "colab": {
          "base_uri": "https://localhost:8080/"
        }
      },
      "outputs": [
        {
          "output_type": "execute_result",
          "data": {
            "text/plain": [
              "array([ 32,  16,  25,  84,  21, 235, 370, 174,  44, 173], dtype=int32)"
            ]
          },
          "metadata": {},
          "execution_count": 66
        }
      ],
      "source": [
        "nbrs[0][0]"
      ]
    },
    {
      "cell_type": "code",
      "source": [
        "user_embeddings[[0], :]"
      ],
      "metadata": {
        "colab": {
          "base_uri": "https://localhost:8080/"
        },
        "id": "rqW-jgG4BIxo",
        "outputId": "deeace92-a232-4b49-d5fe-ebab13acb6ba"
      },
      "execution_count": null,
      "outputs": [
        {
          "output_type": "execute_result",
          "data": {
            "text/plain": [
              "array([[-4.79334106e+01,  1.00000000e+00,  5.16652584e-01,\n",
              "         7.40993977e-01, -8.71812403e-02, -3.10741603e-01,\n",
              "        -6.21468648e-02,  7.22927928e-01,  2.89485902e-01,\n",
              "        -8.47943068e-01,  4.46044475e-01, -8.25431943e-01,\n",
              "        -3.72506171e-01, -1.47162050e-01, -3.13372791e-01,\n",
              "        -4.32358027e-01, -5.49459696e-01, -9.05489624e-02,\n",
              "         2.49507278e-01,  8.46403986e-02,  7.10856199e-01,\n",
              "         8.11529636e-01, -5.96860051e-01,  5.21905959e-01,\n",
              "        -3.75617117e-01,  1.57306075e-01,  5.58442235e-01,\n",
              "         6.01864278e-01,  5.07851362e-01,  5.26806295e-01,\n",
              "         1.09351702e-01, -3.21162283e-01,  3.47558677e-01,\n",
              "         5.74942112e-01, -7.18792379e-01, -2.14112476e-01,\n",
              "        -6.48745418e-01, -1.17261544e-01,  4.55203384e-01,\n",
              "         4.90635812e-01, -5.09907901e-01, -1.33621916e-01,\n",
              "         6.18979812e-01, -4.83415127e-01, -1.61737874e-02,\n",
              "         6.55006766e-02,  7.74052978e-01, -3.01507592e-01,\n",
              "        -4.97673333e-01, -8.17249298e-01]])"
            ]
          },
          "metadata": {},
          "execution_count": 67
        }
      ]
    },
    {
      "cell_type": "code",
      "source": [
        "all_users = interactions['user_id'].unique()"
      ],
      "metadata": {
        "id": "cv4pEy4uMMQT"
      },
      "execution_count": null,
      "outputs": []
    },
    {
      "cell_type": "code",
      "source": [
        "len(all_users)"
      ],
      "metadata": {
        "colab": {
          "base_uri": "https://localhost:8080/"
        },
        "id": "ozoaY-o9PV2u",
        "outputId": "6c48bd39-0b56-4bd7-a9f0-c1b107ec2500"
      },
      "execution_count": null,
      "outputs": [
        {
          "output_type": "execute_result",
          "data": {
            "text/plain": [
              "962179"
            ]
          },
          "metadata": {},
          "execution_count": 69
        }
      ]
    },
    {
      "cell_type": "code",
      "source": [
        "len(nbrs)"
      ],
      "metadata": {
        "colab": {
          "base_uri": "https://localhost:8080/"
        },
        "id": "guZeaLb0PX_S",
        "outputId": "cebe3ead-17e7-42cb-cc09-876f18a0ce88"
      },
      "execution_count": null,
      "outputs": [
        {
          "output_type": "execute_result",
          "data": {
            "text/plain": [
              "962179"
            ]
          },
          "metadata": {},
          "execution_count": 70
        }
      ]
    },
    {
      "cell_type": "code",
      "source": [
        "recs = {all_users[i]: list(nbrs[i][0]) for i in range(len(nbrs))}"
      ],
      "metadata": {
        "id": "FD2dJ8hsMHQD"
      },
      "execution_count": null,
      "outputs": []
    },
    {
      "cell_type": "code",
      "source": [
        "with open('/content/drive/MyDrive/offline_lightfm_ann.pkl', 'wb') as f:\n",
        "    pickle.dump(recs, f)"
      ],
      "metadata": {
        "id": "-F9-RSVVP7wH"
      },
      "execution_count": null,
      "outputs": []
    },
    {
      "cell_type": "markdown",
      "source": [
        "# Solution for cold users"
      ],
      "metadata": {
        "id": "q9CzpUTaxWEz"
      }
    },
    {
      "cell_type": "markdown",
      "source": [
        "Будем просто рекомендовать холодным пользователям популярное"
      ],
      "metadata": {
        "id": "MCUKjacIxcAp"
      }
    },
    {
      "cell_type": "code",
      "source": [
        "pop_model = PopularModel()\n",
        "pop_model.fit(full_dataset)"
      ],
      "metadata": {
        "colab": {
          "base_uri": "https://localhost:8080/"
        },
        "id": "Us2rHM7Jfxxi",
        "outputId": "5e4091fc-e15a-4d60-9416-dfd0cfd81db1"
      },
      "execution_count": null,
      "outputs": [
        {
          "output_type": "execute_result",
          "data": {
            "text/plain": [
              "<rectools.models.popular.PopularModel at 0x7f16e3bb8df0>"
            ]
          },
          "metadata": {},
          "execution_count": 73
        }
      ]
    },
    {
      "cell_type": "code",
      "source": [
        "pop_list = list(pop_model.recommend([0], full_dataset, k=300, filter_viewed=False)['item_id'][:10])"
      ],
      "metadata": {
        "id": "Degk_cCqhCsx"
      },
      "execution_count": null,
      "outputs": []
    },
    {
      "cell_type": "code",
      "source": [
        "with open('/content/drive/MyDrive/popular.pkl', 'wb') as f:\n",
        "    pickle.dump(pop_list, f)"
      ],
      "metadata": {
        "id": "0nciiV6UAgma"
      },
      "execution_count": null,
      "outputs": []
    },
    {
      "cell_type": "markdown",
      "source": [
        "# Avatars"
      ],
      "metadata": {
        "id": "DM117MbF94Ia"
      }
    },
    {
      "cell_type": "markdown",
      "source": [
        "Создадим 3 аватаров: любитель комедий, боевиков и ребенок, который смотрит мультфильмы"
      ],
      "metadata": {
        "id": "ZIyk5lg3Ac9U"
      }
    },
    {
      "cell_type": "code",
      "source": [
        "data = interactions.merge(items_df, on='item_id')"
      ],
      "metadata": {
        "id": "Mi_HuE-UC0d4"
      },
      "execution_count": 226,
      "outputs": []
    },
    {
      "cell_type": "code",
      "source": [
        "comedy_ids = list(data[data['genres'].isin(['комедии'])]['item_id'].value_counts()[:5].index)"
      ],
      "metadata": {
        "id": "AZM3arQlASYN"
      },
      "execution_count": 227,
      "outputs": []
    },
    {
      "cell_type": "code",
      "source": [
        "comedy_ids"
      ],
      "metadata": {
        "colab": {
          "base_uri": "https://localhost:8080/"
        },
        "id": "0hKYzWVJEE6Q",
        "outputId": "e782de01-4098-47e9-fdcb-3a59a56f2f02"
      },
      "execution_count": 228,
      "outputs": [
        {
          "output_type": "execute_result",
          "data": {
            "text/plain": [
              "[4151, 3734, 4880, 11237, 7417]"
            ]
          },
          "metadata": {},
          "execution_count": 228
        }
      ]
    },
    {
      "cell_type": "code",
      "source": [
        "items_df[items_df['item_id'].isin(comedy_ids)]"
      ],
      "metadata": {
        "colab": {
          "base_uri": "https://localhost:8080/",
          "height": 424
        },
        "id": "sMvJZ1KRDSER",
        "outputId": "69aa9d8e-788a-4658-bbfe-5aea4a3af4af"
      },
      "execution_count": 229,
      "outputs": [
        {
          "output_type": "execute_result",
          "data": {
            "text/plain": [
              "       item_id content_type                         title  \\\n",
              "202       4880       series                         Афера   \n",
              "6425     11237         film                   День города   \n",
              "6689      4151       series        Секреты семейной жизни   \n",
              "8537      7417         film        Стендап под прикрытием   \n",
              "12050     3734         film  Прабабушка легкого поведения   \n",
              "\n",
              "                            title_orig  release_year   genres countries  \\\n",
              "202                              Afera        2021.0  комедии    Россия   \n",
              "6425                               NaN        2021.0  комедии    Россия   \n",
              "6689                               NaN        2021.0  комедии    Россия   \n",
              "8537                Undercover standup        2020.0  комедии    Россия   \n",
              "12050  Prababushka lyogkogo povedeniya        2021.0  комедии    Россия   \n",
              "\n",
              "       for_kids  age_rating studios          directors  \\\n",
              "202         NaN        18.0     NaN     Михаил Старчак   \n",
              "6425        NaN        16.0     NaN  Алексей Харитонов   \n",
              "6689        NaN        18.0     NaN     Шота Гамисония   \n",
              "8537        NaN        16.0     NaN      Олег Асадулин   \n",
              "12050       NaN        16.0     NaN     Марюс Вайсберг   \n",
              "\n",
              "                                                  actors  \\\n",
              "202    Сергей Степин, Игорь Царегородцев, Татьяна Лял...   \n",
              "6425   Катерина Шпица, Антон Филипенко, Павел Ворожцо...   \n",
              "6689   Петр Скворцов, Алена Михайлова, Федор Лавров, ...   \n",
              "8537   Валентина Мазунина, Кирилл Нагиев, Зоя Бербер,...   \n",
              "12050  Александр Ревва, Глюкоза, Дмитрий Нагиев, Миха...   \n",
              "\n",
              "                                             description  \\\n",
              "202    Смотри:- как кино- как сериалКарантин окончен,...   \n",
              "6425   Эта история случилась в провинциальном городке...   \n",
              "6689   У Никиты и Полины всё начиналось прекрасно: об...   \n",
              "8537   Дерзкая и циничная опер в юбке Светлана Артюхо...   \n",
              "12050  1980 год, вся страна следит за событиями моско...   \n",
              "\n",
              "                                                keywords  \n",
              "202    Афера, Аферисты, Карантин, Пандемия, Карантин ...  \n",
              "6425                          2021, россия, день, города  \n",
              "6689   брызги крови, кровь, жестокое обращение с живо...  \n",
              "8537              2020, россия, стендап, под, прикрытием  \n",
              "12050     , 2021, россия, прабабушка, легкого, поведения  "
            ],
            "text/html": [
              "\n",
              "  <div id=\"df-9844ef37-c666-40a8-a337-3eba8ae48cf5\">\n",
              "    <div class=\"colab-df-container\">\n",
              "      <div>\n",
              "<style scoped>\n",
              "    .dataframe tbody tr th:only-of-type {\n",
              "        vertical-align: middle;\n",
              "    }\n",
              "\n",
              "    .dataframe tbody tr th {\n",
              "        vertical-align: top;\n",
              "    }\n",
              "\n",
              "    .dataframe thead th {\n",
              "        text-align: right;\n",
              "    }\n",
              "</style>\n",
              "<table border=\"1\" class=\"dataframe\">\n",
              "  <thead>\n",
              "    <tr style=\"text-align: right;\">\n",
              "      <th></th>\n",
              "      <th>item_id</th>\n",
              "      <th>content_type</th>\n",
              "      <th>title</th>\n",
              "      <th>title_orig</th>\n",
              "      <th>release_year</th>\n",
              "      <th>genres</th>\n",
              "      <th>countries</th>\n",
              "      <th>for_kids</th>\n",
              "      <th>age_rating</th>\n",
              "      <th>studios</th>\n",
              "      <th>directors</th>\n",
              "      <th>actors</th>\n",
              "      <th>description</th>\n",
              "      <th>keywords</th>\n",
              "    </tr>\n",
              "  </thead>\n",
              "  <tbody>\n",
              "    <tr>\n",
              "      <th>202</th>\n",
              "      <td>4880</td>\n",
              "      <td>series</td>\n",
              "      <td>Афера</td>\n",
              "      <td>Afera</td>\n",
              "      <td>2021.0</td>\n",
              "      <td>комедии</td>\n",
              "      <td>Россия</td>\n",
              "      <td>NaN</td>\n",
              "      <td>18.0</td>\n",
              "      <td>NaN</td>\n",
              "      <td>Михаил Старчак</td>\n",
              "      <td>Сергей Степин, Игорь Царегородцев, Татьяна Лял...</td>\n",
              "      <td>Смотри:- как кино- как сериалКарантин окончен,...</td>\n",
              "      <td>Афера, Аферисты, Карантин, Пандемия, Карантин ...</td>\n",
              "    </tr>\n",
              "    <tr>\n",
              "      <th>6425</th>\n",
              "      <td>11237</td>\n",
              "      <td>film</td>\n",
              "      <td>День города</td>\n",
              "      <td>NaN</td>\n",
              "      <td>2021.0</td>\n",
              "      <td>комедии</td>\n",
              "      <td>Россия</td>\n",
              "      <td>NaN</td>\n",
              "      <td>16.0</td>\n",
              "      <td>NaN</td>\n",
              "      <td>Алексей Харитонов</td>\n",
              "      <td>Катерина Шпица, Антон Филипенко, Павел Ворожцо...</td>\n",
              "      <td>Эта история случилась в провинциальном городке...</td>\n",
              "      <td>2021, россия, день, города</td>\n",
              "    </tr>\n",
              "    <tr>\n",
              "      <th>6689</th>\n",
              "      <td>4151</td>\n",
              "      <td>series</td>\n",
              "      <td>Секреты семейной жизни</td>\n",
              "      <td>NaN</td>\n",
              "      <td>2021.0</td>\n",
              "      <td>комедии</td>\n",
              "      <td>Россия</td>\n",
              "      <td>NaN</td>\n",
              "      <td>18.0</td>\n",
              "      <td>NaN</td>\n",
              "      <td>Шота Гамисония</td>\n",
              "      <td>Петр Скворцов, Алена Михайлова, Федор Лавров, ...</td>\n",
              "      <td>У Никиты и Полины всё начиналось прекрасно: об...</td>\n",
              "      <td>брызги крови, кровь, жестокое обращение с живо...</td>\n",
              "    </tr>\n",
              "    <tr>\n",
              "      <th>8537</th>\n",
              "      <td>7417</td>\n",
              "      <td>film</td>\n",
              "      <td>Стендап под прикрытием</td>\n",
              "      <td>Undercover standup</td>\n",
              "      <td>2020.0</td>\n",
              "      <td>комедии</td>\n",
              "      <td>Россия</td>\n",
              "      <td>NaN</td>\n",
              "      <td>16.0</td>\n",
              "      <td>NaN</td>\n",
              "      <td>Олег Асадулин</td>\n",
              "      <td>Валентина Мазунина, Кирилл Нагиев, Зоя Бербер,...</td>\n",
              "      <td>Дерзкая и циничная опер в юбке Светлана Артюхо...</td>\n",
              "      <td>2020, россия, стендап, под, прикрытием</td>\n",
              "    </tr>\n",
              "    <tr>\n",
              "      <th>12050</th>\n",
              "      <td>3734</td>\n",
              "      <td>film</td>\n",
              "      <td>Прабабушка легкого поведения</td>\n",
              "      <td>Prababushka lyogkogo povedeniya</td>\n",
              "      <td>2021.0</td>\n",
              "      <td>комедии</td>\n",
              "      <td>Россия</td>\n",
              "      <td>NaN</td>\n",
              "      <td>16.0</td>\n",
              "      <td>NaN</td>\n",
              "      <td>Марюс Вайсберг</td>\n",
              "      <td>Александр Ревва, Глюкоза, Дмитрий Нагиев, Миха...</td>\n",
              "      <td>1980 год, вся страна следит за событиями моско...</td>\n",
              "      <td>, 2021, россия, прабабушка, легкого, поведения</td>\n",
              "    </tr>\n",
              "  </tbody>\n",
              "</table>\n",
              "</div>\n",
              "      <button class=\"colab-df-convert\" onclick=\"convertToInteractive('df-9844ef37-c666-40a8-a337-3eba8ae48cf5')\"\n",
              "              title=\"Convert this dataframe to an interactive table.\"\n",
              "              style=\"display:none;\">\n",
              "        \n",
              "  <svg xmlns=\"http://www.w3.org/2000/svg\" height=\"24px\"viewBox=\"0 0 24 24\"\n",
              "       width=\"24px\">\n",
              "    <path d=\"M0 0h24v24H0V0z\" fill=\"none\"/>\n",
              "    <path d=\"M18.56 5.44l.94 2.06.94-2.06 2.06-.94-2.06-.94-.94-2.06-.94 2.06-2.06.94zm-11 1L8.5 8.5l.94-2.06 2.06-.94-2.06-.94L8.5 2.5l-.94 2.06-2.06.94zm10 10l.94 2.06.94-2.06 2.06-.94-2.06-.94-.94-2.06-.94 2.06-2.06.94z\"/><path d=\"M17.41 7.96l-1.37-1.37c-.4-.4-.92-.59-1.43-.59-.52 0-1.04.2-1.43.59L10.3 9.45l-7.72 7.72c-.78.78-.78 2.05 0 2.83L4 21.41c.39.39.9.59 1.41.59.51 0 1.02-.2 1.41-.59l7.78-7.78 2.81-2.81c.8-.78.8-2.07 0-2.86zM5.41 20L4 18.59l7.72-7.72 1.47 1.35L5.41 20z\"/>\n",
              "  </svg>\n",
              "      </button>\n",
              "      \n",
              "  <style>\n",
              "    .colab-df-container {\n",
              "      display:flex;\n",
              "      flex-wrap:wrap;\n",
              "      gap: 12px;\n",
              "    }\n",
              "\n",
              "    .colab-df-convert {\n",
              "      background-color: #E8F0FE;\n",
              "      border: none;\n",
              "      border-radius: 50%;\n",
              "      cursor: pointer;\n",
              "      display: none;\n",
              "      fill: #1967D2;\n",
              "      height: 32px;\n",
              "      padding: 0 0 0 0;\n",
              "      width: 32px;\n",
              "    }\n",
              "\n",
              "    .colab-df-convert:hover {\n",
              "      background-color: #E2EBFA;\n",
              "      box-shadow: 0px 1px 2px rgba(60, 64, 67, 0.3), 0px 1px 3px 1px rgba(60, 64, 67, 0.15);\n",
              "      fill: #174EA6;\n",
              "    }\n",
              "\n",
              "    [theme=dark] .colab-df-convert {\n",
              "      background-color: #3B4455;\n",
              "      fill: #D2E3FC;\n",
              "    }\n",
              "\n",
              "    [theme=dark] .colab-df-convert:hover {\n",
              "      background-color: #434B5C;\n",
              "      box-shadow: 0px 1px 3px 1px rgba(0, 0, 0, 0.15);\n",
              "      filter: drop-shadow(0px 1px 2px rgba(0, 0, 0, 0.3));\n",
              "      fill: #FFFFFF;\n",
              "    }\n",
              "  </style>\n",
              "\n",
              "      <script>\n",
              "        const buttonEl =\n",
              "          document.querySelector('#df-9844ef37-c666-40a8-a337-3eba8ae48cf5 button.colab-df-convert');\n",
              "        buttonEl.style.display =\n",
              "          google.colab.kernel.accessAllowed ? 'block' : 'none';\n",
              "\n",
              "        async function convertToInteractive(key) {\n",
              "          const element = document.querySelector('#df-9844ef37-c666-40a8-a337-3eba8ae48cf5');\n",
              "          const dataTable =\n",
              "            await google.colab.kernel.invokeFunction('convertToInteractive',\n",
              "                                                     [key], {});\n",
              "          if (!dataTable) return;\n",
              "\n",
              "          const docLinkHtml = 'Like what you see? Visit the ' +\n",
              "            '<a target=\"_blank\" href=https://colab.research.google.com/notebooks/data_table.ipynb>data table notebook</a>'\n",
              "            + ' to learn more about interactive tables.';\n",
              "          element.innerHTML = '';\n",
              "          dataTable['output_type'] = 'display_data';\n",
              "          await google.colab.output.renderOutput(dataTable, element);\n",
              "          const docLink = document.createElement('div');\n",
              "          docLink.innerHTML = docLinkHtml;\n",
              "          element.appendChild(docLink);\n",
              "        }\n",
              "      </script>\n",
              "    </div>\n",
              "  </div>\n",
              "  "
            ]
          },
          "metadata": {},
          "execution_count": 229
        }
      ]
    },
    {
      "cell_type": "code",
      "source": [
        "action_ids = list(data[data['genres'].isin(['боевики'])]['item_id'].value_counts()[:5].index)"
      ],
      "metadata": {
        "id": "Yc2Z8vaDEzNP"
      },
      "execution_count": 230,
      "outputs": []
    },
    {
      "cell_type": "code",
      "source": [
        "action_ids"
      ],
      "metadata": {
        "colab": {
          "base_uri": "https://localhost:8080/"
        },
        "id": "fZmiFhDrMXUT",
        "outputId": "eb240e5c-820a-4bd7-cafa-ac9cebc92470"
      },
      "execution_count": 231,
      "outputs": [
        {
          "output_type": "execute_result",
          "data": {
            "text/plain": [
              "[12324, 9194, 991, 826, 5330]"
            ]
          },
          "metadata": {},
          "execution_count": 231
        }
      ]
    },
    {
      "cell_type": "code",
      "source": [
        "items_df[items_df['item_id'].isin(action_ids)]"
      ],
      "metadata": {
        "colab": {
          "base_uri": "https://localhost:8080/",
          "height": 424
        },
        "id": "2ihZarMzMZuQ",
        "outputId": "1b670778-6ef2-4fbd-8a22-b72dc1b921d9"
      },
      "execution_count": 232,
      "outputs": [
        {
          "output_type": "execute_result",
          "data": {
            "text/plain": [
              "       item_id content_type                          title  \\\n",
              "2463       826         film  Октагон: боец против рестлера   \n",
              "5770      5330         film          Самый опасный человек   \n",
              "9090      9194         film      Роберт — король Шотландии   \n",
              "11972    12324         film       Патруль: По законам улиц   \n",
              "14952      991         film         Избави нас от лукавого   \n",
              "\n",
              "                        title_orig  release_year   genres  \\\n",
              "2463   Cagefighter: Worlds Colided        2020.0  боевики   \n",
              "5770             A Most Wanted Man        2014.0  боевики   \n",
              "9090              Robert the Bruce        2019.0  боевики   \n",
              "11972                       Shorta        2020.0  боевики   \n",
              "14952       Daman akeseo guhasoseo        2020.0  боевики   \n",
              "\n",
              "                           countries  for_kids  age_rating studios  \\\n",
              "2463                  Великобритания       NaN        16.0     NaN   \n",
              "5770   Великобритания, США, Германия       NaN        16.0     NaN   \n",
              "9090                             США       NaN        16.0     NaN   \n",
              "11972                          Дания       NaN        18.0     NaN   \n",
              "14952               Республика Корея       NaN        18.0     NaN   \n",
              "\n",
              "                 directors                                             actors  \\\n",
              "2463        Джесси Кинонес  Джина Гершон, Джонатан Гуд, Чак Лиделл, Джейсо...   \n",
              "5770         Антон Корбейн  Григорий Добрыгин, Филип Сеймур Хоффман, Нина ...   \n",
              "9090           Ричард Грэй  Энгус МакФадьен, Диармед Мёрта, Джаред Харрис,...   \n",
              "11972  Фредерик Луис Хвиид  Якоб Ульрик Ломанн, Саймон Сирс, Озлем Сагланм...   \n",
              "14952         Хон Вон-чхан  Хван Джон-мин, Ли Джон-джэ, Пак Чон-мин, Пак С...   \n",
              "\n",
              "                                             description  \\\n",
              "2463   Рисс – величайший чемпион ММА и легенда октаго...   \n",
              "5770   Каждая война начинается со страха. Каждое пред...   \n",
              "9090   Для одних он - беглый преступник, дли других –...   \n",
              "11972  Полицейские Йенс и Майк регулярно патрулируют ...   \n",
              "14952  Бывший секретный оперативник южнокорейских спе...   \n",
              "\n",
              "                                                keywords  \n",
              "2463   борьба, смешанные единоборства, 2020, соединен...  \n",
              "5770   Мерседес-Бенц-сл, Форд, Форд Мондео, Альфа Ром...  \n",
              "9090   Шотландия, семейные тайны, король, 14 век, отн...  \n",
              "11972            2020, дания, патруль, по, законам, улиц  \n",
              "14952  бангкок, таиланд, месть, вкрутую, 2020, южная ...  "
            ],
            "text/html": [
              "\n",
              "  <div id=\"df-cc1c3228-15ff-49af-bfe0-59069f5422f6\">\n",
              "    <div class=\"colab-df-container\">\n",
              "      <div>\n",
              "<style scoped>\n",
              "    .dataframe tbody tr th:only-of-type {\n",
              "        vertical-align: middle;\n",
              "    }\n",
              "\n",
              "    .dataframe tbody tr th {\n",
              "        vertical-align: top;\n",
              "    }\n",
              "\n",
              "    .dataframe thead th {\n",
              "        text-align: right;\n",
              "    }\n",
              "</style>\n",
              "<table border=\"1\" class=\"dataframe\">\n",
              "  <thead>\n",
              "    <tr style=\"text-align: right;\">\n",
              "      <th></th>\n",
              "      <th>item_id</th>\n",
              "      <th>content_type</th>\n",
              "      <th>title</th>\n",
              "      <th>title_orig</th>\n",
              "      <th>release_year</th>\n",
              "      <th>genres</th>\n",
              "      <th>countries</th>\n",
              "      <th>for_kids</th>\n",
              "      <th>age_rating</th>\n",
              "      <th>studios</th>\n",
              "      <th>directors</th>\n",
              "      <th>actors</th>\n",
              "      <th>description</th>\n",
              "      <th>keywords</th>\n",
              "    </tr>\n",
              "  </thead>\n",
              "  <tbody>\n",
              "    <tr>\n",
              "      <th>2463</th>\n",
              "      <td>826</td>\n",
              "      <td>film</td>\n",
              "      <td>Октагон: боец против рестлера</td>\n",
              "      <td>Cagefighter: Worlds Colided</td>\n",
              "      <td>2020.0</td>\n",
              "      <td>боевики</td>\n",
              "      <td>Великобритания</td>\n",
              "      <td>NaN</td>\n",
              "      <td>16.0</td>\n",
              "      <td>NaN</td>\n",
              "      <td>Джесси Кинонес</td>\n",
              "      <td>Джина Гершон, Джонатан Гуд, Чак Лиделл, Джейсо...</td>\n",
              "      <td>Рисс – величайший чемпион ММА и легенда октаго...</td>\n",
              "      <td>борьба, смешанные единоборства, 2020, соединен...</td>\n",
              "    </tr>\n",
              "    <tr>\n",
              "      <th>5770</th>\n",
              "      <td>5330</td>\n",
              "      <td>film</td>\n",
              "      <td>Самый опасный человек</td>\n",
              "      <td>A Most Wanted Man</td>\n",
              "      <td>2014.0</td>\n",
              "      <td>боевики</td>\n",
              "      <td>Великобритания, США, Германия</td>\n",
              "      <td>NaN</td>\n",
              "      <td>16.0</td>\n",
              "      <td>NaN</td>\n",
              "      <td>Антон Корбейн</td>\n",
              "      <td>Григорий Добрыгин, Филип Сеймур Хоффман, Нина ...</td>\n",
              "      <td>Каждая война начинается со страха. Каждое пред...</td>\n",
              "      <td>Мерседес-Бенц-сл, Форд, Форд Мондео, Альфа Ром...</td>\n",
              "    </tr>\n",
              "    <tr>\n",
              "      <th>9090</th>\n",
              "      <td>9194</td>\n",
              "      <td>film</td>\n",
              "      <td>Роберт — король Шотландии</td>\n",
              "      <td>Robert the Bruce</td>\n",
              "      <td>2019.0</td>\n",
              "      <td>боевики</td>\n",
              "      <td>США</td>\n",
              "      <td>NaN</td>\n",
              "      <td>16.0</td>\n",
              "      <td>NaN</td>\n",
              "      <td>Ричард Грэй</td>\n",
              "      <td>Энгус МакФадьен, Диармед Мёрта, Джаред Харрис,...</td>\n",
              "      <td>Для одних он - беглый преступник, дли других –...</td>\n",
              "      <td>Шотландия, семейные тайны, король, 14 век, отн...</td>\n",
              "    </tr>\n",
              "    <tr>\n",
              "      <th>11972</th>\n",
              "      <td>12324</td>\n",
              "      <td>film</td>\n",
              "      <td>Патруль: По законам улиц</td>\n",
              "      <td>Shorta</td>\n",
              "      <td>2020.0</td>\n",
              "      <td>боевики</td>\n",
              "      <td>Дания</td>\n",
              "      <td>NaN</td>\n",
              "      <td>18.0</td>\n",
              "      <td>NaN</td>\n",
              "      <td>Фредерик Луис Хвиид</td>\n",
              "      <td>Якоб Ульрик Ломанн, Саймон Сирс, Озлем Сагланм...</td>\n",
              "      <td>Полицейские Йенс и Майк регулярно патрулируют ...</td>\n",
              "      <td>2020, дания, патруль, по, законам, улиц</td>\n",
              "    </tr>\n",
              "    <tr>\n",
              "      <th>14952</th>\n",
              "      <td>991</td>\n",
              "      <td>film</td>\n",
              "      <td>Избави нас от лукавого</td>\n",
              "      <td>Daman akeseo guhasoseo</td>\n",
              "      <td>2020.0</td>\n",
              "      <td>боевики</td>\n",
              "      <td>Республика Корея</td>\n",
              "      <td>NaN</td>\n",
              "      <td>18.0</td>\n",
              "      <td>NaN</td>\n",
              "      <td>Хон Вон-чхан</td>\n",
              "      <td>Хван Джон-мин, Ли Джон-джэ, Пак Чон-мин, Пак С...</td>\n",
              "      <td>Бывший секретный оперативник южнокорейских спе...</td>\n",
              "      <td>бангкок, таиланд, месть, вкрутую, 2020, южная ...</td>\n",
              "    </tr>\n",
              "  </tbody>\n",
              "</table>\n",
              "</div>\n",
              "      <button class=\"colab-df-convert\" onclick=\"convertToInteractive('df-cc1c3228-15ff-49af-bfe0-59069f5422f6')\"\n",
              "              title=\"Convert this dataframe to an interactive table.\"\n",
              "              style=\"display:none;\">\n",
              "        \n",
              "  <svg xmlns=\"http://www.w3.org/2000/svg\" height=\"24px\"viewBox=\"0 0 24 24\"\n",
              "       width=\"24px\">\n",
              "    <path d=\"M0 0h24v24H0V0z\" fill=\"none\"/>\n",
              "    <path d=\"M18.56 5.44l.94 2.06.94-2.06 2.06-.94-2.06-.94-.94-2.06-.94 2.06-2.06.94zm-11 1L8.5 8.5l.94-2.06 2.06-.94-2.06-.94L8.5 2.5l-.94 2.06-2.06.94zm10 10l.94 2.06.94-2.06 2.06-.94-2.06-.94-.94-2.06-.94 2.06-2.06.94z\"/><path d=\"M17.41 7.96l-1.37-1.37c-.4-.4-.92-.59-1.43-.59-.52 0-1.04.2-1.43.59L10.3 9.45l-7.72 7.72c-.78.78-.78 2.05 0 2.83L4 21.41c.39.39.9.59 1.41.59.51 0 1.02-.2 1.41-.59l7.78-7.78 2.81-2.81c.8-.78.8-2.07 0-2.86zM5.41 20L4 18.59l7.72-7.72 1.47 1.35L5.41 20z\"/>\n",
              "  </svg>\n",
              "      </button>\n",
              "      \n",
              "  <style>\n",
              "    .colab-df-container {\n",
              "      display:flex;\n",
              "      flex-wrap:wrap;\n",
              "      gap: 12px;\n",
              "    }\n",
              "\n",
              "    .colab-df-convert {\n",
              "      background-color: #E8F0FE;\n",
              "      border: none;\n",
              "      border-radius: 50%;\n",
              "      cursor: pointer;\n",
              "      display: none;\n",
              "      fill: #1967D2;\n",
              "      height: 32px;\n",
              "      padding: 0 0 0 0;\n",
              "      width: 32px;\n",
              "    }\n",
              "\n",
              "    .colab-df-convert:hover {\n",
              "      background-color: #E2EBFA;\n",
              "      box-shadow: 0px 1px 2px rgba(60, 64, 67, 0.3), 0px 1px 3px 1px rgba(60, 64, 67, 0.15);\n",
              "      fill: #174EA6;\n",
              "    }\n",
              "\n",
              "    [theme=dark] .colab-df-convert {\n",
              "      background-color: #3B4455;\n",
              "      fill: #D2E3FC;\n",
              "    }\n",
              "\n",
              "    [theme=dark] .colab-df-convert:hover {\n",
              "      background-color: #434B5C;\n",
              "      box-shadow: 0px 1px 3px 1px rgba(0, 0, 0, 0.15);\n",
              "      filter: drop-shadow(0px 1px 2px rgba(0, 0, 0, 0.3));\n",
              "      fill: #FFFFFF;\n",
              "    }\n",
              "  </style>\n",
              "\n",
              "      <script>\n",
              "        const buttonEl =\n",
              "          document.querySelector('#df-cc1c3228-15ff-49af-bfe0-59069f5422f6 button.colab-df-convert');\n",
              "        buttonEl.style.display =\n",
              "          google.colab.kernel.accessAllowed ? 'block' : 'none';\n",
              "\n",
              "        async function convertToInteractive(key) {\n",
              "          const element = document.querySelector('#df-cc1c3228-15ff-49af-bfe0-59069f5422f6');\n",
              "          const dataTable =\n",
              "            await google.colab.kernel.invokeFunction('convertToInteractive',\n",
              "                                                     [key], {});\n",
              "          if (!dataTable) return;\n",
              "\n",
              "          const docLinkHtml = 'Like what you see? Visit the ' +\n",
              "            '<a target=\"_blank\" href=https://colab.research.google.com/notebooks/data_table.ipynb>data table notebook</a>'\n",
              "            + ' to learn more about interactive tables.';\n",
              "          element.innerHTML = '';\n",
              "          dataTable['output_type'] = 'display_data';\n",
              "          await google.colab.output.renderOutput(dataTable, element);\n",
              "          const docLink = document.createElement('div');\n",
              "          docLink.innerHTML = docLinkHtml;\n",
              "          element.appendChild(docLink);\n",
              "        }\n",
              "      </script>\n",
              "    </div>\n",
              "  </div>\n",
              "  "
            ]
          },
          "metadata": {},
          "execution_count": 232
        }
      ]
    },
    {
      "cell_type": "code",
      "source": [
        "cartoon_ids = list(data[data['genres'].isin(['мультфильм'])]['item_id'].value_counts()[:5].index)"
      ],
      "metadata": {
        "id": "oenHPwsTMmk1"
      },
      "execution_count": 233,
      "outputs": []
    },
    {
      "cell_type": "code",
      "source": [
        "cartoon_ids"
      ],
      "metadata": {
        "colab": {
          "base_uri": "https://localhost:8080/"
        },
        "id": "rxg-R-QMNCWz",
        "outputId": "54e49514-8568-4b4e-97f6-7dbd8792fbc3"
      },
      "execution_count": 234,
      "outputs": [
        {
          "output_type": "execute_result",
          "data": {
            "text/plain": [
              "[11047, 599, 9950, 8134, 7844]"
            ]
          },
          "metadata": {},
          "execution_count": 234
        }
      ]
    },
    {
      "cell_type": "code",
      "source": [
        "items_df[items_df['item_id'].isin(cartoon_ids)]"
      ],
      "metadata": {
        "colab": {
          "base_uri": "https://localhost:8080/",
          "height": 354
        },
        "id": "sm8TJqjFNEHa",
        "outputId": "0b1e373b-0c5c-4f71-92a7-fe42ff013c22"
      },
      "execution_count": 235,
      "outputs": [
        {
          "output_type": "execute_result",
          "data": {
            "text/plain": [
              "      item_id content_type                title             title_orig  \\\n",
              "1754     9950         film  Мама для мамонтенка  Mama dlya mamontyonka   \n",
              "2390    11047         film        Гадкий утёнок         Gadkiy utyonok   \n",
              "3436     7844         film          Крошка Енот           Kroshka Enot   \n",
              "6590     8134         film           Большой Ух             Bolshoj Uh   \n",
              "8361      599         film         Будь здоров!           Bud' zdorov!   \n",
              "\n",
              "      release_year      genres countries  for_kids  age_rating studios  \\\n",
              "1754        1981.0  мультфильм    Россия       NaN         0.0     NaN   \n",
              "2390        2010.0  мультфильм    Россия       NaN        12.0     NaN   \n",
              "3436        1974.0  мультфильм    Россия       NaN         0.0     NaN   \n",
              "6590        1989.0  мультфильм    Россия       NaN         0.0     NaN   \n",
              "8361        2020.0  мультфильм      Кипр       NaN         0.0     NaN   \n",
              "\n",
              "         directors                                             actors  \\\n",
              "1754   Олег Чуркин  Зиновий Гердт, Зинаида Нарышкина, Клара Румяно...   \n",
              "2390  Гарри Бардин  Светлана Степченко, Владимир Спиваков, Констан...   \n",
              "3436   Олег Чуркин                  Клара Румянова, Мария Виноградова   \n",
              "6590  Юрий Бутырин   Александр Пожаров, Зоя Пыльнова, Александр Ильин   \n",
              "8361  Наумов Артем                                     Саранцева Варя   \n",
              "\n",
              "                                            description  \\\n",
              "1754  Мультфильм о судьбе мамонтёнка, который случай...   \n",
              "2390  Странного вида утенок вылупляется из необычног...   \n",
              "3436  Сегодня у Крошки Енота день рождения, и чтобы ...   \n",
              "6590  Чудик с большими ушами слушал музыку звезд и н...   \n",
              "8361  Маша подготовила несколько простых и о-очень п...   \n",
              "\n",
              "                                 keywords  \n",
              "1754  1981, россия, мама, для, мамонтенка  \n",
              "2390       , 2010, россия, гадкий, утёнок  \n",
              "3436           1974, россия, крошка, енот  \n",
              "6590            1989, россия, большой, ух  \n",
              "8361             2020, кипр, будь, здоров  "
            ],
            "text/html": [
              "\n",
              "  <div id=\"df-a5f167e1-bf1b-4ecc-9e31-878b985a9172\">\n",
              "    <div class=\"colab-df-container\">\n",
              "      <div>\n",
              "<style scoped>\n",
              "    .dataframe tbody tr th:only-of-type {\n",
              "        vertical-align: middle;\n",
              "    }\n",
              "\n",
              "    .dataframe tbody tr th {\n",
              "        vertical-align: top;\n",
              "    }\n",
              "\n",
              "    .dataframe thead th {\n",
              "        text-align: right;\n",
              "    }\n",
              "</style>\n",
              "<table border=\"1\" class=\"dataframe\">\n",
              "  <thead>\n",
              "    <tr style=\"text-align: right;\">\n",
              "      <th></th>\n",
              "      <th>item_id</th>\n",
              "      <th>content_type</th>\n",
              "      <th>title</th>\n",
              "      <th>title_orig</th>\n",
              "      <th>release_year</th>\n",
              "      <th>genres</th>\n",
              "      <th>countries</th>\n",
              "      <th>for_kids</th>\n",
              "      <th>age_rating</th>\n",
              "      <th>studios</th>\n",
              "      <th>directors</th>\n",
              "      <th>actors</th>\n",
              "      <th>description</th>\n",
              "      <th>keywords</th>\n",
              "    </tr>\n",
              "  </thead>\n",
              "  <tbody>\n",
              "    <tr>\n",
              "      <th>1754</th>\n",
              "      <td>9950</td>\n",
              "      <td>film</td>\n",
              "      <td>Мама для мамонтенка</td>\n",
              "      <td>Mama dlya mamontyonka</td>\n",
              "      <td>1981.0</td>\n",
              "      <td>мультфильм</td>\n",
              "      <td>Россия</td>\n",
              "      <td>NaN</td>\n",
              "      <td>0.0</td>\n",
              "      <td>NaN</td>\n",
              "      <td>Олег Чуркин</td>\n",
              "      <td>Зиновий Гердт, Зинаида Нарышкина, Клара Румяно...</td>\n",
              "      <td>Мультфильм о судьбе мамонтёнка, который случай...</td>\n",
              "      <td>1981, россия, мама, для, мамонтенка</td>\n",
              "    </tr>\n",
              "    <tr>\n",
              "      <th>2390</th>\n",
              "      <td>11047</td>\n",
              "      <td>film</td>\n",
              "      <td>Гадкий утёнок</td>\n",
              "      <td>Gadkiy utyonok</td>\n",
              "      <td>2010.0</td>\n",
              "      <td>мультфильм</td>\n",
              "      <td>Россия</td>\n",
              "      <td>NaN</td>\n",
              "      <td>12.0</td>\n",
              "      <td>NaN</td>\n",
              "      <td>Гарри Бардин</td>\n",
              "      <td>Светлана Степченко, Владимир Спиваков, Констан...</td>\n",
              "      <td>Странного вида утенок вылупляется из необычног...</td>\n",
              "      <td>, 2010, россия, гадкий, утёнок</td>\n",
              "    </tr>\n",
              "    <tr>\n",
              "      <th>3436</th>\n",
              "      <td>7844</td>\n",
              "      <td>film</td>\n",
              "      <td>Крошка Енот</td>\n",
              "      <td>Kroshka Enot</td>\n",
              "      <td>1974.0</td>\n",
              "      <td>мультфильм</td>\n",
              "      <td>Россия</td>\n",
              "      <td>NaN</td>\n",
              "      <td>0.0</td>\n",
              "      <td>NaN</td>\n",
              "      <td>Олег Чуркин</td>\n",
              "      <td>Клара Румянова, Мария Виноградова</td>\n",
              "      <td>Сегодня у Крошки Енота день рождения, и чтобы ...</td>\n",
              "      <td>1974, россия, крошка, енот</td>\n",
              "    </tr>\n",
              "    <tr>\n",
              "      <th>6590</th>\n",
              "      <td>8134</td>\n",
              "      <td>film</td>\n",
              "      <td>Большой Ух</td>\n",
              "      <td>Bolshoj Uh</td>\n",
              "      <td>1989.0</td>\n",
              "      <td>мультфильм</td>\n",
              "      <td>Россия</td>\n",
              "      <td>NaN</td>\n",
              "      <td>0.0</td>\n",
              "      <td>NaN</td>\n",
              "      <td>Юрий Бутырин</td>\n",
              "      <td>Александр Пожаров, Зоя Пыльнова, Александр Ильин</td>\n",
              "      <td>Чудик с большими ушами слушал музыку звезд и н...</td>\n",
              "      <td>1989, россия, большой, ух</td>\n",
              "    </tr>\n",
              "    <tr>\n",
              "      <th>8361</th>\n",
              "      <td>599</td>\n",
              "      <td>film</td>\n",
              "      <td>Будь здоров!</td>\n",
              "      <td>Bud' zdorov!</td>\n",
              "      <td>2020.0</td>\n",
              "      <td>мультфильм</td>\n",
              "      <td>Кипр</td>\n",
              "      <td>NaN</td>\n",
              "      <td>0.0</td>\n",
              "      <td>NaN</td>\n",
              "      <td>Наумов Артем</td>\n",
              "      <td>Саранцева Варя</td>\n",
              "      <td>Маша подготовила несколько простых и о-очень п...</td>\n",
              "      <td>2020, кипр, будь, здоров</td>\n",
              "    </tr>\n",
              "  </tbody>\n",
              "</table>\n",
              "</div>\n",
              "      <button class=\"colab-df-convert\" onclick=\"convertToInteractive('df-a5f167e1-bf1b-4ecc-9e31-878b985a9172')\"\n",
              "              title=\"Convert this dataframe to an interactive table.\"\n",
              "              style=\"display:none;\">\n",
              "        \n",
              "  <svg xmlns=\"http://www.w3.org/2000/svg\" height=\"24px\"viewBox=\"0 0 24 24\"\n",
              "       width=\"24px\">\n",
              "    <path d=\"M0 0h24v24H0V0z\" fill=\"none\"/>\n",
              "    <path d=\"M18.56 5.44l.94 2.06.94-2.06 2.06-.94-2.06-.94-.94-2.06-.94 2.06-2.06.94zm-11 1L8.5 8.5l.94-2.06 2.06-.94-2.06-.94L8.5 2.5l-.94 2.06-2.06.94zm10 10l.94 2.06.94-2.06 2.06-.94-2.06-.94-.94-2.06-.94 2.06-2.06.94z\"/><path d=\"M17.41 7.96l-1.37-1.37c-.4-.4-.92-.59-1.43-.59-.52 0-1.04.2-1.43.59L10.3 9.45l-7.72 7.72c-.78.78-.78 2.05 0 2.83L4 21.41c.39.39.9.59 1.41.59.51 0 1.02-.2 1.41-.59l7.78-7.78 2.81-2.81c.8-.78.8-2.07 0-2.86zM5.41 20L4 18.59l7.72-7.72 1.47 1.35L5.41 20z\"/>\n",
              "  </svg>\n",
              "      </button>\n",
              "      \n",
              "  <style>\n",
              "    .colab-df-container {\n",
              "      display:flex;\n",
              "      flex-wrap:wrap;\n",
              "      gap: 12px;\n",
              "    }\n",
              "\n",
              "    .colab-df-convert {\n",
              "      background-color: #E8F0FE;\n",
              "      border: none;\n",
              "      border-radius: 50%;\n",
              "      cursor: pointer;\n",
              "      display: none;\n",
              "      fill: #1967D2;\n",
              "      height: 32px;\n",
              "      padding: 0 0 0 0;\n",
              "      width: 32px;\n",
              "    }\n",
              "\n",
              "    .colab-df-convert:hover {\n",
              "      background-color: #E2EBFA;\n",
              "      box-shadow: 0px 1px 2px rgba(60, 64, 67, 0.3), 0px 1px 3px 1px rgba(60, 64, 67, 0.15);\n",
              "      fill: #174EA6;\n",
              "    }\n",
              "\n",
              "    [theme=dark] .colab-df-convert {\n",
              "      background-color: #3B4455;\n",
              "      fill: #D2E3FC;\n",
              "    }\n",
              "\n",
              "    [theme=dark] .colab-df-convert:hover {\n",
              "      background-color: #434B5C;\n",
              "      box-shadow: 0px 1px 3px 1px rgba(0, 0, 0, 0.15);\n",
              "      filter: drop-shadow(0px 1px 2px rgba(0, 0, 0, 0.3));\n",
              "      fill: #FFFFFF;\n",
              "    }\n",
              "  </style>\n",
              "\n",
              "      <script>\n",
              "        const buttonEl =\n",
              "          document.querySelector('#df-a5f167e1-bf1b-4ecc-9e31-878b985a9172 button.colab-df-convert');\n",
              "        buttonEl.style.display =\n",
              "          google.colab.kernel.accessAllowed ? 'block' : 'none';\n",
              "\n",
              "        async function convertToInteractive(key) {\n",
              "          const element = document.querySelector('#df-a5f167e1-bf1b-4ecc-9e31-878b985a9172');\n",
              "          const dataTable =\n",
              "            await google.colab.kernel.invokeFunction('convertToInteractive',\n",
              "                                                     [key], {});\n",
              "          if (!dataTable) return;\n",
              "\n",
              "          const docLinkHtml = 'Like what you see? Visit the ' +\n",
              "            '<a target=\"_blank\" href=https://colab.research.google.com/notebooks/data_table.ipynb>data table notebook</a>'\n",
              "            + ' to learn more about interactive tables.';\n",
              "          element.innerHTML = '';\n",
              "          dataTable['output_type'] = 'display_data';\n",
              "          await google.colab.output.renderOutput(dataTable, element);\n",
              "          const docLink = document.createElement('div');\n",
              "          docLink.innerHTML = docLinkHtml;\n",
              "          element.appendChild(docLink);\n",
              "        }\n",
              "      </script>\n",
              "    </div>\n",
              "  </div>\n",
              "  "
            ]
          },
          "metadata": {},
          "execution_count": 235
        }
      ]
    },
    {
      "cell_type": "markdown",
      "source": [
        "Добавим информацию об аватарах"
      ],
      "metadata": {
        "id": "ePMfHZsMNw9P"
      }
    },
    {
      "cell_type": "code",
      "source": [
        "users_df.head()"
      ],
      "metadata": {
        "colab": {
          "base_uri": "https://localhost:8080/",
          "height": 206
        },
        "id": "PGZDV7sTOmBy",
        "outputId": "d0a24388-7636-4756-eded-30fe03b23b66"
      },
      "execution_count": 236,
      "outputs": [
        {
          "output_type": "execute_result",
          "data": {
            "text/plain": [
              "   user_id        age        income sex  kids_flg\n",
              "0   973171  age_25_34  income_60_90   М         1\n",
              "1   962099  age_18_24  income_20_40   М         0\n",
              "2  1047345  age_45_54  income_40_60   Ж         0\n",
              "3   721985  age_45_54  income_20_40   Ж         0\n",
              "4   704055  age_35_44  income_60_90   Ж         0"
            ],
            "text/html": [
              "\n",
              "  <div id=\"df-c12c0c87-32e4-48fc-a2ee-9ecade5b4de5\">\n",
              "    <div class=\"colab-df-container\">\n",
              "      <div>\n",
              "<style scoped>\n",
              "    .dataframe tbody tr th:only-of-type {\n",
              "        vertical-align: middle;\n",
              "    }\n",
              "\n",
              "    .dataframe tbody tr th {\n",
              "        vertical-align: top;\n",
              "    }\n",
              "\n",
              "    .dataframe thead th {\n",
              "        text-align: right;\n",
              "    }\n",
              "</style>\n",
              "<table border=\"1\" class=\"dataframe\">\n",
              "  <thead>\n",
              "    <tr style=\"text-align: right;\">\n",
              "      <th></th>\n",
              "      <th>user_id</th>\n",
              "      <th>age</th>\n",
              "      <th>income</th>\n",
              "      <th>sex</th>\n",
              "      <th>kids_flg</th>\n",
              "    </tr>\n",
              "  </thead>\n",
              "  <tbody>\n",
              "    <tr>\n",
              "      <th>0</th>\n",
              "      <td>973171</td>\n",
              "      <td>age_25_34</td>\n",
              "      <td>income_60_90</td>\n",
              "      <td>М</td>\n",
              "      <td>1</td>\n",
              "    </tr>\n",
              "    <tr>\n",
              "      <th>1</th>\n",
              "      <td>962099</td>\n",
              "      <td>age_18_24</td>\n",
              "      <td>income_20_40</td>\n",
              "      <td>М</td>\n",
              "      <td>0</td>\n",
              "    </tr>\n",
              "    <tr>\n",
              "      <th>2</th>\n",
              "      <td>1047345</td>\n",
              "      <td>age_45_54</td>\n",
              "      <td>income_40_60</td>\n",
              "      <td>Ж</td>\n",
              "      <td>0</td>\n",
              "    </tr>\n",
              "    <tr>\n",
              "      <th>3</th>\n",
              "      <td>721985</td>\n",
              "      <td>age_45_54</td>\n",
              "      <td>income_20_40</td>\n",
              "      <td>Ж</td>\n",
              "      <td>0</td>\n",
              "    </tr>\n",
              "    <tr>\n",
              "      <th>4</th>\n",
              "      <td>704055</td>\n",
              "      <td>age_35_44</td>\n",
              "      <td>income_60_90</td>\n",
              "      <td>Ж</td>\n",
              "      <td>0</td>\n",
              "    </tr>\n",
              "  </tbody>\n",
              "</table>\n",
              "</div>\n",
              "      <button class=\"colab-df-convert\" onclick=\"convertToInteractive('df-c12c0c87-32e4-48fc-a2ee-9ecade5b4de5')\"\n",
              "              title=\"Convert this dataframe to an interactive table.\"\n",
              "              style=\"display:none;\">\n",
              "        \n",
              "  <svg xmlns=\"http://www.w3.org/2000/svg\" height=\"24px\"viewBox=\"0 0 24 24\"\n",
              "       width=\"24px\">\n",
              "    <path d=\"M0 0h24v24H0V0z\" fill=\"none\"/>\n",
              "    <path d=\"M18.56 5.44l.94 2.06.94-2.06 2.06-.94-2.06-.94-.94-2.06-.94 2.06-2.06.94zm-11 1L8.5 8.5l.94-2.06 2.06-.94-2.06-.94L8.5 2.5l-.94 2.06-2.06.94zm10 10l.94 2.06.94-2.06 2.06-.94-2.06-.94-.94-2.06-.94 2.06-2.06.94z\"/><path d=\"M17.41 7.96l-1.37-1.37c-.4-.4-.92-.59-1.43-.59-.52 0-1.04.2-1.43.59L10.3 9.45l-7.72 7.72c-.78.78-.78 2.05 0 2.83L4 21.41c.39.39.9.59 1.41.59.51 0 1.02-.2 1.41-.59l7.78-7.78 2.81-2.81c.8-.78.8-2.07 0-2.86zM5.41 20L4 18.59l7.72-7.72 1.47 1.35L5.41 20z\"/>\n",
              "  </svg>\n",
              "      </button>\n",
              "      \n",
              "  <style>\n",
              "    .colab-df-container {\n",
              "      display:flex;\n",
              "      flex-wrap:wrap;\n",
              "      gap: 12px;\n",
              "    }\n",
              "\n",
              "    .colab-df-convert {\n",
              "      background-color: #E8F0FE;\n",
              "      border: none;\n",
              "      border-radius: 50%;\n",
              "      cursor: pointer;\n",
              "      display: none;\n",
              "      fill: #1967D2;\n",
              "      height: 32px;\n",
              "      padding: 0 0 0 0;\n",
              "      width: 32px;\n",
              "    }\n",
              "\n",
              "    .colab-df-convert:hover {\n",
              "      background-color: #E2EBFA;\n",
              "      box-shadow: 0px 1px 2px rgba(60, 64, 67, 0.3), 0px 1px 3px 1px rgba(60, 64, 67, 0.15);\n",
              "      fill: #174EA6;\n",
              "    }\n",
              "\n",
              "    [theme=dark] .colab-df-convert {\n",
              "      background-color: #3B4455;\n",
              "      fill: #D2E3FC;\n",
              "    }\n",
              "\n",
              "    [theme=dark] .colab-df-convert:hover {\n",
              "      background-color: #434B5C;\n",
              "      box-shadow: 0px 1px 3px 1px rgba(0, 0, 0, 0.15);\n",
              "      filter: drop-shadow(0px 1px 2px rgba(0, 0, 0, 0.3));\n",
              "      fill: #FFFFFF;\n",
              "    }\n",
              "  </style>\n",
              "\n",
              "      <script>\n",
              "        const buttonEl =\n",
              "          document.querySelector('#df-c12c0c87-32e4-48fc-a2ee-9ecade5b4de5 button.colab-df-convert');\n",
              "        buttonEl.style.display =\n",
              "          google.colab.kernel.accessAllowed ? 'block' : 'none';\n",
              "\n",
              "        async function convertToInteractive(key) {\n",
              "          const element = document.querySelector('#df-c12c0c87-32e4-48fc-a2ee-9ecade5b4de5');\n",
              "          const dataTable =\n",
              "            await google.colab.kernel.invokeFunction('convertToInteractive',\n",
              "                                                     [key], {});\n",
              "          if (!dataTable) return;\n",
              "\n",
              "          const docLinkHtml = 'Like what you see? Visit the ' +\n",
              "            '<a target=\"_blank\" href=https://colab.research.google.com/notebooks/data_table.ipynb>data table notebook</a>'\n",
              "            + ' to learn more about interactive tables.';\n",
              "          element.innerHTML = '';\n",
              "          dataTable['output_type'] = 'display_data';\n",
              "          await google.colab.output.renderOutput(dataTable, element);\n",
              "          const docLink = document.createElement('div');\n",
              "          docLink.innerHTML = docLinkHtml;\n",
              "          element.appendChild(docLink);\n",
              "        }\n",
              "      </script>\n",
              "    </div>\n",
              "  </div>\n",
              "  "
            ]
          },
          "metadata": {},
          "execution_count": 236
        }
      ]
    },
    {
      "cell_type": "code",
      "source": [
        "users_df.age.unique()"
      ],
      "metadata": {
        "colab": {
          "base_uri": "https://localhost:8080/"
        },
        "id": "mSutEQvUOdFP",
        "outputId": "aeb3d735-d324-4d83-8400-792263f52e67"
      },
      "execution_count": 237,
      "outputs": [
        {
          "output_type": "execute_result",
          "data": {
            "text/plain": [
              "array(['age_25_34', 'age_18_24', 'age_45_54', 'age_35_44', 'Unknown',\n",
              "       'age_55_64', 'age_65_inf'], dtype=object)"
            ]
          },
          "metadata": {},
          "execution_count": 237
        }
      ]
    },
    {
      "cell_type": "code",
      "source": [
        "users_df.income.unique()"
      ],
      "metadata": {
        "colab": {
          "base_uri": "https://localhost:8080/"
        },
        "id": "4s65DQgCOjEr",
        "outputId": "8e499ca0-792e-482a-a938-e06bad4868bf"
      },
      "execution_count": 238,
      "outputs": [
        {
          "output_type": "execute_result",
          "data": {
            "text/plain": [
              "array(['income_60_90', 'income_20_40', 'income_40_60', 'income_0_20',\n",
              "       'Unknown', 'income_90_150', 'income_150_inf'], dtype=object)"
            ]
          },
          "metadata": {},
          "execution_count": 238
        }
      ]
    },
    {
      "cell_type": "code",
      "source": [
        "users_df['user_id'].max()"
      ],
      "metadata": {
        "colab": {
          "base_uri": "https://localhost:8080/"
        },
        "id": "fp-vH6uWNjPI",
        "outputId": "b66cd686-0990-4ebe-808b-d8be2d2794b6"
      },
      "execution_count": 239,
      "outputs": [
        {
          "output_type": "execute_result",
          "data": {
            "text/plain": [
              "1097558"
            ]
          },
          "metadata": {},
          "execution_count": 239
        }
      ]
    },
    {
      "cell_type": "code",
      "source": [
        "action_fan = {\n",
        "    'user_id': 1100000,\n",
        "    'age': 'age_25_34',\n",
        "    'income': 'income_40_60',\n",
        "    'sex': 'М',\n",
        "    'kids_flg': 0\n",
        "}\n",
        "\n",
        "comedy_fan = {\n",
        "    'user_id': 1100001,\n",
        "    'age': 'age_18_24',\n",
        "    'income': 'income_20_40',\n",
        "    'sex': 'М',\n",
        "    'kids_flg': 0\n",
        "}\n",
        "\n",
        "kid = {\n",
        "    'user_id': 1100002,\n",
        "    'age': 'Unknown',\n",
        "    'income': 'Unknown',\n",
        "    'sex': 'Ж',\n",
        "    'kids_flg': 1\n",
        "}"
      ],
      "metadata": {
        "id": "sQSpZVugPa8b"
      },
      "execution_count": 240,
      "outputs": []
    },
    {
      "cell_type": "code",
      "source": [
        "users_df = users_df.append(action_fan, ignore_index=True)\n",
        "users_df = users_df.append(comedy_fan, ignore_index=True)\n",
        "users_df = users_df.append(kid, ignore_index=True)"
      ],
      "metadata": {
        "id": "oM8QHWiGNjLb"
      },
      "execution_count": 241,
      "outputs": []
    },
    {
      "cell_type": "code",
      "source": [
        "users_df.tail()"
      ],
      "metadata": {
        "colab": {
          "base_uri": "https://localhost:8080/",
          "height": 206
        },
        "id": "TCaaYS5c96tW",
        "outputId": "844aecd6-3dcd-4fc6-c10c-d10e35a77a6d"
      },
      "execution_count": 242,
      "outputs": [
        {
          "output_type": "execute_result",
          "data": {
            "text/plain": [
              "        user_id         age        income sex  kids_flg\n",
              "840195   590706     Unknown       Unknown   Ж         0\n",
              "840196   166555  age_65_inf  income_20_40   Ж         0\n",
              "840197  1100000   age_25_34  income_40_60   М         0\n",
              "840198  1100001   age_18_24  income_20_40   М         0\n",
              "840199  1100002     Unknown       Unknown   Ж         1"
            ],
            "text/html": [
              "\n",
              "  <div id=\"df-cf1e31a0-495b-46b7-afd1-55e0571e42de\">\n",
              "    <div class=\"colab-df-container\">\n",
              "      <div>\n",
              "<style scoped>\n",
              "    .dataframe tbody tr th:only-of-type {\n",
              "        vertical-align: middle;\n",
              "    }\n",
              "\n",
              "    .dataframe tbody tr th {\n",
              "        vertical-align: top;\n",
              "    }\n",
              "\n",
              "    .dataframe thead th {\n",
              "        text-align: right;\n",
              "    }\n",
              "</style>\n",
              "<table border=\"1\" class=\"dataframe\">\n",
              "  <thead>\n",
              "    <tr style=\"text-align: right;\">\n",
              "      <th></th>\n",
              "      <th>user_id</th>\n",
              "      <th>age</th>\n",
              "      <th>income</th>\n",
              "      <th>sex</th>\n",
              "      <th>kids_flg</th>\n",
              "    </tr>\n",
              "  </thead>\n",
              "  <tbody>\n",
              "    <tr>\n",
              "      <th>840195</th>\n",
              "      <td>590706</td>\n",
              "      <td>Unknown</td>\n",
              "      <td>Unknown</td>\n",
              "      <td>Ж</td>\n",
              "      <td>0</td>\n",
              "    </tr>\n",
              "    <tr>\n",
              "      <th>840196</th>\n",
              "      <td>166555</td>\n",
              "      <td>age_65_inf</td>\n",
              "      <td>income_20_40</td>\n",
              "      <td>Ж</td>\n",
              "      <td>0</td>\n",
              "    </tr>\n",
              "    <tr>\n",
              "      <th>840197</th>\n",
              "      <td>1100000</td>\n",
              "      <td>age_25_34</td>\n",
              "      <td>income_40_60</td>\n",
              "      <td>М</td>\n",
              "      <td>0</td>\n",
              "    </tr>\n",
              "    <tr>\n",
              "      <th>840198</th>\n",
              "      <td>1100001</td>\n",
              "      <td>age_18_24</td>\n",
              "      <td>income_20_40</td>\n",
              "      <td>М</td>\n",
              "      <td>0</td>\n",
              "    </tr>\n",
              "    <tr>\n",
              "      <th>840199</th>\n",
              "      <td>1100002</td>\n",
              "      <td>Unknown</td>\n",
              "      <td>Unknown</td>\n",
              "      <td>Ж</td>\n",
              "      <td>1</td>\n",
              "    </tr>\n",
              "  </tbody>\n",
              "</table>\n",
              "</div>\n",
              "      <button class=\"colab-df-convert\" onclick=\"convertToInteractive('df-cf1e31a0-495b-46b7-afd1-55e0571e42de')\"\n",
              "              title=\"Convert this dataframe to an interactive table.\"\n",
              "              style=\"display:none;\">\n",
              "        \n",
              "  <svg xmlns=\"http://www.w3.org/2000/svg\" height=\"24px\"viewBox=\"0 0 24 24\"\n",
              "       width=\"24px\">\n",
              "    <path d=\"M0 0h24v24H0V0z\" fill=\"none\"/>\n",
              "    <path d=\"M18.56 5.44l.94 2.06.94-2.06 2.06-.94-2.06-.94-.94-2.06-.94 2.06-2.06.94zm-11 1L8.5 8.5l.94-2.06 2.06-.94-2.06-.94L8.5 2.5l-.94 2.06-2.06.94zm10 10l.94 2.06.94-2.06 2.06-.94-2.06-.94-.94-2.06-.94 2.06-2.06.94z\"/><path d=\"M17.41 7.96l-1.37-1.37c-.4-.4-.92-.59-1.43-.59-.52 0-1.04.2-1.43.59L10.3 9.45l-7.72 7.72c-.78.78-.78 2.05 0 2.83L4 21.41c.39.39.9.59 1.41.59.51 0 1.02-.2 1.41-.59l7.78-7.78 2.81-2.81c.8-.78.8-2.07 0-2.86zM5.41 20L4 18.59l7.72-7.72 1.47 1.35L5.41 20z\"/>\n",
              "  </svg>\n",
              "      </button>\n",
              "      \n",
              "  <style>\n",
              "    .colab-df-container {\n",
              "      display:flex;\n",
              "      flex-wrap:wrap;\n",
              "      gap: 12px;\n",
              "    }\n",
              "\n",
              "    .colab-df-convert {\n",
              "      background-color: #E8F0FE;\n",
              "      border: none;\n",
              "      border-radius: 50%;\n",
              "      cursor: pointer;\n",
              "      display: none;\n",
              "      fill: #1967D2;\n",
              "      height: 32px;\n",
              "      padding: 0 0 0 0;\n",
              "      width: 32px;\n",
              "    }\n",
              "\n",
              "    .colab-df-convert:hover {\n",
              "      background-color: #E2EBFA;\n",
              "      box-shadow: 0px 1px 2px rgba(60, 64, 67, 0.3), 0px 1px 3px 1px rgba(60, 64, 67, 0.15);\n",
              "      fill: #174EA6;\n",
              "    }\n",
              "\n",
              "    [theme=dark] .colab-df-convert {\n",
              "      background-color: #3B4455;\n",
              "      fill: #D2E3FC;\n",
              "    }\n",
              "\n",
              "    [theme=dark] .colab-df-convert:hover {\n",
              "      background-color: #434B5C;\n",
              "      box-shadow: 0px 1px 3px 1px rgba(0, 0, 0, 0.15);\n",
              "      filter: drop-shadow(0px 1px 2px rgba(0, 0, 0, 0.3));\n",
              "      fill: #FFFFFF;\n",
              "    }\n",
              "  </style>\n",
              "\n",
              "      <script>\n",
              "        const buttonEl =\n",
              "          document.querySelector('#df-cf1e31a0-495b-46b7-afd1-55e0571e42de button.colab-df-convert');\n",
              "        buttonEl.style.display =\n",
              "          google.colab.kernel.accessAllowed ? 'block' : 'none';\n",
              "\n",
              "        async function convertToInteractive(key) {\n",
              "          const element = document.querySelector('#df-cf1e31a0-495b-46b7-afd1-55e0571e42de');\n",
              "          const dataTable =\n",
              "            await google.colab.kernel.invokeFunction('convertToInteractive',\n",
              "                                                     [key], {});\n",
              "          if (!dataTable) return;\n",
              "\n",
              "          const docLinkHtml = 'Like what you see? Visit the ' +\n",
              "            '<a target=\"_blank\" href=https://colab.research.google.com/notebooks/data_table.ipynb>data table notebook</a>'\n",
              "            + ' to learn more about interactive tables.';\n",
              "          element.innerHTML = '';\n",
              "          dataTable['output_type'] = 'display_data';\n",
              "          await google.colab.output.renderOutput(dataTable, element);\n",
              "          const docLink = document.createElement('div');\n",
              "          docLink.innerHTML = docLinkHtml;\n",
              "          element.appendChild(docLink);\n",
              "        }\n",
              "      </script>\n",
              "    </div>\n",
              "  </div>\n",
              "  "
            ]
          },
          "metadata": {},
          "execution_count": 242
        }
      ]
    },
    {
      "cell_type": "markdown",
      "source": [
        "Добавим взаимодействия аватаров"
      ],
      "metadata": {
        "id": "vGlOaR4TkwSJ"
      }
    },
    {
      "cell_type": "code",
      "source": [
        "interactions.tail()"
      ],
      "metadata": {
        "colab": {
          "base_uri": "https://localhost:8080/",
          "height": 206
        },
        "id": "HajVTK1BlOFh",
        "outputId": "96fb0a8f-3967-49da-bb67-c8ac6a0ddfaa"
      },
      "execution_count": 243,
      "outputs": [
        {
          "output_type": "execute_result",
          "data": {
            "text/plain": [
              "         user_id  item_id last_watch_dt  total_dur  watched_pct  weight\n",
              "5476246   648596    12225    2021-08-13         76          0.0       1\n",
              "5476247   546862     9673    2021-04-13       2308         49.0       3\n",
              "5476248   697262    15297    2021-08-20      18307         63.0       3\n",
              "5476249   384202    16197    2021-04-19       6203        100.0       3\n",
              "5476250   319709     4436    2021-08-15       3921         45.0       3"
            ],
            "text/html": [
              "\n",
              "  <div id=\"df-c1671d0c-b454-4ab8-8c26-8b39ce1ed5dc\">\n",
              "    <div class=\"colab-df-container\">\n",
              "      <div>\n",
              "<style scoped>\n",
              "    .dataframe tbody tr th:only-of-type {\n",
              "        vertical-align: middle;\n",
              "    }\n",
              "\n",
              "    .dataframe tbody tr th {\n",
              "        vertical-align: top;\n",
              "    }\n",
              "\n",
              "    .dataframe thead th {\n",
              "        text-align: right;\n",
              "    }\n",
              "</style>\n",
              "<table border=\"1\" class=\"dataframe\">\n",
              "  <thead>\n",
              "    <tr style=\"text-align: right;\">\n",
              "      <th></th>\n",
              "      <th>user_id</th>\n",
              "      <th>item_id</th>\n",
              "      <th>last_watch_dt</th>\n",
              "      <th>total_dur</th>\n",
              "      <th>watched_pct</th>\n",
              "      <th>weight</th>\n",
              "    </tr>\n",
              "  </thead>\n",
              "  <tbody>\n",
              "    <tr>\n",
              "      <th>5476246</th>\n",
              "      <td>648596</td>\n",
              "      <td>12225</td>\n",
              "      <td>2021-08-13</td>\n",
              "      <td>76</td>\n",
              "      <td>0.0</td>\n",
              "      <td>1</td>\n",
              "    </tr>\n",
              "    <tr>\n",
              "      <th>5476247</th>\n",
              "      <td>546862</td>\n",
              "      <td>9673</td>\n",
              "      <td>2021-04-13</td>\n",
              "      <td>2308</td>\n",
              "      <td>49.0</td>\n",
              "      <td>3</td>\n",
              "    </tr>\n",
              "    <tr>\n",
              "      <th>5476248</th>\n",
              "      <td>697262</td>\n",
              "      <td>15297</td>\n",
              "      <td>2021-08-20</td>\n",
              "      <td>18307</td>\n",
              "      <td>63.0</td>\n",
              "      <td>3</td>\n",
              "    </tr>\n",
              "    <tr>\n",
              "      <th>5476249</th>\n",
              "      <td>384202</td>\n",
              "      <td>16197</td>\n",
              "      <td>2021-04-19</td>\n",
              "      <td>6203</td>\n",
              "      <td>100.0</td>\n",
              "      <td>3</td>\n",
              "    </tr>\n",
              "    <tr>\n",
              "      <th>5476250</th>\n",
              "      <td>319709</td>\n",
              "      <td>4436</td>\n",
              "      <td>2021-08-15</td>\n",
              "      <td>3921</td>\n",
              "      <td>45.0</td>\n",
              "      <td>3</td>\n",
              "    </tr>\n",
              "  </tbody>\n",
              "</table>\n",
              "</div>\n",
              "      <button class=\"colab-df-convert\" onclick=\"convertToInteractive('df-c1671d0c-b454-4ab8-8c26-8b39ce1ed5dc')\"\n",
              "              title=\"Convert this dataframe to an interactive table.\"\n",
              "              style=\"display:none;\">\n",
              "        \n",
              "  <svg xmlns=\"http://www.w3.org/2000/svg\" height=\"24px\"viewBox=\"0 0 24 24\"\n",
              "       width=\"24px\">\n",
              "    <path d=\"M0 0h24v24H0V0z\" fill=\"none\"/>\n",
              "    <path d=\"M18.56 5.44l.94 2.06.94-2.06 2.06-.94-2.06-.94-.94-2.06-.94 2.06-2.06.94zm-11 1L8.5 8.5l.94-2.06 2.06-.94-2.06-.94L8.5 2.5l-.94 2.06-2.06.94zm10 10l.94 2.06.94-2.06 2.06-.94-2.06-.94-.94-2.06-.94 2.06-2.06.94z\"/><path d=\"M17.41 7.96l-1.37-1.37c-.4-.4-.92-.59-1.43-.59-.52 0-1.04.2-1.43.59L10.3 9.45l-7.72 7.72c-.78.78-.78 2.05 0 2.83L4 21.41c.39.39.9.59 1.41.59.51 0 1.02-.2 1.41-.59l7.78-7.78 2.81-2.81c.8-.78.8-2.07 0-2.86zM5.41 20L4 18.59l7.72-7.72 1.47 1.35L5.41 20z\"/>\n",
              "  </svg>\n",
              "      </button>\n",
              "      \n",
              "  <style>\n",
              "    .colab-df-container {\n",
              "      display:flex;\n",
              "      flex-wrap:wrap;\n",
              "      gap: 12px;\n",
              "    }\n",
              "\n",
              "    .colab-df-convert {\n",
              "      background-color: #E8F0FE;\n",
              "      border: none;\n",
              "      border-radius: 50%;\n",
              "      cursor: pointer;\n",
              "      display: none;\n",
              "      fill: #1967D2;\n",
              "      height: 32px;\n",
              "      padding: 0 0 0 0;\n",
              "      width: 32px;\n",
              "    }\n",
              "\n",
              "    .colab-df-convert:hover {\n",
              "      background-color: #E2EBFA;\n",
              "      box-shadow: 0px 1px 2px rgba(60, 64, 67, 0.3), 0px 1px 3px 1px rgba(60, 64, 67, 0.15);\n",
              "      fill: #174EA6;\n",
              "    }\n",
              "\n",
              "    [theme=dark] .colab-df-convert {\n",
              "      background-color: #3B4455;\n",
              "      fill: #D2E3FC;\n",
              "    }\n",
              "\n",
              "    [theme=dark] .colab-df-convert:hover {\n",
              "      background-color: #434B5C;\n",
              "      box-shadow: 0px 1px 3px 1px rgba(0, 0, 0, 0.15);\n",
              "      filter: drop-shadow(0px 1px 2px rgba(0, 0, 0, 0.3));\n",
              "      fill: #FFFFFF;\n",
              "    }\n",
              "  </style>\n",
              "\n",
              "      <script>\n",
              "        const buttonEl =\n",
              "          document.querySelector('#df-c1671d0c-b454-4ab8-8c26-8b39ce1ed5dc button.colab-df-convert');\n",
              "        buttonEl.style.display =\n",
              "          google.colab.kernel.accessAllowed ? 'block' : 'none';\n",
              "\n",
              "        async function convertToInteractive(key) {\n",
              "          const element = document.querySelector('#df-c1671d0c-b454-4ab8-8c26-8b39ce1ed5dc');\n",
              "          const dataTable =\n",
              "            await google.colab.kernel.invokeFunction('convertToInteractive',\n",
              "                                                     [key], {});\n",
              "          if (!dataTable) return;\n",
              "\n",
              "          const docLinkHtml = 'Like what you see? Visit the ' +\n",
              "            '<a target=\"_blank\" href=https://colab.research.google.com/notebooks/data_table.ipynb>data table notebook</a>'\n",
              "            + ' to learn more about interactive tables.';\n",
              "          element.innerHTML = '';\n",
              "          dataTable['output_type'] = 'display_data';\n",
              "          await google.colab.output.renderOutput(dataTable, element);\n",
              "          const docLink = document.createElement('div');\n",
              "          docLink.innerHTML = docLinkHtml;\n",
              "          element.appendChild(docLink);\n",
              "        }\n",
              "      </script>\n",
              "    </div>\n",
              "  </div>\n",
              "  "
            ]
          },
          "metadata": {},
          "execution_count": 243
        }
      ]
    },
    {
      "cell_type": "code",
      "source": [
        "interactions['last_watch_dt']"
      ],
      "metadata": {
        "colab": {
          "base_uri": "https://localhost:8080/"
        },
        "id": "McZbrvRxuFS0",
        "outputId": "52939305-9341-421e-f3f7-6ff26c15bb46"
      },
      "execution_count": 244,
      "outputs": [
        {
          "output_type": "execute_result",
          "data": {
            "text/plain": [
              "0         2021-05-11\n",
              "1         2021-05-29\n",
              "2         2021-05-09\n",
              "3         2021-07-05\n",
              "4         2021-04-30\n",
              "             ...    \n",
              "5476246   2021-08-13\n",
              "5476247   2021-04-13\n",
              "5476248   2021-08-20\n",
              "5476249   2021-04-19\n",
              "5476250   2021-08-15\n",
              "Name: last_watch_dt, Length: 5476251, dtype: datetime64[ns]"
            ]
          },
          "metadata": {},
          "execution_count": 244
        }
      ]
    },
    {
      "cell_type": "code",
      "source": [
        "d = {'user_id': [1100000, 1100000, 1100000, 1100000, 1100000,\n",
        "                 1100001, 1100001, 1100001, 1100001, 1100001,\n",
        "                 1100002, 1100002, 1100002, 1100002, 1100002],\n",
        "    'item_id': [*action_ids, *comedy_ids, *cartoon_ids],\n",
        "    'last_watch_dt': [np.datetime64('2021-08-15') + np.timedelta64(i,'D') for i in range(15)],\n",
        "    'total_dur': [7200 for _ in range(15)],\n",
        "    'watched_pct': [100 for _ in range(15)],\n",
        "    'weight': [3 for _ in range(15)]\n",
        "}"
      ],
      "metadata": {
        "id": "bRzeFnKpQz9Y"
      },
      "execution_count": 245,
      "outputs": []
    },
    {
      "cell_type": "code",
      "source": [
        "for i in range(15):\n",
        "    avtr_interaction = {}\n",
        "    for key in d.keys():\n",
        "        avtr_interaction[key] = d[key][i]\n",
        "    interactions = interactions.append(avtr_interaction, ignore_index=True)"
      ],
      "metadata": {
        "id": "26HJGSfPvE55"
      },
      "execution_count": 246,
      "outputs": []
    },
    {
      "cell_type": "code",
      "source": [
        "interactions.tail(15)"
      ],
      "metadata": {
        "colab": {
          "base_uri": "https://localhost:8080/",
          "height": 520
        },
        "id": "PYLhwZMmuqbc",
        "outputId": "d33ec893-6f83-4c59-df52-6a88b4a0bb71"
      },
      "execution_count": 247,
      "outputs": [
        {
          "output_type": "execute_result",
          "data": {
            "text/plain": [
              "         user_id  item_id last_watch_dt  total_dur  watched_pct  weight\n",
              "5476251  1100000    12324    2021-08-15       7200        100.0       3\n",
              "5476252  1100000     9194    2021-08-16       7200        100.0       3\n",
              "5476253  1100000      991    2021-08-17       7200        100.0       3\n",
              "5476254  1100000      826    2021-08-18       7200        100.0       3\n",
              "5476255  1100000     5330    2021-08-19       7200        100.0       3\n",
              "5476256  1100001     4151    2021-08-20       7200        100.0       3\n",
              "5476257  1100001     3734    2021-08-21       7200        100.0       3\n",
              "5476258  1100001     4880    2021-08-22       7200        100.0       3\n",
              "5476259  1100001    11237    2021-08-23       7200        100.0       3\n",
              "5476260  1100001     7417    2021-08-24       7200        100.0       3\n",
              "5476261  1100002    11047    2021-08-25       7200        100.0       3\n",
              "5476262  1100002      599    2021-08-26       7200        100.0       3\n",
              "5476263  1100002     9950    2021-08-27       7200        100.0       3\n",
              "5476264  1100002     8134    2021-08-28       7200        100.0       3\n",
              "5476265  1100002     7844    2021-08-29       7200        100.0       3"
            ],
            "text/html": [
              "\n",
              "  <div id=\"df-d106b927-10cd-4a55-81e1-acc9135377d7\">\n",
              "    <div class=\"colab-df-container\">\n",
              "      <div>\n",
              "<style scoped>\n",
              "    .dataframe tbody tr th:only-of-type {\n",
              "        vertical-align: middle;\n",
              "    }\n",
              "\n",
              "    .dataframe tbody tr th {\n",
              "        vertical-align: top;\n",
              "    }\n",
              "\n",
              "    .dataframe thead th {\n",
              "        text-align: right;\n",
              "    }\n",
              "</style>\n",
              "<table border=\"1\" class=\"dataframe\">\n",
              "  <thead>\n",
              "    <tr style=\"text-align: right;\">\n",
              "      <th></th>\n",
              "      <th>user_id</th>\n",
              "      <th>item_id</th>\n",
              "      <th>last_watch_dt</th>\n",
              "      <th>total_dur</th>\n",
              "      <th>watched_pct</th>\n",
              "      <th>weight</th>\n",
              "    </tr>\n",
              "  </thead>\n",
              "  <tbody>\n",
              "    <tr>\n",
              "      <th>5476251</th>\n",
              "      <td>1100000</td>\n",
              "      <td>12324</td>\n",
              "      <td>2021-08-15</td>\n",
              "      <td>7200</td>\n",
              "      <td>100.0</td>\n",
              "      <td>3</td>\n",
              "    </tr>\n",
              "    <tr>\n",
              "      <th>5476252</th>\n",
              "      <td>1100000</td>\n",
              "      <td>9194</td>\n",
              "      <td>2021-08-16</td>\n",
              "      <td>7200</td>\n",
              "      <td>100.0</td>\n",
              "      <td>3</td>\n",
              "    </tr>\n",
              "    <tr>\n",
              "      <th>5476253</th>\n",
              "      <td>1100000</td>\n",
              "      <td>991</td>\n",
              "      <td>2021-08-17</td>\n",
              "      <td>7200</td>\n",
              "      <td>100.0</td>\n",
              "      <td>3</td>\n",
              "    </tr>\n",
              "    <tr>\n",
              "      <th>5476254</th>\n",
              "      <td>1100000</td>\n",
              "      <td>826</td>\n",
              "      <td>2021-08-18</td>\n",
              "      <td>7200</td>\n",
              "      <td>100.0</td>\n",
              "      <td>3</td>\n",
              "    </tr>\n",
              "    <tr>\n",
              "      <th>5476255</th>\n",
              "      <td>1100000</td>\n",
              "      <td>5330</td>\n",
              "      <td>2021-08-19</td>\n",
              "      <td>7200</td>\n",
              "      <td>100.0</td>\n",
              "      <td>3</td>\n",
              "    </tr>\n",
              "    <tr>\n",
              "      <th>5476256</th>\n",
              "      <td>1100001</td>\n",
              "      <td>4151</td>\n",
              "      <td>2021-08-20</td>\n",
              "      <td>7200</td>\n",
              "      <td>100.0</td>\n",
              "      <td>3</td>\n",
              "    </tr>\n",
              "    <tr>\n",
              "      <th>5476257</th>\n",
              "      <td>1100001</td>\n",
              "      <td>3734</td>\n",
              "      <td>2021-08-21</td>\n",
              "      <td>7200</td>\n",
              "      <td>100.0</td>\n",
              "      <td>3</td>\n",
              "    </tr>\n",
              "    <tr>\n",
              "      <th>5476258</th>\n",
              "      <td>1100001</td>\n",
              "      <td>4880</td>\n",
              "      <td>2021-08-22</td>\n",
              "      <td>7200</td>\n",
              "      <td>100.0</td>\n",
              "      <td>3</td>\n",
              "    </tr>\n",
              "    <tr>\n",
              "      <th>5476259</th>\n",
              "      <td>1100001</td>\n",
              "      <td>11237</td>\n",
              "      <td>2021-08-23</td>\n",
              "      <td>7200</td>\n",
              "      <td>100.0</td>\n",
              "      <td>3</td>\n",
              "    </tr>\n",
              "    <tr>\n",
              "      <th>5476260</th>\n",
              "      <td>1100001</td>\n",
              "      <td>7417</td>\n",
              "      <td>2021-08-24</td>\n",
              "      <td>7200</td>\n",
              "      <td>100.0</td>\n",
              "      <td>3</td>\n",
              "    </tr>\n",
              "    <tr>\n",
              "      <th>5476261</th>\n",
              "      <td>1100002</td>\n",
              "      <td>11047</td>\n",
              "      <td>2021-08-25</td>\n",
              "      <td>7200</td>\n",
              "      <td>100.0</td>\n",
              "      <td>3</td>\n",
              "    </tr>\n",
              "    <tr>\n",
              "      <th>5476262</th>\n",
              "      <td>1100002</td>\n",
              "      <td>599</td>\n",
              "      <td>2021-08-26</td>\n",
              "      <td>7200</td>\n",
              "      <td>100.0</td>\n",
              "      <td>3</td>\n",
              "    </tr>\n",
              "    <tr>\n",
              "      <th>5476263</th>\n",
              "      <td>1100002</td>\n",
              "      <td>9950</td>\n",
              "      <td>2021-08-27</td>\n",
              "      <td>7200</td>\n",
              "      <td>100.0</td>\n",
              "      <td>3</td>\n",
              "    </tr>\n",
              "    <tr>\n",
              "      <th>5476264</th>\n",
              "      <td>1100002</td>\n",
              "      <td>8134</td>\n",
              "      <td>2021-08-28</td>\n",
              "      <td>7200</td>\n",
              "      <td>100.0</td>\n",
              "      <td>3</td>\n",
              "    </tr>\n",
              "    <tr>\n",
              "      <th>5476265</th>\n",
              "      <td>1100002</td>\n",
              "      <td>7844</td>\n",
              "      <td>2021-08-29</td>\n",
              "      <td>7200</td>\n",
              "      <td>100.0</td>\n",
              "      <td>3</td>\n",
              "    </tr>\n",
              "  </tbody>\n",
              "</table>\n",
              "</div>\n",
              "      <button class=\"colab-df-convert\" onclick=\"convertToInteractive('df-d106b927-10cd-4a55-81e1-acc9135377d7')\"\n",
              "              title=\"Convert this dataframe to an interactive table.\"\n",
              "              style=\"display:none;\">\n",
              "        \n",
              "  <svg xmlns=\"http://www.w3.org/2000/svg\" height=\"24px\"viewBox=\"0 0 24 24\"\n",
              "       width=\"24px\">\n",
              "    <path d=\"M0 0h24v24H0V0z\" fill=\"none\"/>\n",
              "    <path d=\"M18.56 5.44l.94 2.06.94-2.06 2.06-.94-2.06-.94-.94-2.06-.94 2.06-2.06.94zm-11 1L8.5 8.5l.94-2.06 2.06-.94-2.06-.94L8.5 2.5l-.94 2.06-2.06.94zm10 10l.94 2.06.94-2.06 2.06-.94-2.06-.94-.94-2.06-.94 2.06-2.06.94z\"/><path d=\"M17.41 7.96l-1.37-1.37c-.4-.4-.92-.59-1.43-.59-.52 0-1.04.2-1.43.59L10.3 9.45l-7.72 7.72c-.78.78-.78 2.05 0 2.83L4 21.41c.39.39.9.59 1.41.59.51 0 1.02-.2 1.41-.59l7.78-7.78 2.81-2.81c.8-.78.8-2.07 0-2.86zM5.41 20L4 18.59l7.72-7.72 1.47 1.35L5.41 20z\"/>\n",
              "  </svg>\n",
              "      </button>\n",
              "      \n",
              "  <style>\n",
              "    .colab-df-container {\n",
              "      display:flex;\n",
              "      flex-wrap:wrap;\n",
              "      gap: 12px;\n",
              "    }\n",
              "\n",
              "    .colab-df-convert {\n",
              "      background-color: #E8F0FE;\n",
              "      border: none;\n",
              "      border-radius: 50%;\n",
              "      cursor: pointer;\n",
              "      display: none;\n",
              "      fill: #1967D2;\n",
              "      height: 32px;\n",
              "      padding: 0 0 0 0;\n",
              "      width: 32px;\n",
              "    }\n",
              "\n",
              "    .colab-df-convert:hover {\n",
              "      background-color: #E2EBFA;\n",
              "      box-shadow: 0px 1px 2px rgba(60, 64, 67, 0.3), 0px 1px 3px 1px rgba(60, 64, 67, 0.15);\n",
              "      fill: #174EA6;\n",
              "    }\n",
              "\n",
              "    [theme=dark] .colab-df-convert {\n",
              "      background-color: #3B4455;\n",
              "      fill: #D2E3FC;\n",
              "    }\n",
              "\n",
              "    [theme=dark] .colab-df-convert:hover {\n",
              "      background-color: #434B5C;\n",
              "      box-shadow: 0px 1px 3px 1px rgba(0, 0, 0, 0.15);\n",
              "      filter: drop-shadow(0px 1px 2px rgba(0, 0, 0, 0.3));\n",
              "      fill: #FFFFFF;\n",
              "    }\n",
              "  </style>\n",
              "\n",
              "      <script>\n",
              "        const buttonEl =\n",
              "          document.querySelector('#df-d106b927-10cd-4a55-81e1-acc9135377d7 button.colab-df-convert');\n",
              "        buttonEl.style.display =\n",
              "          google.colab.kernel.accessAllowed ? 'block' : 'none';\n",
              "\n",
              "        async function convertToInteractive(key) {\n",
              "          const element = document.querySelector('#df-d106b927-10cd-4a55-81e1-acc9135377d7');\n",
              "          const dataTable =\n",
              "            await google.colab.kernel.invokeFunction('convertToInteractive',\n",
              "                                                     [key], {});\n",
              "          if (!dataTable) return;\n",
              "\n",
              "          const docLinkHtml = 'Like what you see? Visit the ' +\n",
              "            '<a target=\"_blank\" href=https://colab.research.google.com/notebooks/data_table.ipynb>data table notebook</a>'\n",
              "            + ' to learn more about interactive tables.';\n",
              "          element.innerHTML = '';\n",
              "          dataTable['output_type'] = 'display_data';\n",
              "          await google.colab.output.renderOutput(dataTable, element);\n",
              "          const docLink = document.createElement('div');\n",
              "          docLink.innerHTML = docLinkHtml;\n",
              "          element.appendChild(docLink);\n",
              "        }\n",
              "      </script>\n",
              "    </div>\n",
              "  </div>\n",
              "  "
            ]
          },
          "metadata": {},
          "execution_count": 247
        }
      ]
    },
    {
      "cell_type": "markdown",
      "source": [
        "Переобучим модель и посмотрим на рекомендации"
      ],
      "metadata": {
        "id": "IXf7cCdX3AwT"
      }
    },
    {
      "cell_type": "code",
      "source": [
        "users_df = users_df.loc[users_df[Columns.User].isin(interactions[Columns.User])]\n",
        "\n",
        "user_features_frames = []\n",
        "for feature in [\"sex\", \"age\", \"income\"]:\n",
        "    feature_frame = users_df.reindex(columns=[Columns.User, feature])\n",
        "    feature_frame.columns = [\"id\", \"value\"]\n",
        "    feature_frame[\"feature\"] = feature\n",
        "    user_features_frames.append(feature_frame)\n",
        "user_features = pd.concat(user_features_frames)"
      ],
      "metadata": {
        "id": "TikUtYW7yV_4"
      },
      "execution_count": 248,
      "outputs": []
    },
    {
      "cell_type": "code",
      "source": [
        "items_df = items_df.loc[items_df[Columns.Item].isin(interactions[Columns.Item])]\n",
        "\n",
        "items_df[\"genre\"] = items_df[\"genres\"].str.lower().str.replace(\", \", \",\", regex=False).str.split(\",\")\n",
        "genre_feature = items_df[[\"item_id\", \"genre\"]].explode(\"genre\")\n",
        "genre_feature.columns = [\"id\", \"value\"]\n",
        "genre_feature[\"feature\"] = \"genre\"\n",
        "genre_feature.head()\n",
        "\n",
        "content_feature = items_df.reindex(columns=[Columns.Item, \"content_type\"])\n",
        "content_feature.columns = [\"id\", \"value\"]\n",
        "content_feature[\"feature\"] = \"content_type\"\n",
        "\n",
        "item_features = pd.concat((genre_feature, content_feature))"
      ],
      "metadata": {
        "id": "C2U5v2U3yV9P"
      },
      "execution_count": 249,
      "outputs": []
    },
    {
      "cell_type": "code",
      "source": [
        "full_dataset = Dataset.construct(\n",
        "    interactions_df=interactions,\n",
        "    user_features_df=user_features,\n",
        "    cat_user_features=[\"sex\", \"age\", \"income\"],\n",
        "    item_features_df=item_features,\n",
        "    cat_item_features=[\"genre\", \"content_type\"],\n",
        ")"
      ],
      "metadata": {
        "id": "1k7PHIPux_if"
      },
      "execution_count": 250,
      "outputs": []
    },
    {
      "cell_type": "code",
      "source": [
        "best_model = LightFMWrapperModel(\n",
        "    LightFM(\n",
        "        no_components=48,\n",
        "        loss=LOSS,\n",
        "        learning_rate=0.0095,\n",
        "        random_state=RANDOM_STATE\n",
        "    ),\n",
        "    num_threads=NUM_THREADS,\n",
        ")\n",
        "    \n",
        "best_model.fit(full_dataset)"
      ],
      "metadata": {
        "colab": {
          "base_uri": "https://localhost:8080/"
        },
        "id": "QerP4v3_x_gF",
        "outputId": "c08d9ded-9562-4012-ff0f-b65377956cf7"
      },
      "execution_count": 251,
      "outputs": [
        {
          "output_type": "execute_result",
          "data": {
            "text/plain": [
              "<rectools.models.lightfm.LightFMWrapperModel at 0x7f143947a850>"
            ]
          },
          "metadata": {},
          "execution_count": 251
        }
      ]
    },
    {
      "cell_type": "code",
      "source": [
        "films_popularity = interactions['item_id'].value_counts()"
      ],
      "metadata": {
        "id": "9T0r1SPfO8zF"
      },
      "execution_count": 252,
      "outputs": []
    },
    {
      "cell_type": "code",
      "source": [
        "items_df['popularity'] = items_df.item_id.apply(lambda id: films_popularity[id])"
      ],
      "metadata": {
        "id": "Py105tsYPh2Z"
      },
      "execution_count": 253,
      "outputs": []
    },
    {
      "cell_type": "code",
      "source": [
        "imp_cols_recs = ['user_id', 'item_id', 'rank', 'popularity', 'title', 'genres',\n",
        "                 'countries', 'for_kids', 'age_rating', 'description', 'keywords']\n",
        "imp_cols_intrs = ['user_id', 'item_id', 'last_watch_dt', 'total_dur', \n",
        "                  'watched_pct', 'weight', 'content_type', 'title', 'genres',\n",
        "                  'countries', 'for_kids', 'age_rating', 'description', \n",
        "                  'keywords', 'popularity']"
      ],
      "metadata": {
        "id": "_O83YzhoQnpW"
      },
      "execution_count": 254,
      "outputs": []
    },
    {
      "cell_type": "markdown",
      "source": [
        "## Любитель боевиков"
      ],
      "metadata": {
        "id": "P66ObWhlOd_i"
      }
    },
    {
      "cell_type": "code",
      "source": [
        "avtr_recs = best_model.recommend(\n",
        "    users=[1100000],\n",
        "    dataset=full_dataset,\n",
        "    k=10,\n",
        "    filter_viewed=True,\n",
        ")"
      ],
      "metadata": {
        "id": "Z_W2W93vOxuf"
      },
      "execution_count": 255,
      "outputs": []
    },
    {
      "cell_type": "code",
      "source": [
        "avtr_recs = avtr_recs.merge(items_df, on='item_id').sort_values(['rank'])"
      ],
      "metadata": {
        "id": "5DjtPDohO6ae"
      },
      "execution_count": 256,
      "outputs": []
    },
    {
      "cell_type": "markdown",
      "source": [
        "Взаимодействия аватара:"
      ],
      "metadata": {
        "id": "g9_PqzdZRMO3"
      }
    },
    {
      "cell_type": "code",
      "source": [
        "interactions[interactions.user_id==1100000].merge(items_df, on='item_id')[imp_cols_intrs]"
      ],
      "metadata": {
        "colab": {
          "base_uri": "https://localhost:8080/",
          "height": 372
        },
        "id": "pz_RjPP5RQN4",
        "outputId": "82674d9b-7234-4b39-d1b3-7aa0a82cd2e4"
      },
      "execution_count": 257,
      "outputs": [
        {
          "output_type": "execute_result",
          "data": {
            "text/plain": [
              "   user_id  item_id last_watch_dt  total_dur  watched_pct  weight  \\\n",
              "0  1100000    12324    2021-08-15       7200        100.0       3   \n",
              "1  1100000     9194    2021-08-16       7200        100.0       3   \n",
              "2  1100000      991    2021-08-17       7200        100.0       3   \n",
              "3  1100000      826    2021-08-18       7200        100.0       3   \n",
              "4  1100000     5330    2021-08-19       7200        100.0       3   \n",
              "\n",
              "  content_type                          title   genres  \\\n",
              "0         film       Патруль: По законам улиц  боевики   \n",
              "1         film      Роберт — король Шотландии  боевики   \n",
              "2         film         Избави нас от лукавого  боевики   \n",
              "3         film  Октагон: боец против рестлера  боевики   \n",
              "4         film          Самый опасный человек  боевики   \n",
              "\n",
              "                       countries  for_kids  age_rating  \\\n",
              "0                          Дания       NaN        18.0   \n",
              "1                            США       NaN        16.0   \n",
              "2               Республика Корея       NaN        18.0   \n",
              "3                 Великобритания       NaN        16.0   \n",
              "4  Великобритания, США, Германия       NaN        16.0   \n",
              "\n",
              "                                         description  \\\n",
              "0  Полицейские Йенс и Майк регулярно патрулируют ...   \n",
              "1  Для одних он - беглый преступник, дли других –...   \n",
              "2  Бывший секретный оперативник южнокорейских спе...   \n",
              "3  Рисс – величайший чемпион ММА и легенда октаго...   \n",
              "4  Каждая война начинается со страха. Каждое пред...   \n",
              "\n",
              "                                            keywords  popularity  \n",
              "0            2020, дания, патруль, по, законам, улиц        8797  \n",
              "1  Шотландия, семейные тайны, король, 14 век, отн...        8031  \n",
              "2  бангкок, таиланд, месть, вкрутую, 2020, южная ...        3271  \n",
              "3  борьба, смешанные единоборства, 2020, соединен...        2077  \n",
              "4  Мерседес-Бенц-сл, Форд, Форд Мондео, Альфа Ром...        1916  "
            ],
            "text/html": [
              "\n",
              "  <div id=\"df-a64081a1-c448-418f-b120-4f409a16f3da\">\n",
              "    <div class=\"colab-df-container\">\n",
              "      <div>\n",
              "<style scoped>\n",
              "    .dataframe tbody tr th:only-of-type {\n",
              "        vertical-align: middle;\n",
              "    }\n",
              "\n",
              "    .dataframe tbody tr th {\n",
              "        vertical-align: top;\n",
              "    }\n",
              "\n",
              "    .dataframe thead th {\n",
              "        text-align: right;\n",
              "    }\n",
              "</style>\n",
              "<table border=\"1\" class=\"dataframe\">\n",
              "  <thead>\n",
              "    <tr style=\"text-align: right;\">\n",
              "      <th></th>\n",
              "      <th>user_id</th>\n",
              "      <th>item_id</th>\n",
              "      <th>last_watch_dt</th>\n",
              "      <th>total_dur</th>\n",
              "      <th>watched_pct</th>\n",
              "      <th>weight</th>\n",
              "      <th>content_type</th>\n",
              "      <th>title</th>\n",
              "      <th>genres</th>\n",
              "      <th>countries</th>\n",
              "      <th>for_kids</th>\n",
              "      <th>age_rating</th>\n",
              "      <th>description</th>\n",
              "      <th>keywords</th>\n",
              "      <th>popularity</th>\n",
              "    </tr>\n",
              "  </thead>\n",
              "  <tbody>\n",
              "    <tr>\n",
              "      <th>0</th>\n",
              "      <td>1100000</td>\n",
              "      <td>12324</td>\n",
              "      <td>2021-08-15</td>\n",
              "      <td>7200</td>\n",
              "      <td>100.0</td>\n",
              "      <td>3</td>\n",
              "      <td>film</td>\n",
              "      <td>Патруль: По законам улиц</td>\n",
              "      <td>боевики</td>\n",
              "      <td>Дания</td>\n",
              "      <td>NaN</td>\n",
              "      <td>18.0</td>\n",
              "      <td>Полицейские Йенс и Майк регулярно патрулируют ...</td>\n",
              "      <td>2020, дания, патруль, по, законам, улиц</td>\n",
              "      <td>8797</td>\n",
              "    </tr>\n",
              "    <tr>\n",
              "      <th>1</th>\n",
              "      <td>1100000</td>\n",
              "      <td>9194</td>\n",
              "      <td>2021-08-16</td>\n",
              "      <td>7200</td>\n",
              "      <td>100.0</td>\n",
              "      <td>3</td>\n",
              "      <td>film</td>\n",
              "      <td>Роберт — король Шотландии</td>\n",
              "      <td>боевики</td>\n",
              "      <td>США</td>\n",
              "      <td>NaN</td>\n",
              "      <td>16.0</td>\n",
              "      <td>Для одних он - беглый преступник, дли других –...</td>\n",
              "      <td>Шотландия, семейные тайны, король, 14 век, отн...</td>\n",
              "      <td>8031</td>\n",
              "    </tr>\n",
              "    <tr>\n",
              "      <th>2</th>\n",
              "      <td>1100000</td>\n",
              "      <td>991</td>\n",
              "      <td>2021-08-17</td>\n",
              "      <td>7200</td>\n",
              "      <td>100.0</td>\n",
              "      <td>3</td>\n",
              "      <td>film</td>\n",
              "      <td>Избави нас от лукавого</td>\n",
              "      <td>боевики</td>\n",
              "      <td>Республика Корея</td>\n",
              "      <td>NaN</td>\n",
              "      <td>18.0</td>\n",
              "      <td>Бывший секретный оперативник южнокорейских спе...</td>\n",
              "      <td>бангкок, таиланд, месть, вкрутую, 2020, южная ...</td>\n",
              "      <td>3271</td>\n",
              "    </tr>\n",
              "    <tr>\n",
              "      <th>3</th>\n",
              "      <td>1100000</td>\n",
              "      <td>826</td>\n",
              "      <td>2021-08-18</td>\n",
              "      <td>7200</td>\n",
              "      <td>100.0</td>\n",
              "      <td>3</td>\n",
              "      <td>film</td>\n",
              "      <td>Октагон: боец против рестлера</td>\n",
              "      <td>боевики</td>\n",
              "      <td>Великобритания</td>\n",
              "      <td>NaN</td>\n",
              "      <td>16.0</td>\n",
              "      <td>Рисс – величайший чемпион ММА и легенда октаго...</td>\n",
              "      <td>борьба, смешанные единоборства, 2020, соединен...</td>\n",
              "      <td>2077</td>\n",
              "    </tr>\n",
              "    <tr>\n",
              "      <th>4</th>\n",
              "      <td>1100000</td>\n",
              "      <td>5330</td>\n",
              "      <td>2021-08-19</td>\n",
              "      <td>7200</td>\n",
              "      <td>100.0</td>\n",
              "      <td>3</td>\n",
              "      <td>film</td>\n",
              "      <td>Самый опасный человек</td>\n",
              "      <td>боевики</td>\n",
              "      <td>Великобритания, США, Германия</td>\n",
              "      <td>NaN</td>\n",
              "      <td>16.0</td>\n",
              "      <td>Каждая война начинается со страха. Каждое пред...</td>\n",
              "      <td>Мерседес-Бенц-сл, Форд, Форд Мондео, Альфа Ром...</td>\n",
              "      <td>1916</td>\n",
              "    </tr>\n",
              "  </tbody>\n",
              "</table>\n",
              "</div>\n",
              "      <button class=\"colab-df-convert\" onclick=\"convertToInteractive('df-a64081a1-c448-418f-b120-4f409a16f3da')\"\n",
              "              title=\"Convert this dataframe to an interactive table.\"\n",
              "              style=\"display:none;\">\n",
              "        \n",
              "  <svg xmlns=\"http://www.w3.org/2000/svg\" height=\"24px\"viewBox=\"0 0 24 24\"\n",
              "       width=\"24px\">\n",
              "    <path d=\"M0 0h24v24H0V0z\" fill=\"none\"/>\n",
              "    <path d=\"M18.56 5.44l.94 2.06.94-2.06 2.06-.94-2.06-.94-.94-2.06-.94 2.06-2.06.94zm-11 1L8.5 8.5l.94-2.06 2.06-.94-2.06-.94L8.5 2.5l-.94 2.06-2.06.94zm10 10l.94 2.06.94-2.06 2.06-.94-2.06-.94-.94-2.06-.94 2.06-2.06.94z\"/><path d=\"M17.41 7.96l-1.37-1.37c-.4-.4-.92-.59-1.43-.59-.52 0-1.04.2-1.43.59L10.3 9.45l-7.72 7.72c-.78.78-.78 2.05 0 2.83L4 21.41c.39.39.9.59 1.41.59.51 0 1.02-.2 1.41-.59l7.78-7.78 2.81-2.81c.8-.78.8-2.07 0-2.86zM5.41 20L4 18.59l7.72-7.72 1.47 1.35L5.41 20z\"/>\n",
              "  </svg>\n",
              "      </button>\n",
              "      \n",
              "  <style>\n",
              "    .colab-df-container {\n",
              "      display:flex;\n",
              "      flex-wrap:wrap;\n",
              "      gap: 12px;\n",
              "    }\n",
              "\n",
              "    .colab-df-convert {\n",
              "      background-color: #E8F0FE;\n",
              "      border: none;\n",
              "      border-radius: 50%;\n",
              "      cursor: pointer;\n",
              "      display: none;\n",
              "      fill: #1967D2;\n",
              "      height: 32px;\n",
              "      padding: 0 0 0 0;\n",
              "      width: 32px;\n",
              "    }\n",
              "\n",
              "    .colab-df-convert:hover {\n",
              "      background-color: #E2EBFA;\n",
              "      box-shadow: 0px 1px 2px rgba(60, 64, 67, 0.3), 0px 1px 3px 1px rgba(60, 64, 67, 0.15);\n",
              "      fill: #174EA6;\n",
              "    }\n",
              "\n",
              "    [theme=dark] .colab-df-convert {\n",
              "      background-color: #3B4455;\n",
              "      fill: #D2E3FC;\n",
              "    }\n",
              "\n",
              "    [theme=dark] .colab-df-convert:hover {\n",
              "      background-color: #434B5C;\n",
              "      box-shadow: 0px 1px 3px 1px rgba(0, 0, 0, 0.15);\n",
              "      filter: drop-shadow(0px 1px 2px rgba(0, 0, 0, 0.3));\n",
              "      fill: #FFFFFF;\n",
              "    }\n",
              "  </style>\n",
              "\n",
              "      <script>\n",
              "        const buttonEl =\n",
              "          document.querySelector('#df-a64081a1-c448-418f-b120-4f409a16f3da button.colab-df-convert');\n",
              "        buttonEl.style.display =\n",
              "          google.colab.kernel.accessAllowed ? 'block' : 'none';\n",
              "\n",
              "        async function convertToInteractive(key) {\n",
              "          const element = document.querySelector('#df-a64081a1-c448-418f-b120-4f409a16f3da');\n",
              "          const dataTable =\n",
              "            await google.colab.kernel.invokeFunction('convertToInteractive',\n",
              "                                                     [key], {});\n",
              "          if (!dataTable) return;\n",
              "\n",
              "          const docLinkHtml = 'Like what you see? Visit the ' +\n",
              "            '<a target=\"_blank\" href=https://colab.research.google.com/notebooks/data_table.ipynb>data table notebook</a>'\n",
              "            + ' to learn more about interactive tables.';\n",
              "          element.innerHTML = '';\n",
              "          dataTable['output_type'] = 'display_data';\n",
              "          await google.colab.output.renderOutput(dataTable, element);\n",
              "          const docLink = document.createElement('div');\n",
              "          docLink.innerHTML = docLinkHtml;\n",
              "          element.appendChild(docLink);\n",
              "        }\n",
              "      </script>\n",
              "    </div>\n",
              "  </div>\n",
              "  "
            ]
          },
          "metadata": {},
          "execution_count": 257
        }
      ]
    },
    {
      "cell_type": "markdown",
      "source": [
        "Его рекомендации:"
      ],
      "metadata": {
        "id": "eVZQBnQJRQlt"
      }
    },
    {
      "cell_type": "code",
      "source": [
        "avtr_recs[imp_cols_recs]"
      ],
      "metadata": {
        "colab": {
          "base_uri": "https://localhost:8080/",
          "height": 581
        },
        "id": "H0pNikOcQmFI",
        "outputId": "31223f7d-2b93-4d14-fc5e-fb979cdce94a"
      },
      "execution_count": 258,
      "outputs": [
        {
          "output_type": "execute_result",
          "data": {
            "text/plain": [
              "   user_id  item_id  rank  popularity                         title  \\\n",
              "0  1100000     9728     1      132865             Гнев человеческий   \n",
              "1  1100000    10440     2      202457                   Хрустальный   \n",
              "2  1100000    13865     3      122119                      Девятаев   \n",
              "3  1100000    15297     4      193123               Клиника счастья   \n",
              "4  1100000     3734     5       74804  Прабабушка легкого поведения   \n",
              "5  1100000     4151     6       91168        Секреты семейной жизни   \n",
              "6  1100000     4880     7       55044                         Афера   \n",
              "7  1100000     7829     8       20017                 Поступь хаоса   \n",
              "8  1100000     6809     9       40372                         Дуров   \n",
              "9  1100000     2657    10       68581                    Подслушано   \n",
              "\n",
              "                                      genres                countries  \\\n",
              "0                          боевики, триллеры      Великобритания, США   \n",
              "1                        триллеры, детективы                   Россия   \n",
              "2                драмы, военные, приключения                   Россия   \n",
              "3                           драмы, мелодрамы                   Россия   \n",
              "4                                    комедии                   Россия   \n",
              "5                                    комедии                   Россия   \n",
              "6                                    комедии                   Россия   \n",
              "7  боевики, фантастика, фэнтези, приключения  США, Канада, Люксембург   \n",
              "8                             документальное                   Россия   \n",
              "9                            драмы, триллеры                   Россия   \n",
              "\n",
              "   for_kids  age_rating                                        description  \\\n",
              "0       NaN        18.0  Грузовики лос-анджелесской инкассаторской комп...   \n",
              "1       NaN        18.0  Сергей Смирнов — один из лучших «охотников на ...   \n",
              "2       NaN        12.0  Военно-исторический блокбастер от режиссёров Т...   \n",
              "3       NaN        18.0  Успешный сексолог Алена уверена, что нашла фор...   \n",
              "4       NaN        16.0  1980 год, вся страна следит за событиями моско...   \n",
              "5       NaN        18.0  У Никиты и Полины всё начиналось прекрасно: об...   \n",
              "6       NaN        18.0  Смотри:- как кино- как сериалКарантин окончен,...   \n",
              "7       NaN        16.0  2257 год. Родина Тодда Хьюитта — колонизирован...   \n",
              "8       NaN        16.0  Уникальная история о лидере нового поколения, ...   \n",
              "9       NaN        16.0  Смотри:- как кино- как сериалПодростковый псих...   \n",
              "\n",
              "                                            keywords  \n",
              "0  ограбление, криминальный авторитет, месть, пер...  \n",
              "1  хруст, хрусталь, хруста, хрус, полицейский, пе...  \n",
              "2  Девятаев, Девятаева, Девят, Девя, Девята, Девя...  \n",
              "3  Клиника счастья, Клиника, Счастье, Клиника сча...  \n",
              "4     , 2021, россия, прабабушка, легкого, поведения  \n",
              "5  брызги крови, кровь, жестокое обращение с живо...  \n",
              "6  Афера, Аферисты, Карантин, Пандемия, Карантин ...  \n",
              "7  по роману или книге, постапокалиптическое буду...  \n",
              "8  Компьютер, Монитор, Гений, Интервью, Предприни...  \n",
              "9  подслушано, подслушано в контакте, социальная ...  "
            ],
            "text/html": [
              "\n",
              "  <div id=\"df-6f3ef25f-f28f-4117-ae1c-07adae167c9d\">\n",
              "    <div class=\"colab-df-container\">\n",
              "      <div>\n",
              "<style scoped>\n",
              "    .dataframe tbody tr th:only-of-type {\n",
              "        vertical-align: middle;\n",
              "    }\n",
              "\n",
              "    .dataframe tbody tr th {\n",
              "        vertical-align: top;\n",
              "    }\n",
              "\n",
              "    .dataframe thead th {\n",
              "        text-align: right;\n",
              "    }\n",
              "</style>\n",
              "<table border=\"1\" class=\"dataframe\">\n",
              "  <thead>\n",
              "    <tr style=\"text-align: right;\">\n",
              "      <th></th>\n",
              "      <th>user_id</th>\n",
              "      <th>item_id</th>\n",
              "      <th>rank</th>\n",
              "      <th>popularity</th>\n",
              "      <th>title</th>\n",
              "      <th>genres</th>\n",
              "      <th>countries</th>\n",
              "      <th>for_kids</th>\n",
              "      <th>age_rating</th>\n",
              "      <th>description</th>\n",
              "      <th>keywords</th>\n",
              "    </tr>\n",
              "  </thead>\n",
              "  <tbody>\n",
              "    <tr>\n",
              "      <th>0</th>\n",
              "      <td>1100000</td>\n",
              "      <td>9728</td>\n",
              "      <td>1</td>\n",
              "      <td>132865</td>\n",
              "      <td>Гнев человеческий</td>\n",
              "      <td>боевики, триллеры</td>\n",
              "      <td>Великобритания, США</td>\n",
              "      <td>NaN</td>\n",
              "      <td>18.0</td>\n",
              "      <td>Грузовики лос-анджелесской инкассаторской комп...</td>\n",
              "      <td>ограбление, криминальный авторитет, месть, пер...</td>\n",
              "    </tr>\n",
              "    <tr>\n",
              "      <th>1</th>\n",
              "      <td>1100000</td>\n",
              "      <td>10440</td>\n",
              "      <td>2</td>\n",
              "      <td>202457</td>\n",
              "      <td>Хрустальный</td>\n",
              "      <td>триллеры, детективы</td>\n",
              "      <td>Россия</td>\n",
              "      <td>NaN</td>\n",
              "      <td>18.0</td>\n",
              "      <td>Сергей Смирнов — один из лучших «охотников на ...</td>\n",
              "      <td>хруст, хрусталь, хруста, хрус, полицейский, пе...</td>\n",
              "    </tr>\n",
              "    <tr>\n",
              "      <th>2</th>\n",
              "      <td>1100000</td>\n",
              "      <td>13865</td>\n",
              "      <td>3</td>\n",
              "      <td>122119</td>\n",
              "      <td>Девятаев</td>\n",
              "      <td>драмы, военные, приключения</td>\n",
              "      <td>Россия</td>\n",
              "      <td>NaN</td>\n",
              "      <td>12.0</td>\n",
              "      <td>Военно-исторический блокбастер от режиссёров Т...</td>\n",
              "      <td>Девятаев, Девятаева, Девят, Девя, Девята, Девя...</td>\n",
              "    </tr>\n",
              "    <tr>\n",
              "      <th>3</th>\n",
              "      <td>1100000</td>\n",
              "      <td>15297</td>\n",
              "      <td>4</td>\n",
              "      <td>193123</td>\n",
              "      <td>Клиника счастья</td>\n",
              "      <td>драмы, мелодрамы</td>\n",
              "      <td>Россия</td>\n",
              "      <td>NaN</td>\n",
              "      <td>18.0</td>\n",
              "      <td>Успешный сексолог Алена уверена, что нашла фор...</td>\n",
              "      <td>Клиника счастья, Клиника, Счастье, Клиника сча...</td>\n",
              "    </tr>\n",
              "    <tr>\n",
              "      <th>4</th>\n",
              "      <td>1100000</td>\n",
              "      <td>3734</td>\n",
              "      <td>5</td>\n",
              "      <td>74804</td>\n",
              "      <td>Прабабушка легкого поведения</td>\n",
              "      <td>комедии</td>\n",
              "      <td>Россия</td>\n",
              "      <td>NaN</td>\n",
              "      <td>16.0</td>\n",
              "      <td>1980 год, вся страна следит за событиями моско...</td>\n",
              "      <td>, 2021, россия, прабабушка, легкого, поведения</td>\n",
              "    </tr>\n",
              "    <tr>\n",
              "      <th>5</th>\n",
              "      <td>1100000</td>\n",
              "      <td>4151</td>\n",
              "      <td>6</td>\n",
              "      <td>91168</td>\n",
              "      <td>Секреты семейной жизни</td>\n",
              "      <td>комедии</td>\n",
              "      <td>Россия</td>\n",
              "      <td>NaN</td>\n",
              "      <td>18.0</td>\n",
              "      <td>У Никиты и Полины всё начиналось прекрасно: об...</td>\n",
              "      <td>брызги крови, кровь, жестокое обращение с живо...</td>\n",
              "    </tr>\n",
              "    <tr>\n",
              "      <th>6</th>\n",
              "      <td>1100000</td>\n",
              "      <td>4880</td>\n",
              "      <td>7</td>\n",
              "      <td>55044</td>\n",
              "      <td>Афера</td>\n",
              "      <td>комедии</td>\n",
              "      <td>Россия</td>\n",
              "      <td>NaN</td>\n",
              "      <td>18.0</td>\n",
              "      <td>Смотри:- как кино- как сериалКарантин окончен,...</td>\n",
              "      <td>Афера, Аферисты, Карантин, Пандемия, Карантин ...</td>\n",
              "    </tr>\n",
              "    <tr>\n",
              "      <th>7</th>\n",
              "      <td>1100000</td>\n",
              "      <td>7829</td>\n",
              "      <td>8</td>\n",
              "      <td>20017</td>\n",
              "      <td>Поступь хаоса</td>\n",
              "      <td>боевики, фантастика, фэнтези, приключения</td>\n",
              "      <td>США, Канада, Люксембург</td>\n",
              "      <td>NaN</td>\n",
              "      <td>16.0</td>\n",
              "      <td>2257 год. Родина Тодда Хьюитта — колонизирован...</td>\n",
              "      <td>по роману или книге, постапокалиптическое буду...</td>\n",
              "    </tr>\n",
              "    <tr>\n",
              "      <th>8</th>\n",
              "      <td>1100000</td>\n",
              "      <td>6809</td>\n",
              "      <td>9</td>\n",
              "      <td>40372</td>\n",
              "      <td>Дуров</td>\n",
              "      <td>документальное</td>\n",
              "      <td>Россия</td>\n",
              "      <td>NaN</td>\n",
              "      <td>16.0</td>\n",
              "      <td>Уникальная история о лидере нового поколения, ...</td>\n",
              "      <td>Компьютер, Монитор, Гений, Интервью, Предприни...</td>\n",
              "    </tr>\n",
              "    <tr>\n",
              "      <th>9</th>\n",
              "      <td>1100000</td>\n",
              "      <td>2657</td>\n",
              "      <td>10</td>\n",
              "      <td>68581</td>\n",
              "      <td>Подслушано</td>\n",
              "      <td>драмы, триллеры</td>\n",
              "      <td>Россия</td>\n",
              "      <td>NaN</td>\n",
              "      <td>16.0</td>\n",
              "      <td>Смотри:- как кино- как сериалПодростковый псих...</td>\n",
              "      <td>подслушано, подслушано в контакте, социальная ...</td>\n",
              "    </tr>\n",
              "  </tbody>\n",
              "</table>\n",
              "</div>\n",
              "      <button class=\"colab-df-convert\" onclick=\"convertToInteractive('df-6f3ef25f-f28f-4117-ae1c-07adae167c9d')\"\n",
              "              title=\"Convert this dataframe to an interactive table.\"\n",
              "              style=\"display:none;\">\n",
              "        \n",
              "  <svg xmlns=\"http://www.w3.org/2000/svg\" height=\"24px\"viewBox=\"0 0 24 24\"\n",
              "       width=\"24px\">\n",
              "    <path d=\"M0 0h24v24H0V0z\" fill=\"none\"/>\n",
              "    <path d=\"M18.56 5.44l.94 2.06.94-2.06 2.06-.94-2.06-.94-.94-2.06-.94 2.06-2.06.94zm-11 1L8.5 8.5l.94-2.06 2.06-.94-2.06-.94L8.5 2.5l-.94 2.06-2.06.94zm10 10l.94 2.06.94-2.06 2.06-.94-2.06-.94-.94-2.06-.94 2.06-2.06.94z\"/><path d=\"M17.41 7.96l-1.37-1.37c-.4-.4-.92-.59-1.43-.59-.52 0-1.04.2-1.43.59L10.3 9.45l-7.72 7.72c-.78.78-.78 2.05 0 2.83L4 21.41c.39.39.9.59 1.41.59.51 0 1.02-.2 1.41-.59l7.78-7.78 2.81-2.81c.8-.78.8-2.07 0-2.86zM5.41 20L4 18.59l7.72-7.72 1.47 1.35L5.41 20z\"/>\n",
              "  </svg>\n",
              "      </button>\n",
              "      \n",
              "  <style>\n",
              "    .colab-df-container {\n",
              "      display:flex;\n",
              "      flex-wrap:wrap;\n",
              "      gap: 12px;\n",
              "    }\n",
              "\n",
              "    .colab-df-convert {\n",
              "      background-color: #E8F0FE;\n",
              "      border: none;\n",
              "      border-radius: 50%;\n",
              "      cursor: pointer;\n",
              "      display: none;\n",
              "      fill: #1967D2;\n",
              "      height: 32px;\n",
              "      padding: 0 0 0 0;\n",
              "      width: 32px;\n",
              "    }\n",
              "\n",
              "    .colab-df-convert:hover {\n",
              "      background-color: #E2EBFA;\n",
              "      box-shadow: 0px 1px 2px rgba(60, 64, 67, 0.3), 0px 1px 3px 1px rgba(60, 64, 67, 0.15);\n",
              "      fill: #174EA6;\n",
              "    }\n",
              "\n",
              "    [theme=dark] .colab-df-convert {\n",
              "      background-color: #3B4455;\n",
              "      fill: #D2E3FC;\n",
              "    }\n",
              "\n",
              "    [theme=dark] .colab-df-convert:hover {\n",
              "      background-color: #434B5C;\n",
              "      box-shadow: 0px 1px 3px 1px rgba(0, 0, 0, 0.15);\n",
              "      filter: drop-shadow(0px 1px 2px rgba(0, 0, 0, 0.3));\n",
              "      fill: #FFFFFF;\n",
              "    }\n",
              "  </style>\n",
              "\n",
              "      <script>\n",
              "        const buttonEl =\n",
              "          document.querySelector('#df-6f3ef25f-f28f-4117-ae1c-07adae167c9d button.colab-df-convert');\n",
              "        buttonEl.style.display =\n",
              "          google.colab.kernel.accessAllowed ? 'block' : 'none';\n",
              "\n",
              "        async function convertToInteractive(key) {\n",
              "          const element = document.querySelector('#df-6f3ef25f-f28f-4117-ae1c-07adae167c9d');\n",
              "          const dataTable =\n",
              "            await google.colab.kernel.invokeFunction('convertToInteractive',\n",
              "                                                     [key], {});\n",
              "          if (!dataTable) return;\n",
              "\n",
              "          const docLinkHtml = 'Like what you see? Visit the ' +\n",
              "            '<a target=\"_blank\" href=https://colab.research.google.com/notebooks/data_table.ipynb>data table notebook</a>'\n",
              "            + ' to learn more about interactive tables.';\n",
              "          element.innerHTML = '';\n",
              "          dataTable['output_type'] = 'display_data';\n",
              "          await google.colab.output.renderOutput(dataTable, element);\n",
              "          const docLink = document.createElement('div');\n",
              "          docLink.innerHTML = docLinkHtml;\n",
              "          element.appendChild(docLink);\n",
              "        }\n",
              "      </script>\n",
              "    </div>\n",
              "  </div>\n",
              "  "
            ]
          },
          "metadata": {},
          "execution_count": 258
        }
      ]
    },
    {
      "cell_type": "markdown",
      "source": [
        "Топ 3 рекомендации можно отнести к релевантным, но остальное нет"
      ],
      "metadata": {
        "id": "e4GYmOFcX0zS"
      }
    },
    {
      "cell_type": "markdown",
      "source": [
        "## Любитель комедий"
      ],
      "metadata": {
        "id": "j4G5iPTEOm16"
      }
    },
    {
      "cell_type": "code",
      "source": [
        "avtr_recs = best_model.recommend(\n",
        "    users=[1100001],\n",
        "    dataset=full_dataset,\n",
        "    k=10,\n",
        "    filter_viewed=True,\n",
        ")"
      ],
      "metadata": {
        "id": "e38B2Q_bOxeT"
      },
      "execution_count": 259,
      "outputs": []
    },
    {
      "cell_type": "code",
      "source": [
        "avtr_recs = avtr_recs.merge(items_df, on='item_id').sort_values(['rank'])"
      ],
      "metadata": {
        "id": "6lBYYA9pSC9K"
      },
      "execution_count": 260,
      "outputs": []
    },
    {
      "cell_type": "markdown",
      "source": [
        "Взаимодействия аватара:"
      ],
      "metadata": {
        "id": "OOoymyVXSC9K"
      }
    },
    {
      "cell_type": "code",
      "source": [
        "interactions[interactions.user_id==1100001].merge(items_df, on='item_id')[imp_cols_intrs]"
      ],
      "metadata": {
        "colab": {
          "base_uri": "https://localhost:8080/",
          "height": 337
        },
        "outputId": "32a50c1a-7b07-4ad2-a1c8-f88f07664cf6",
        "id": "384_TYb5SC9L"
      },
      "execution_count": 261,
      "outputs": [
        {
          "output_type": "execute_result",
          "data": {
            "text/plain": [
              "   user_id  item_id last_watch_dt  total_dur  watched_pct  weight  \\\n",
              "0  1100001     4151    2021-08-20       7200        100.0       3   \n",
              "1  1100001     3734    2021-08-21       7200        100.0       3   \n",
              "2  1100001     4880    2021-08-22       7200        100.0       3   \n",
              "3  1100001    11237    2021-08-23       7200        100.0       3   \n",
              "4  1100001     7417    2021-08-24       7200        100.0       3   \n",
              "\n",
              "  content_type                         title   genres countries  for_kids  \\\n",
              "0       series        Секреты семейной жизни  комедии    Россия       NaN   \n",
              "1         film  Прабабушка легкого поведения  комедии    Россия       NaN   \n",
              "2       series                         Афера  комедии    Россия       NaN   \n",
              "3         film                   День города  комедии    Россия       NaN   \n",
              "4         film        Стендап под прикрытием  комедии    Россия       NaN   \n",
              "\n",
              "   age_rating                                        description  \\\n",
              "0        18.0  У Никиты и Полины всё начиналось прекрасно: об...   \n",
              "1        16.0  1980 год, вся страна следит за событиями моско...   \n",
              "2        18.0  Смотри:- как кино- как сериалКарантин окончен,...   \n",
              "3        16.0  Эта история случилась в провинциальном городке...   \n",
              "4        16.0  Дерзкая и циничная опер в юбке Светлана Артюхо...   \n",
              "\n",
              "                                            keywords  popularity  \n",
              "0  брызги крови, кровь, жестокое обращение с живо...       91168  \n",
              "1     , 2021, россия, прабабушка, легкого, поведения       74804  \n",
              "2  Афера, Аферисты, Карантин, Пандемия, Карантин ...       55044  \n",
              "3                         2021, россия, день, города       25720  \n",
              "4             2020, россия, стендап, под, прикрытием       18110  "
            ],
            "text/html": [
              "\n",
              "  <div id=\"df-f2d26e2f-ff6f-4702-9fef-4c8bb5361740\">\n",
              "    <div class=\"colab-df-container\">\n",
              "      <div>\n",
              "<style scoped>\n",
              "    .dataframe tbody tr th:only-of-type {\n",
              "        vertical-align: middle;\n",
              "    }\n",
              "\n",
              "    .dataframe tbody tr th {\n",
              "        vertical-align: top;\n",
              "    }\n",
              "\n",
              "    .dataframe thead th {\n",
              "        text-align: right;\n",
              "    }\n",
              "</style>\n",
              "<table border=\"1\" class=\"dataframe\">\n",
              "  <thead>\n",
              "    <tr style=\"text-align: right;\">\n",
              "      <th></th>\n",
              "      <th>user_id</th>\n",
              "      <th>item_id</th>\n",
              "      <th>last_watch_dt</th>\n",
              "      <th>total_dur</th>\n",
              "      <th>watched_pct</th>\n",
              "      <th>weight</th>\n",
              "      <th>content_type</th>\n",
              "      <th>title</th>\n",
              "      <th>genres</th>\n",
              "      <th>countries</th>\n",
              "      <th>for_kids</th>\n",
              "      <th>age_rating</th>\n",
              "      <th>description</th>\n",
              "      <th>keywords</th>\n",
              "      <th>popularity</th>\n",
              "    </tr>\n",
              "  </thead>\n",
              "  <tbody>\n",
              "    <tr>\n",
              "      <th>0</th>\n",
              "      <td>1100001</td>\n",
              "      <td>4151</td>\n",
              "      <td>2021-08-20</td>\n",
              "      <td>7200</td>\n",
              "      <td>100.0</td>\n",
              "      <td>3</td>\n",
              "      <td>series</td>\n",
              "      <td>Секреты семейной жизни</td>\n",
              "      <td>комедии</td>\n",
              "      <td>Россия</td>\n",
              "      <td>NaN</td>\n",
              "      <td>18.0</td>\n",
              "      <td>У Никиты и Полины всё начиналось прекрасно: об...</td>\n",
              "      <td>брызги крови, кровь, жестокое обращение с живо...</td>\n",
              "      <td>91168</td>\n",
              "    </tr>\n",
              "    <tr>\n",
              "      <th>1</th>\n",
              "      <td>1100001</td>\n",
              "      <td>3734</td>\n",
              "      <td>2021-08-21</td>\n",
              "      <td>7200</td>\n",
              "      <td>100.0</td>\n",
              "      <td>3</td>\n",
              "      <td>film</td>\n",
              "      <td>Прабабушка легкого поведения</td>\n",
              "      <td>комедии</td>\n",
              "      <td>Россия</td>\n",
              "      <td>NaN</td>\n",
              "      <td>16.0</td>\n",
              "      <td>1980 год, вся страна следит за событиями моско...</td>\n",
              "      <td>, 2021, россия, прабабушка, легкого, поведения</td>\n",
              "      <td>74804</td>\n",
              "    </tr>\n",
              "    <tr>\n",
              "      <th>2</th>\n",
              "      <td>1100001</td>\n",
              "      <td>4880</td>\n",
              "      <td>2021-08-22</td>\n",
              "      <td>7200</td>\n",
              "      <td>100.0</td>\n",
              "      <td>3</td>\n",
              "      <td>series</td>\n",
              "      <td>Афера</td>\n",
              "      <td>комедии</td>\n",
              "      <td>Россия</td>\n",
              "      <td>NaN</td>\n",
              "      <td>18.0</td>\n",
              "      <td>Смотри:- как кино- как сериалКарантин окончен,...</td>\n",
              "      <td>Афера, Аферисты, Карантин, Пандемия, Карантин ...</td>\n",
              "      <td>55044</td>\n",
              "    </tr>\n",
              "    <tr>\n",
              "      <th>3</th>\n",
              "      <td>1100001</td>\n",
              "      <td>11237</td>\n",
              "      <td>2021-08-23</td>\n",
              "      <td>7200</td>\n",
              "      <td>100.0</td>\n",
              "      <td>3</td>\n",
              "      <td>film</td>\n",
              "      <td>День города</td>\n",
              "      <td>комедии</td>\n",
              "      <td>Россия</td>\n",
              "      <td>NaN</td>\n",
              "      <td>16.0</td>\n",
              "      <td>Эта история случилась в провинциальном городке...</td>\n",
              "      <td>2021, россия, день, города</td>\n",
              "      <td>25720</td>\n",
              "    </tr>\n",
              "    <tr>\n",
              "      <th>4</th>\n",
              "      <td>1100001</td>\n",
              "      <td>7417</td>\n",
              "      <td>2021-08-24</td>\n",
              "      <td>7200</td>\n",
              "      <td>100.0</td>\n",
              "      <td>3</td>\n",
              "      <td>film</td>\n",
              "      <td>Стендап под прикрытием</td>\n",
              "      <td>комедии</td>\n",
              "      <td>Россия</td>\n",
              "      <td>NaN</td>\n",
              "      <td>16.0</td>\n",
              "      <td>Дерзкая и циничная опер в юбке Светлана Артюхо...</td>\n",
              "      <td>2020, россия, стендап, под, прикрытием</td>\n",
              "      <td>18110</td>\n",
              "    </tr>\n",
              "  </tbody>\n",
              "</table>\n",
              "</div>\n",
              "      <button class=\"colab-df-convert\" onclick=\"convertToInteractive('df-f2d26e2f-ff6f-4702-9fef-4c8bb5361740')\"\n",
              "              title=\"Convert this dataframe to an interactive table.\"\n",
              "              style=\"display:none;\">\n",
              "        \n",
              "  <svg xmlns=\"http://www.w3.org/2000/svg\" height=\"24px\"viewBox=\"0 0 24 24\"\n",
              "       width=\"24px\">\n",
              "    <path d=\"M0 0h24v24H0V0z\" fill=\"none\"/>\n",
              "    <path d=\"M18.56 5.44l.94 2.06.94-2.06 2.06-.94-2.06-.94-.94-2.06-.94 2.06-2.06.94zm-11 1L8.5 8.5l.94-2.06 2.06-.94-2.06-.94L8.5 2.5l-.94 2.06-2.06.94zm10 10l.94 2.06.94-2.06 2.06-.94-2.06-.94-.94-2.06-.94 2.06-2.06.94z\"/><path d=\"M17.41 7.96l-1.37-1.37c-.4-.4-.92-.59-1.43-.59-.52 0-1.04.2-1.43.59L10.3 9.45l-7.72 7.72c-.78.78-.78 2.05 0 2.83L4 21.41c.39.39.9.59 1.41.59.51 0 1.02-.2 1.41-.59l7.78-7.78 2.81-2.81c.8-.78.8-2.07 0-2.86zM5.41 20L4 18.59l7.72-7.72 1.47 1.35L5.41 20z\"/>\n",
              "  </svg>\n",
              "      </button>\n",
              "      \n",
              "  <style>\n",
              "    .colab-df-container {\n",
              "      display:flex;\n",
              "      flex-wrap:wrap;\n",
              "      gap: 12px;\n",
              "    }\n",
              "\n",
              "    .colab-df-convert {\n",
              "      background-color: #E8F0FE;\n",
              "      border: none;\n",
              "      border-radius: 50%;\n",
              "      cursor: pointer;\n",
              "      display: none;\n",
              "      fill: #1967D2;\n",
              "      height: 32px;\n",
              "      padding: 0 0 0 0;\n",
              "      width: 32px;\n",
              "    }\n",
              "\n",
              "    .colab-df-convert:hover {\n",
              "      background-color: #E2EBFA;\n",
              "      box-shadow: 0px 1px 2px rgba(60, 64, 67, 0.3), 0px 1px 3px 1px rgba(60, 64, 67, 0.15);\n",
              "      fill: #174EA6;\n",
              "    }\n",
              "\n",
              "    [theme=dark] .colab-df-convert {\n",
              "      background-color: #3B4455;\n",
              "      fill: #D2E3FC;\n",
              "    }\n",
              "\n",
              "    [theme=dark] .colab-df-convert:hover {\n",
              "      background-color: #434B5C;\n",
              "      box-shadow: 0px 1px 3px 1px rgba(0, 0, 0, 0.15);\n",
              "      filter: drop-shadow(0px 1px 2px rgba(0, 0, 0, 0.3));\n",
              "      fill: #FFFFFF;\n",
              "    }\n",
              "  </style>\n",
              "\n",
              "      <script>\n",
              "        const buttonEl =\n",
              "          document.querySelector('#df-f2d26e2f-ff6f-4702-9fef-4c8bb5361740 button.colab-df-convert');\n",
              "        buttonEl.style.display =\n",
              "          google.colab.kernel.accessAllowed ? 'block' : 'none';\n",
              "\n",
              "        async function convertToInteractive(key) {\n",
              "          const element = document.querySelector('#df-f2d26e2f-ff6f-4702-9fef-4c8bb5361740');\n",
              "          const dataTable =\n",
              "            await google.colab.kernel.invokeFunction('convertToInteractive',\n",
              "                                                     [key], {});\n",
              "          if (!dataTable) return;\n",
              "\n",
              "          const docLinkHtml = 'Like what you see? Visit the ' +\n",
              "            '<a target=\"_blank\" href=https://colab.research.google.com/notebooks/data_table.ipynb>data table notebook</a>'\n",
              "            + ' to learn more about interactive tables.';\n",
              "          element.innerHTML = '';\n",
              "          dataTable['output_type'] = 'display_data';\n",
              "          await google.colab.output.renderOutput(dataTable, element);\n",
              "          const docLink = document.createElement('div');\n",
              "          docLink.innerHTML = docLinkHtml;\n",
              "          element.appendChild(docLink);\n",
              "        }\n",
              "      </script>\n",
              "    </div>\n",
              "  </div>\n",
              "  "
            ]
          },
          "metadata": {},
          "execution_count": 261
        }
      ]
    },
    {
      "cell_type": "markdown",
      "source": [
        "Его рекомендации:"
      ],
      "metadata": {
        "id": "xDmmSzduSC9L"
      }
    },
    {
      "cell_type": "code",
      "source": [
        "avtr_recs[imp_cols_recs]"
      ],
      "metadata": {
        "colab": {
          "base_uri": "https://localhost:8080/",
          "height": 581
        },
        "outputId": "1354544e-456a-4280-f42c-ce88ad9eecab",
        "id": "IT--ZNrISC9L"
      },
      "execution_count": 262,
      "outputs": [
        {
          "output_type": "execute_result",
          "data": {
            "text/plain": [
              "   user_id  item_id  rank  popularity               title  \\\n",
              "0  1100001     9728     1      132865   Гнев человеческий   \n",
              "1  1100001    10440     2      202457         Хрустальный   \n",
              "2  1100001    13865     3      122119            Девятаев   \n",
              "3  1100001    15297     4      193123     Клиника счастья   \n",
              "4  1100001     7829     5       20017       Поступь хаоса   \n",
              "5  1100001    14741     6       20398  Цвет из иных миров   \n",
              "6  1100001    14317     7       13482               Веном   \n",
              "7  1100001     2657     8       68581          Подслушано   \n",
              "8  1100001     6809     9       40372               Дуров   \n",
              "9  1100001     7571    10       28372           100% волк   \n",
              "\n",
              "                                              genres  \\\n",
              "0                                  боевики, триллеры   \n",
              "1                                триллеры, детективы   \n",
              "2                        драмы, военные, приключения   \n",
              "3                                   драмы, мелодрамы   \n",
              "4          боевики, фантастика, фэнтези, приключения   \n",
              "5                                  фантастика, ужасы   \n",
              "6   популярное, фантастика, триллеры, боевики, ужасы   \n",
              "7                                    драмы, триллеры   \n",
              "8                                     документальное   \n",
              "9  мультфильм, приключения, семейное, фэнтези, ко...   \n",
              "\n",
              "                   countries  for_kids  age_rating  \\\n",
              "0        Великобритания, США       NaN        18.0   \n",
              "1                     Россия       NaN        18.0   \n",
              "2                     Россия       NaN        12.0   \n",
              "3                     Россия       NaN        18.0   \n",
              "4    США, Канада, Люксембург       NaN        16.0   \n",
              "5  США, Малайзия, Португалия       NaN        16.0   \n",
              "6                        США       NaN        16.0   \n",
              "7                     Россия       NaN        16.0   \n",
              "8                     Россия       NaN        16.0   \n",
              "9         Австралия, Бельгия       NaN         6.0   \n",
              "\n",
              "                                         description  \\\n",
              "0  Грузовики лос-анджелесской инкассаторской комп...   \n",
              "1  Сергей Смирнов — один из лучших «охотников на ...   \n",
              "2  Военно-исторический блокбастер от режиссёров Т...   \n",
              "3  Успешный сексолог Алена уверена, что нашла фор...   \n",
              "4  2257 год. Родина Тодда Хьюитта — колонизирован...   \n",
              "5  Экранизация рассказа Говарда Лавкрафта про упа...   \n",
              "6  Что если в один прекрасный день в тебя вселяет...   \n",
              "7  Смотри:- как кино- как сериалПодростковый псих...   \n",
              "8  Уникальная история о лидере нового поколения, ...   \n",
              "9  Наследник семьи оборотней Фредди Люпин отчаянн...   \n",
              "\n",
              "                                            keywords  \n",
              "0  ограбление, криминальный авторитет, месть, пер...  \n",
              "1  хруст, хрусталь, хруста, хрус, полицейский, пе...  \n",
              "2  Девятаев, Девятаева, Девят, Девя, Девята, Девя...  \n",
              "3  Клиника счастья, Клиника, Счастье, Клиника сча...  \n",
              "4  по роману или книге, постапокалиптическое буду...  \n",
              "5  мутация, хижина, сарай, отшельник, ферма, мете...  \n",
              "6  Сан-Франциско, Калифорния, космический корабль...  \n",
              "7  подслушано, подслушано в контакте, социальная ...  \n",
              "8  Компьютер, Монитор, Гений, Интервью, Предприни...  \n",
              "9  пудель, подростковая тревога, оборотень, приня...  "
            ],
            "text/html": [
              "\n",
              "  <div id=\"df-fbd05c01-18b7-43c4-9e96-d578d8aa64af\">\n",
              "    <div class=\"colab-df-container\">\n",
              "      <div>\n",
              "<style scoped>\n",
              "    .dataframe tbody tr th:only-of-type {\n",
              "        vertical-align: middle;\n",
              "    }\n",
              "\n",
              "    .dataframe tbody tr th {\n",
              "        vertical-align: top;\n",
              "    }\n",
              "\n",
              "    .dataframe thead th {\n",
              "        text-align: right;\n",
              "    }\n",
              "</style>\n",
              "<table border=\"1\" class=\"dataframe\">\n",
              "  <thead>\n",
              "    <tr style=\"text-align: right;\">\n",
              "      <th></th>\n",
              "      <th>user_id</th>\n",
              "      <th>item_id</th>\n",
              "      <th>rank</th>\n",
              "      <th>popularity</th>\n",
              "      <th>title</th>\n",
              "      <th>genres</th>\n",
              "      <th>countries</th>\n",
              "      <th>for_kids</th>\n",
              "      <th>age_rating</th>\n",
              "      <th>description</th>\n",
              "      <th>keywords</th>\n",
              "    </tr>\n",
              "  </thead>\n",
              "  <tbody>\n",
              "    <tr>\n",
              "      <th>0</th>\n",
              "      <td>1100001</td>\n",
              "      <td>9728</td>\n",
              "      <td>1</td>\n",
              "      <td>132865</td>\n",
              "      <td>Гнев человеческий</td>\n",
              "      <td>боевики, триллеры</td>\n",
              "      <td>Великобритания, США</td>\n",
              "      <td>NaN</td>\n",
              "      <td>18.0</td>\n",
              "      <td>Грузовики лос-анджелесской инкассаторской комп...</td>\n",
              "      <td>ограбление, криминальный авторитет, месть, пер...</td>\n",
              "    </tr>\n",
              "    <tr>\n",
              "      <th>1</th>\n",
              "      <td>1100001</td>\n",
              "      <td>10440</td>\n",
              "      <td>2</td>\n",
              "      <td>202457</td>\n",
              "      <td>Хрустальный</td>\n",
              "      <td>триллеры, детективы</td>\n",
              "      <td>Россия</td>\n",
              "      <td>NaN</td>\n",
              "      <td>18.0</td>\n",
              "      <td>Сергей Смирнов — один из лучших «охотников на ...</td>\n",
              "      <td>хруст, хрусталь, хруста, хрус, полицейский, пе...</td>\n",
              "    </tr>\n",
              "    <tr>\n",
              "      <th>2</th>\n",
              "      <td>1100001</td>\n",
              "      <td>13865</td>\n",
              "      <td>3</td>\n",
              "      <td>122119</td>\n",
              "      <td>Девятаев</td>\n",
              "      <td>драмы, военные, приключения</td>\n",
              "      <td>Россия</td>\n",
              "      <td>NaN</td>\n",
              "      <td>12.0</td>\n",
              "      <td>Военно-исторический блокбастер от режиссёров Т...</td>\n",
              "      <td>Девятаев, Девятаева, Девят, Девя, Девята, Девя...</td>\n",
              "    </tr>\n",
              "    <tr>\n",
              "      <th>3</th>\n",
              "      <td>1100001</td>\n",
              "      <td>15297</td>\n",
              "      <td>4</td>\n",
              "      <td>193123</td>\n",
              "      <td>Клиника счастья</td>\n",
              "      <td>драмы, мелодрамы</td>\n",
              "      <td>Россия</td>\n",
              "      <td>NaN</td>\n",
              "      <td>18.0</td>\n",
              "      <td>Успешный сексолог Алена уверена, что нашла фор...</td>\n",
              "      <td>Клиника счастья, Клиника, Счастье, Клиника сча...</td>\n",
              "    </tr>\n",
              "    <tr>\n",
              "      <th>4</th>\n",
              "      <td>1100001</td>\n",
              "      <td>7829</td>\n",
              "      <td>5</td>\n",
              "      <td>20017</td>\n",
              "      <td>Поступь хаоса</td>\n",
              "      <td>боевики, фантастика, фэнтези, приключения</td>\n",
              "      <td>США, Канада, Люксембург</td>\n",
              "      <td>NaN</td>\n",
              "      <td>16.0</td>\n",
              "      <td>2257 год. Родина Тодда Хьюитта — колонизирован...</td>\n",
              "      <td>по роману или книге, постапокалиптическое буду...</td>\n",
              "    </tr>\n",
              "    <tr>\n",
              "      <th>5</th>\n",
              "      <td>1100001</td>\n",
              "      <td>14741</td>\n",
              "      <td>6</td>\n",
              "      <td>20398</td>\n",
              "      <td>Цвет из иных миров</td>\n",
              "      <td>фантастика, ужасы</td>\n",
              "      <td>США, Малайзия, Португалия</td>\n",
              "      <td>NaN</td>\n",
              "      <td>16.0</td>\n",
              "      <td>Экранизация рассказа Говарда Лавкрафта про упа...</td>\n",
              "      <td>мутация, хижина, сарай, отшельник, ферма, мете...</td>\n",
              "    </tr>\n",
              "    <tr>\n",
              "      <th>6</th>\n",
              "      <td>1100001</td>\n",
              "      <td>14317</td>\n",
              "      <td>7</td>\n",
              "      <td>13482</td>\n",
              "      <td>Веном</td>\n",
              "      <td>популярное, фантастика, триллеры, боевики, ужасы</td>\n",
              "      <td>США</td>\n",
              "      <td>NaN</td>\n",
              "      <td>16.0</td>\n",
              "      <td>Что если в один прекрасный день в тебя вселяет...</td>\n",
              "      <td>Сан-Франциско, Калифорния, космический корабль...</td>\n",
              "    </tr>\n",
              "    <tr>\n",
              "      <th>7</th>\n",
              "      <td>1100001</td>\n",
              "      <td>2657</td>\n",
              "      <td>8</td>\n",
              "      <td>68581</td>\n",
              "      <td>Подслушано</td>\n",
              "      <td>драмы, триллеры</td>\n",
              "      <td>Россия</td>\n",
              "      <td>NaN</td>\n",
              "      <td>16.0</td>\n",
              "      <td>Смотри:- как кино- как сериалПодростковый псих...</td>\n",
              "      <td>подслушано, подслушано в контакте, социальная ...</td>\n",
              "    </tr>\n",
              "    <tr>\n",
              "      <th>8</th>\n",
              "      <td>1100001</td>\n",
              "      <td>6809</td>\n",
              "      <td>9</td>\n",
              "      <td>40372</td>\n",
              "      <td>Дуров</td>\n",
              "      <td>документальное</td>\n",
              "      <td>Россия</td>\n",
              "      <td>NaN</td>\n",
              "      <td>16.0</td>\n",
              "      <td>Уникальная история о лидере нового поколения, ...</td>\n",
              "      <td>Компьютер, Монитор, Гений, Интервью, Предприни...</td>\n",
              "    </tr>\n",
              "    <tr>\n",
              "      <th>9</th>\n",
              "      <td>1100001</td>\n",
              "      <td>7571</td>\n",
              "      <td>10</td>\n",
              "      <td>28372</td>\n",
              "      <td>100% волк</td>\n",
              "      <td>мультфильм, приключения, семейное, фэнтези, ко...</td>\n",
              "      <td>Австралия, Бельгия</td>\n",
              "      <td>NaN</td>\n",
              "      <td>6.0</td>\n",
              "      <td>Наследник семьи оборотней Фредди Люпин отчаянн...</td>\n",
              "      <td>пудель, подростковая тревога, оборотень, приня...</td>\n",
              "    </tr>\n",
              "  </tbody>\n",
              "</table>\n",
              "</div>\n",
              "      <button class=\"colab-df-convert\" onclick=\"convertToInteractive('df-fbd05c01-18b7-43c4-9e96-d578d8aa64af')\"\n",
              "              title=\"Convert this dataframe to an interactive table.\"\n",
              "              style=\"display:none;\">\n",
              "        \n",
              "  <svg xmlns=\"http://www.w3.org/2000/svg\" height=\"24px\"viewBox=\"0 0 24 24\"\n",
              "       width=\"24px\">\n",
              "    <path d=\"M0 0h24v24H0V0z\" fill=\"none\"/>\n",
              "    <path d=\"M18.56 5.44l.94 2.06.94-2.06 2.06-.94-2.06-.94-.94-2.06-.94 2.06-2.06.94zm-11 1L8.5 8.5l.94-2.06 2.06-.94-2.06-.94L8.5 2.5l-.94 2.06-2.06.94zm10 10l.94 2.06.94-2.06 2.06-.94-2.06-.94-.94-2.06-.94 2.06-2.06.94z\"/><path d=\"M17.41 7.96l-1.37-1.37c-.4-.4-.92-.59-1.43-.59-.52 0-1.04.2-1.43.59L10.3 9.45l-7.72 7.72c-.78.78-.78 2.05 0 2.83L4 21.41c.39.39.9.59 1.41.59.51 0 1.02-.2 1.41-.59l7.78-7.78 2.81-2.81c.8-.78.8-2.07 0-2.86zM5.41 20L4 18.59l7.72-7.72 1.47 1.35L5.41 20z\"/>\n",
              "  </svg>\n",
              "      </button>\n",
              "      \n",
              "  <style>\n",
              "    .colab-df-container {\n",
              "      display:flex;\n",
              "      flex-wrap:wrap;\n",
              "      gap: 12px;\n",
              "    }\n",
              "\n",
              "    .colab-df-convert {\n",
              "      background-color: #E8F0FE;\n",
              "      border: none;\n",
              "      border-radius: 50%;\n",
              "      cursor: pointer;\n",
              "      display: none;\n",
              "      fill: #1967D2;\n",
              "      height: 32px;\n",
              "      padding: 0 0 0 0;\n",
              "      width: 32px;\n",
              "    }\n",
              "\n",
              "    .colab-df-convert:hover {\n",
              "      background-color: #E2EBFA;\n",
              "      box-shadow: 0px 1px 2px rgba(60, 64, 67, 0.3), 0px 1px 3px 1px rgba(60, 64, 67, 0.15);\n",
              "      fill: #174EA6;\n",
              "    }\n",
              "\n",
              "    [theme=dark] .colab-df-convert {\n",
              "      background-color: #3B4455;\n",
              "      fill: #D2E3FC;\n",
              "    }\n",
              "\n",
              "    [theme=dark] .colab-df-convert:hover {\n",
              "      background-color: #434B5C;\n",
              "      box-shadow: 0px 1px 3px 1px rgba(0, 0, 0, 0.15);\n",
              "      filter: drop-shadow(0px 1px 2px rgba(0, 0, 0, 0.3));\n",
              "      fill: #FFFFFF;\n",
              "    }\n",
              "  </style>\n",
              "\n",
              "      <script>\n",
              "        const buttonEl =\n",
              "          document.querySelector('#df-fbd05c01-18b7-43c4-9e96-d578d8aa64af button.colab-df-convert');\n",
              "        buttonEl.style.display =\n",
              "          google.colab.kernel.accessAllowed ? 'block' : 'none';\n",
              "\n",
              "        async function convertToInteractive(key) {\n",
              "          const element = document.querySelector('#df-fbd05c01-18b7-43c4-9e96-d578d8aa64af');\n",
              "          const dataTable =\n",
              "            await google.colab.kernel.invokeFunction('convertToInteractive',\n",
              "                                                     [key], {});\n",
              "          if (!dataTable) return;\n",
              "\n",
              "          const docLinkHtml = 'Like what you see? Visit the ' +\n",
              "            '<a target=\"_blank\" href=https://colab.research.google.com/notebooks/data_table.ipynb>data table notebook</a>'\n",
              "            + ' to learn more about interactive tables.';\n",
              "          element.innerHTML = '';\n",
              "          dataTable['output_type'] = 'display_data';\n",
              "          await google.colab.output.renderOutput(dataTable, element);\n",
              "          const docLink = document.createElement('div');\n",
              "          docLink.innerHTML = docLinkHtml;\n",
              "          element.appendChild(docLink);\n",
              "        }\n",
              "      </script>\n",
              "    </div>\n",
              "  </div>\n",
              "  "
            ]
          },
          "metadata": {},
          "execution_count": 262
        }
      ]
    },
    {
      "cell_type": "markdown",
      "source": [
        "Все очень плохо :) "
      ],
      "metadata": {
        "id": "KZIuoCNqWZne"
      }
    },
    {
      "cell_type": "markdown",
      "source": [
        "## Ребенок, мультики"
      ],
      "metadata": {
        "id": "x9apKhyaOp47"
      }
    },
    {
      "cell_type": "code",
      "source": [
        "avtr_recs = best_model.recommend(\n",
        "    users=[1100002],\n",
        "    dataset=full_dataset,\n",
        "    k=10,\n",
        "    filter_viewed=True,\n",
        ")"
      ],
      "metadata": {
        "id": "wsLcX9Ldx_eG"
      },
      "execution_count": 263,
      "outputs": []
    },
    {
      "cell_type": "code",
      "source": [
        "avtr_recs = avtr_recs.merge(items_df, on='item_id').sort_values(['rank'])"
      ],
      "metadata": {
        "id": "LkLEv3xdSF8z"
      },
      "execution_count": 264,
      "outputs": []
    },
    {
      "cell_type": "markdown",
      "source": [
        "Взаимодействия аватара:"
      ],
      "metadata": {
        "id": "ewliob-rSF8z"
      }
    },
    {
      "cell_type": "code",
      "source": [
        "interactions[interactions.user_id==1100002].merge(items_df, on='item_id')[imp_cols_intrs]"
      ],
      "metadata": {
        "colab": {
          "base_uri": "https://localhost:8080/",
          "height": 337
        },
        "outputId": "04c7ed60-9e37-4030-905d-b609ef3ff196",
        "id": "yfVXsLvNSF8z"
      },
      "execution_count": 265,
      "outputs": [
        {
          "output_type": "execute_result",
          "data": {
            "text/plain": [
              "   user_id  item_id last_watch_dt  total_dur  watched_pct  weight  \\\n",
              "0  1100002    11047    2021-08-25       7200        100.0       3   \n",
              "1  1100002      599    2021-08-26       7200        100.0       3   \n",
              "2  1100002     9950    2021-08-27       7200        100.0       3   \n",
              "3  1100002     8134    2021-08-28       7200        100.0       3   \n",
              "4  1100002     7844    2021-08-29       7200        100.0       3   \n",
              "\n",
              "  content_type                title      genres countries  for_kids  \\\n",
              "0         film        Гадкий утёнок  мультфильм    Россия       NaN   \n",
              "1         film         Будь здоров!  мультфильм      Кипр       NaN   \n",
              "2         film  Мама для мамонтенка  мультфильм    Россия       NaN   \n",
              "3         film           Большой Ух  мультфильм    Россия       NaN   \n",
              "4         film          Крошка Енот  мультфильм    Россия       NaN   \n",
              "\n",
              "   age_rating                                        description  \\\n",
              "0        12.0  Странного вида утенок вылупляется из необычног...   \n",
              "1         0.0  Маша подготовила несколько простых и о-очень п...   \n",
              "2         0.0  Мультфильм о судьбе мамонтёнка, который случай...   \n",
              "3         0.0  Чудик с большими ушами слушал музыку звезд и н...   \n",
              "4         0.0  Сегодня у Крошки Енота день рождения, и чтобы ...   \n",
              "\n",
              "                              keywords  popularity  \n",
              "0       , 2010, россия, гадкий, утёнок        1440  \n",
              "1             2020, кипр, будь, здоров        1378  \n",
              "2  1981, россия, мама, для, мамонтенка        1050  \n",
              "3            1989, россия, большой, ух         659  \n",
              "4           1974, россия, крошка, енот         635  "
            ],
            "text/html": [
              "\n",
              "  <div id=\"df-7fd96389-0e3a-4b35-94f0-b0fd69f693a1\">\n",
              "    <div class=\"colab-df-container\">\n",
              "      <div>\n",
              "<style scoped>\n",
              "    .dataframe tbody tr th:only-of-type {\n",
              "        vertical-align: middle;\n",
              "    }\n",
              "\n",
              "    .dataframe tbody tr th {\n",
              "        vertical-align: top;\n",
              "    }\n",
              "\n",
              "    .dataframe thead th {\n",
              "        text-align: right;\n",
              "    }\n",
              "</style>\n",
              "<table border=\"1\" class=\"dataframe\">\n",
              "  <thead>\n",
              "    <tr style=\"text-align: right;\">\n",
              "      <th></th>\n",
              "      <th>user_id</th>\n",
              "      <th>item_id</th>\n",
              "      <th>last_watch_dt</th>\n",
              "      <th>total_dur</th>\n",
              "      <th>watched_pct</th>\n",
              "      <th>weight</th>\n",
              "      <th>content_type</th>\n",
              "      <th>title</th>\n",
              "      <th>genres</th>\n",
              "      <th>countries</th>\n",
              "      <th>for_kids</th>\n",
              "      <th>age_rating</th>\n",
              "      <th>description</th>\n",
              "      <th>keywords</th>\n",
              "      <th>popularity</th>\n",
              "    </tr>\n",
              "  </thead>\n",
              "  <tbody>\n",
              "    <tr>\n",
              "      <th>0</th>\n",
              "      <td>1100002</td>\n",
              "      <td>11047</td>\n",
              "      <td>2021-08-25</td>\n",
              "      <td>7200</td>\n",
              "      <td>100.0</td>\n",
              "      <td>3</td>\n",
              "      <td>film</td>\n",
              "      <td>Гадкий утёнок</td>\n",
              "      <td>мультфильм</td>\n",
              "      <td>Россия</td>\n",
              "      <td>NaN</td>\n",
              "      <td>12.0</td>\n",
              "      <td>Странного вида утенок вылупляется из необычног...</td>\n",
              "      <td>, 2010, россия, гадкий, утёнок</td>\n",
              "      <td>1440</td>\n",
              "    </tr>\n",
              "    <tr>\n",
              "      <th>1</th>\n",
              "      <td>1100002</td>\n",
              "      <td>599</td>\n",
              "      <td>2021-08-26</td>\n",
              "      <td>7200</td>\n",
              "      <td>100.0</td>\n",
              "      <td>3</td>\n",
              "      <td>film</td>\n",
              "      <td>Будь здоров!</td>\n",
              "      <td>мультфильм</td>\n",
              "      <td>Кипр</td>\n",
              "      <td>NaN</td>\n",
              "      <td>0.0</td>\n",
              "      <td>Маша подготовила несколько простых и о-очень п...</td>\n",
              "      <td>2020, кипр, будь, здоров</td>\n",
              "      <td>1378</td>\n",
              "    </tr>\n",
              "    <tr>\n",
              "      <th>2</th>\n",
              "      <td>1100002</td>\n",
              "      <td>9950</td>\n",
              "      <td>2021-08-27</td>\n",
              "      <td>7200</td>\n",
              "      <td>100.0</td>\n",
              "      <td>3</td>\n",
              "      <td>film</td>\n",
              "      <td>Мама для мамонтенка</td>\n",
              "      <td>мультфильм</td>\n",
              "      <td>Россия</td>\n",
              "      <td>NaN</td>\n",
              "      <td>0.0</td>\n",
              "      <td>Мультфильм о судьбе мамонтёнка, который случай...</td>\n",
              "      <td>1981, россия, мама, для, мамонтенка</td>\n",
              "      <td>1050</td>\n",
              "    </tr>\n",
              "    <tr>\n",
              "      <th>3</th>\n",
              "      <td>1100002</td>\n",
              "      <td>8134</td>\n",
              "      <td>2021-08-28</td>\n",
              "      <td>7200</td>\n",
              "      <td>100.0</td>\n",
              "      <td>3</td>\n",
              "      <td>film</td>\n",
              "      <td>Большой Ух</td>\n",
              "      <td>мультфильм</td>\n",
              "      <td>Россия</td>\n",
              "      <td>NaN</td>\n",
              "      <td>0.0</td>\n",
              "      <td>Чудик с большими ушами слушал музыку звезд и н...</td>\n",
              "      <td>1989, россия, большой, ух</td>\n",
              "      <td>659</td>\n",
              "    </tr>\n",
              "    <tr>\n",
              "      <th>4</th>\n",
              "      <td>1100002</td>\n",
              "      <td>7844</td>\n",
              "      <td>2021-08-29</td>\n",
              "      <td>7200</td>\n",
              "      <td>100.0</td>\n",
              "      <td>3</td>\n",
              "      <td>film</td>\n",
              "      <td>Крошка Енот</td>\n",
              "      <td>мультфильм</td>\n",
              "      <td>Россия</td>\n",
              "      <td>NaN</td>\n",
              "      <td>0.0</td>\n",
              "      <td>Сегодня у Крошки Енота день рождения, и чтобы ...</td>\n",
              "      <td>1974, россия, крошка, енот</td>\n",
              "      <td>635</td>\n",
              "    </tr>\n",
              "  </tbody>\n",
              "</table>\n",
              "</div>\n",
              "      <button class=\"colab-df-convert\" onclick=\"convertToInteractive('df-7fd96389-0e3a-4b35-94f0-b0fd69f693a1')\"\n",
              "              title=\"Convert this dataframe to an interactive table.\"\n",
              "              style=\"display:none;\">\n",
              "        \n",
              "  <svg xmlns=\"http://www.w3.org/2000/svg\" height=\"24px\"viewBox=\"0 0 24 24\"\n",
              "       width=\"24px\">\n",
              "    <path d=\"M0 0h24v24H0V0z\" fill=\"none\"/>\n",
              "    <path d=\"M18.56 5.44l.94 2.06.94-2.06 2.06-.94-2.06-.94-.94-2.06-.94 2.06-2.06.94zm-11 1L8.5 8.5l.94-2.06 2.06-.94-2.06-.94L8.5 2.5l-.94 2.06-2.06.94zm10 10l.94 2.06.94-2.06 2.06-.94-2.06-.94-.94-2.06-.94 2.06-2.06.94z\"/><path d=\"M17.41 7.96l-1.37-1.37c-.4-.4-.92-.59-1.43-.59-.52 0-1.04.2-1.43.59L10.3 9.45l-7.72 7.72c-.78.78-.78 2.05 0 2.83L4 21.41c.39.39.9.59 1.41.59.51 0 1.02-.2 1.41-.59l7.78-7.78 2.81-2.81c.8-.78.8-2.07 0-2.86zM5.41 20L4 18.59l7.72-7.72 1.47 1.35L5.41 20z\"/>\n",
              "  </svg>\n",
              "      </button>\n",
              "      \n",
              "  <style>\n",
              "    .colab-df-container {\n",
              "      display:flex;\n",
              "      flex-wrap:wrap;\n",
              "      gap: 12px;\n",
              "    }\n",
              "\n",
              "    .colab-df-convert {\n",
              "      background-color: #E8F0FE;\n",
              "      border: none;\n",
              "      border-radius: 50%;\n",
              "      cursor: pointer;\n",
              "      display: none;\n",
              "      fill: #1967D2;\n",
              "      height: 32px;\n",
              "      padding: 0 0 0 0;\n",
              "      width: 32px;\n",
              "    }\n",
              "\n",
              "    .colab-df-convert:hover {\n",
              "      background-color: #E2EBFA;\n",
              "      box-shadow: 0px 1px 2px rgba(60, 64, 67, 0.3), 0px 1px 3px 1px rgba(60, 64, 67, 0.15);\n",
              "      fill: #174EA6;\n",
              "    }\n",
              "\n",
              "    [theme=dark] .colab-df-convert {\n",
              "      background-color: #3B4455;\n",
              "      fill: #D2E3FC;\n",
              "    }\n",
              "\n",
              "    [theme=dark] .colab-df-convert:hover {\n",
              "      background-color: #434B5C;\n",
              "      box-shadow: 0px 1px 3px 1px rgba(0, 0, 0, 0.15);\n",
              "      filter: drop-shadow(0px 1px 2px rgba(0, 0, 0, 0.3));\n",
              "      fill: #FFFFFF;\n",
              "    }\n",
              "  </style>\n",
              "\n",
              "      <script>\n",
              "        const buttonEl =\n",
              "          document.querySelector('#df-7fd96389-0e3a-4b35-94f0-b0fd69f693a1 button.colab-df-convert');\n",
              "        buttonEl.style.display =\n",
              "          google.colab.kernel.accessAllowed ? 'block' : 'none';\n",
              "\n",
              "        async function convertToInteractive(key) {\n",
              "          const element = document.querySelector('#df-7fd96389-0e3a-4b35-94f0-b0fd69f693a1');\n",
              "          const dataTable =\n",
              "            await google.colab.kernel.invokeFunction('convertToInteractive',\n",
              "                                                     [key], {});\n",
              "          if (!dataTable) return;\n",
              "\n",
              "          const docLinkHtml = 'Like what you see? Visit the ' +\n",
              "            '<a target=\"_blank\" href=https://colab.research.google.com/notebooks/data_table.ipynb>data table notebook</a>'\n",
              "            + ' to learn more about interactive tables.';\n",
              "          element.innerHTML = '';\n",
              "          dataTable['output_type'] = 'display_data';\n",
              "          await google.colab.output.renderOutput(dataTable, element);\n",
              "          const docLink = document.createElement('div');\n",
              "          docLink.innerHTML = docLinkHtml;\n",
              "          element.appendChild(docLink);\n",
              "        }\n",
              "      </script>\n",
              "    </div>\n",
              "  </div>\n",
              "  "
            ]
          },
          "metadata": {},
          "execution_count": 265
        }
      ]
    },
    {
      "cell_type": "markdown",
      "source": [
        "Его рекомендации:"
      ],
      "metadata": {
        "id": "UlTVWkvASF80"
      }
    },
    {
      "cell_type": "code",
      "source": [
        "avtr_recs[imp_cols_recs]"
      ],
      "metadata": {
        "colab": {
          "base_uri": "https://localhost:8080/",
          "height": 581
        },
        "outputId": "adffd639-fba4-4e8d-902e-9e2e768942b9",
        "id": "hVr8W2OFSF80"
      },
      "execution_count": 266,
      "outputs": [
        {
          "output_type": "execute_result",
          "data": {
            "text/plain": [
              "   user_id  item_id  rank  popularity                         title  \\\n",
              "0  1100002    15297     1      193123               Клиника счастья   \n",
              "1  1100002    10440     2      202457                   Хрустальный   \n",
              "2  1100002     4151     3       91168        Секреты семейной жизни   \n",
              "3  1100002     3734     4       74804  Прабабушка легкого поведения   \n",
              "4  1100002     9728     5      132865             Гнев человеческий   \n",
              "5  1100002     4880     6       55044                         Афера   \n",
              "6  1100002     7571     7       28372                     100% волк   \n",
              "7  1100002    13865     8      122119                      Девятаев   \n",
              "8  1100002     2657     9       68581                    Подслушано   \n",
              "9  1100002     6809    10       40372                         Дуров   \n",
              "\n",
              "                                              genres            countries  \\\n",
              "0                                   драмы, мелодрамы               Россия   \n",
              "1                                триллеры, детективы               Россия   \n",
              "2                                            комедии               Россия   \n",
              "3                                            комедии               Россия   \n",
              "4                                  боевики, триллеры  Великобритания, США   \n",
              "5                                            комедии               Россия   \n",
              "6  мультфильм, приключения, семейное, фэнтези, ко...   Австралия, Бельгия   \n",
              "7                        драмы, военные, приключения               Россия   \n",
              "8                                    драмы, триллеры               Россия   \n",
              "9                                     документальное               Россия   \n",
              "\n",
              "   for_kids  age_rating                                        description  \\\n",
              "0       NaN        18.0  Успешный сексолог Алена уверена, что нашла фор...   \n",
              "1       NaN        18.0  Сергей Смирнов — один из лучших «охотников на ...   \n",
              "2       NaN        18.0  У Никиты и Полины всё начиналось прекрасно: об...   \n",
              "3       NaN        16.0  1980 год, вся страна следит за событиями моско...   \n",
              "4       NaN        18.0  Грузовики лос-анджелесской инкассаторской комп...   \n",
              "5       NaN        18.0  Смотри:- как кино- как сериалКарантин окончен,...   \n",
              "6       NaN         6.0  Наследник семьи оборотней Фредди Люпин отчаянн...   \n",
              "7       NaN        12.0  Военно-исторический блокбастер от режиссёров Т...   \n",
              "8       NaN        16.0  Смотри:- как кино- как сериалПодростковый псих...   \n",
              "9       NaN        16.0  Уникальная история о лидере нового поколения, ...   \n",
              "\n",
              "                                            keywords  \n",
              "0  Клиника счастья, Клиника, Счастье, Клиника сча...  \n",
              "1  хруст, хрусталь, хруста, хрус, полицейский, пе...  \n",
              "2  брызги крови, кровь, жестокое обращение с живо...  \n",
              "3     , 2021, россия, прабабушка, легкого, поведения  \n",
              "4  ограбление, криминальный авторитет, месть, пер...  \n",
              "5  Афера, Аферисты, Карантин, Пандемия, Карантин ...  \n",
              "6  пудель, подростковая тревога, оборотень, приня...  \n",
              "7  Девятаев, Девятаева, Девят, Девя, Девята, Девя...  \n",
              "8  подслушано, подслушано в контакте, социальная ...  \n",
              "9  Компьютер, Монитор, Гений, Интервью, Предприни...  "
            ],
            "text/html": [
              "\n",
              "  <div id=\"df-a8a25a0b-2873-4102-9584-b988a7255eba\">\n",
              "    <div class=\"colab-df-container\">\n",
              "      <div>\n",
              "<style scoped>\n",
              "    .dataframe tbody tr th:only-of-type {\n",
              "        vertical-align: middle;\n",
              "    }\n",
              "\n",
              "    .dataframe tbody tr th {\n",
              "        vertical-align: top;\n",
              "    }\n",
              "\n",
              "    .dataframe thead th {\n",
              "        text-align: right;\n",
              "    }\n",
              "</style>\n",
              "<table border=\"1\" class=\"dataframe\">\n",
              "  <thead>\n",
              "    <tr style=\"text-align: right;\">\n",
              "      <th></th>\n",
              "      <th>user_id</th>\n",
              "      <th>item_id</th>\n",
              "      <th>rank</th>\n",
              "      <th>popularity</th>\n",
              "      <th>title</th>\n",
              "      <th>genres</th>\n",
              "      <th>countries</th>\n",
              "      <th>for_kids</th>\n",
              "      <th>age_rating</th>\n",
              "      <th>description</th>\n",
              "      <th>keywords</th>\n",
              "    </tr>\n",
              "  </thead>\n",
              "  <tbody>\n",
              "    <tr>\n",
              "      <th>0</th>\n",
              "      <td>1100002</td>\n",
              "      <td>15297</td>\n",
              "      <td>1</td>\n",
              "      <td>193123</td>\n",
              "      <td>Клиника счастья</td>\n",
              "      <td>драмы, мелодрамы</td>\n",
              "      <td>Россия</td>\n",
              "      <td>NaN</td>\n",
              "      <td>18.0</td>\n",
              "      <td>Успешный сексолог Алена уверена, что нашла фор...</td>\n",
              "      <td>Клиника счастья, Клиника, Счастье, Клиника сча...</td>\n",
              "    </tr>\n",
              "    <tr>\n",
              "      <th>1</th>\n",
              "      <td>1100002</td>\n",
              "      <td>10440</td>\n",
              "      <td>2</td>\n",
              "      <td>202457</td>\n",
              "      <td>Хрустальный</td>\n",
              "      <td>триллеры, детективы</td>\n",
              "      <td>Россия</td>\n",
              "      <td>NaN</td>\n",
              "      <td>18.0</td>\n",
              "      <td>Сергей Смирнов — один из лучших «охотников на ...</td>\n",
              "      <td>хруст, хрусталь, хруста, хрус, полицейский, пе...</td>\n",
              "    </tr>\n",
              "    <tr>\n",
              "      <th>2</th>\n",
              "      <td>1100002</td>\n",
              "      <td>4151</td>\n",
              "      <td>3</td>\n",
              "      <td>91168</td>\n",
              "      <td>Секреты семейной жизни</td>\n",
              "      <td>комедии</td>\n",
              "      <td>Россия</td>\n",
              "      <td>NaN</td>\n",
              "      <td>18.0</td>\n",
              "      <td>У Никиты и Полины всё начиналось прекрасно: об...</td>\n",
              "      <td>брызги крови, кровь, жестокое обращение с живо...</td>\n",
              "    </tr>\n",
              "    <tr>\n",
              "      <th>3</th>\n",
              "      <td>1100002</td>\n",
              "      <td>3734</td>\n",
              "      <td>4</td>\n",
              "      <td>74804</td>\n",
              "      <td>Прабабушка легкого поведения</td>\n",
              "      <td>комедии</td>\n",
              "      <td>Россия</td>\n",
              "      <td>NaN</td>\n",
              "      <td>16.0</td>\n",
              "      <td>1980 год, вся страна следит за событиями моско...</td>\n",
              "      <td>, 2021, россия, прабабушка, легкого, поведения</td>\n",
              "    </tr>\n",
              "    <tr>\n",
              "      <th>4</th>\n",
              "      <td>1100002</td>\n",
              "      <td>9728</td>\n",
              "      <td>5</td>\n",
              "      <td>132865</td>\n",
              "      <td>Гнев человеческий</td>\n",
              "      <td>боевики, триллеры</td>\n",
              "      <td>Великобритания, США</td>\n",
              "      <td>NaN</td>\n",
              "      <td>18.0</td>\n",
              "      <td>Грузовики лос-анджелесской инкассаторской комп...</td>\n",
              "      <td>ограбление, криминальный авторитет, месть, пер...</td>\n",
              "    </tr>\n",
              "    <tr>\n",
              "      <th>5</th>\n",
              "      <td>1100002</td>\n",
              "      <td>4880</td>\n",
              "      <td>6</td>\n",
              "      <td>55044</td>\n",
              "      <td>Афера</td>\n",
              "      <td>комедии</td>\n",
              "      <td>Россия</td>\n",
              "      <td>NaN</td>\n",
              "      <td>18.0</td>\n",
              "      <td>Смотри:- как кино- как сериалКарантин окончен,...</td>\n",
              "      <td>Афера, Аферисты, Карантин, Пандемия, Карантин ...</td>\n",
              "    </tr>\n",
              "    <tr>\n",
              "      <th>6</th>\n",
              "      <td>1100002</td>\n",
              "      <td>7571</td>\n",
              "      <td>7</td>\n",
              "      <td>28372</td>\n",
              "      <td>100% волк</td>\n",
              "      <td>мультфильм, приключения, семейное, фэнтези, ко...</td>\n",
              "      <td>Австралия, Бельгия</td>\n",
              "      <td>NaN</td>\n",
              "      <td>6.0</td>\n",
              "      <td>Наследник семьи оборотней Фредди Люпин отчаянн...</td>\n",
              "      <td>пудель, подростковая тревога, оборотень, приня...</td>\n",
              "    </tr>\n",
              "    <tr>\n",
              "      <th>7</th>\n",
              "      <td>1100002</td>\n",
              "      <td>13865</td>\n",
              "      <td>8</td>\n",
              "      <td>122119</td>\n",
              "      <td>Девятаев</td>\n",
              "      <td>драмы, военные, приключения</td>\n",
              "      <td>Россия</td>\n",
              "      <td>NaN</td>\n",
              "      <td>12.0</td>\n",
              "      <td>Военно-исторический блокбастер от режиссёров Т...</td>\n",
              "      <td>Девятаев, Девятаева, Девят, Девя, Девята, Девя...</td>\n",
              "    </tr>\n",
              "    <tr>\n",
              "      <th>8</th>\n",
              "      <td>1100002</td>\n",
              "      <td>2657</td>\n",
              "      <td>9</td>\n",
              "      <td>68581</td>\n",
              "      <td>Подслушано</td>\n",
              "      <td>драмы, триллеры</td>\n",
              "      <td>Россия</td>\n",
              "      <td>NaN</td>\n",
              "      <td>16.0</td>\n",
              "      <td>Смотри:- как кино- как сериалПодростковый псих...</td>\n",
              "      <td>подслушано, подслушано в контакте, социальная ...</td>\n",
              "    </tr>\n",
              "    <tr>\n",
              "      <th>9</th>\n",
              "      <td>1100002</td>\n",
              "      <td>6809</td>\n",
              "      <td>10</td>\n",
              "      <td>40372</td>\n",
              "      <td>Дуров</td>\n",
              "      <td>документальное</td>\n",
              "      <td>Россия</td>\n",
              "      <td>NaN</td>\n",
              "      <td>16.0</td>\n",
              "      <td>Уникальная история о лидере нового поколения, ...</td>\n",
              "      <td>Компьютер, Монитор, Гений, Интервью, Предприни...</td>\n",
              "    </tr>\n",
              "  </tbody>\n",
              "</table>\n",
              "</div>\n",
              "      <button class=\"colab-df-convert\" onclick=\"convertToInteractive('df-a8a25a0b-2873-4102-9584-b988a7255eba')\"\n",
              "              title=\"Convert this dataframe to an interactive table.\"\n",
              "              style=\"display:none;\">\n",
              "        \n",
              "  <svg xmlns=\"http://www.w3.org/2000/svg\" height=\"24px\"viewBox=\"0 0 24 24\"\n",
              "       width=\"24px\">\n",
              "    <path d=\"M0 0h24v24H0V0z\" fill=\"none\"/>\n",
              "    <path d=\"M18.56 5.44l.94 2.06.94-2.06 2.06-.94-2.06-.94-.94-2.06-.94 2.06-2.06.94zm-11 1L8.5 8.5l.94-2.06 2.06-.94-2.06-.94L8.5 2.5l-.94 2.06-2.06.94zm10 10l.94 2.06.94-2.06 2.06-.94-2.06-.94-.94-2.06-.94 2.06-2.06.94z\"/><path d=\"M17.41 7.96l-1.37-1.37c-.4-.4-.92-.59-1.43-.59-.52 0-1.04.2-1.43.59L10.3 9.45l-7.72 7.72c-.78.78-.78 2.05 0 2.83L4 21.41c.39.39.9.59 1.41.59.51 0 1.02-.2 1.41-.59l7.78-7.78 2.81-2.81c.8-.78.8-2.07 0-2.86zM5.41 20L4 18.59l7.72-7.72 1.47 1.35L5.41 20z\"/>\n",
              "  </svg>\n",
              "      </button>\n",
              "      \n",
              "  <style>\n",
              "    .colab-df-container {\n",
              "      display:flex;\n",
              "      flex-wrap:wrap;\n",
              "      gap: 12px;\n",
              "    }\n",
              "\n",
              "    .colab-df-convert {\n",
              "      background-color: #E8F0FE;\n",
              "      border: none;\n",
              "      border-radius: 50%;\n",
              "      cursor: pointer;\n",
              "      display: none;\n",
              "      fill: #1967D2;\n",
              "      height: 32px;\n",
              "      padding: 0 0 0 0;\n",
              "      width: 32px;\n",
              "    }\n",
              "\n",
              "    .colab-df-convert:hover {\n",
              "      background-color: #E2EBFA;\n",
              "      box-shadow: 0px 1px 2px rgba(60, 64, 67, 0.3), 0px 1px 3px 1px rgba(60, 64, 67, 0.15);\n",
              "      fill: #174EA6;\n",
              "    }\n",
              "\n",
              "    [theme=dark] .colab-df-convert {\n",
              "      background-color: #3B4455;\n",
              "      fill: #D2E3FC;\n",
              "    }\n",
              "\n",
              "    [theme=dark] .colab-df-convert:hover {\n",
              "      background-color: #434B5C;\n",
              "      box-shadow: 0px 1px 3px 1px rgba(0, 0, 0, 0.15);\n",
              "      filter: drop-shadow(0px 1px 2px rgba(0, 0, 0, 0.3));\n",
              "      fill: #FFFFFF;\n",
              "    }\n",
              "  </style>\n",
              "\n",
              "      <script>\n",
              "        const buttonEl =\n",
              "          document.querySelector('#df-a8a25a0b-2873-4102-9584-b988a7255eba button.colab-df-convert');\n",
              "        buttonEl.style.display =\n",
              "          google.colab.kernel.accessAllowed ? 'block' : 'none';\n",
              "\n",
              "        async function convertToInteractive(key) {\n",
              "          const element = document.querySelector('#df-a8a25a0b-2873-4102-9584-b988a7255eba');\n",
              "          const dataTable =\n",
              "            await google.colab.kernel.invokeFunction('convertToInteractive',\n",
              "                                                     [key], {});\n",
              "          if (!dataTable) return;\n",
              "\n",
              "          const docLinkHtml = 'Like what you see? Visit the ' +\n",
              "            '<a target=\"_blank\" href=https://colab.research.google.com/notebooks/data_table.ipynb>data table notebook</a>'\n",
              "            + ' to learn more about interactive tables.';\n",
              "          element.innerHTML = '';\n",
              "          dataTable['output_type'] = 'display_data';\n",
              "          await google.colab.output.renderOutput(dataTable, element);\n",
              "          const docLink = document.createElement('div');\n",
              "          docLink.innerHTML = docLinkHtml;\n",
              "          element.appendChild(docLink);\n",
              "        }\n",
              "      </script>\n",
              "    </div>\n",
              "  </div>\n",
              "  "
            ]
          },
          "metadata": {},
          "execution_count": 266
        }
      ]
    },
    {
      "cell_type": "markdown",
      "source": [
        "Тут еще хуже, ребенку рекомендуются триллеры вместо мультфильмов"
      ],
      "metadata": {
        "id": "i8S4PC3tX1p4"
      }
    },
    {
      "cell_type": "markdown",
      "source": [
        "Почему то рекомендации очень похожи, и как-будто рекомендации для любителя комедий и боевиков перепутаны местами (но вроде нет)"
      ],
      "metadata": {
        "id": "YOM4a6b2aBCZ"
      }
    }
  ],
  "metadata": {
    "kernelspec": {
      "display_name": "lecture_4",
      "language": "python",
      "name": "lecture_4"
    },
    "language_info": {
      "codemirror_mode": {
        "name": "ipython",
        "version": 3
      },
      "file_extension": ".py",
      "mimetype": "text/x-python",
      "name": "python",
      "nbconvert_exporter": "python",
      "pygments_lexer": "ipython3",
      "version": "3.7.9"
    },
    "colab": {
      "provenance": []
    },
    "gpuClass": "standard"
  },
  "nbformat": 4,
  "nbformat_minor": 0
}