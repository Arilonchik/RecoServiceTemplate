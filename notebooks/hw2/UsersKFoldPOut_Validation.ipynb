{
  "cells": [
    {
      "cell_type": "markdown",
      "id": "d213c8e2",
      "metadata": {
        "id": "d213c8e2"
      },
      "source": [
        "## Homework\n",
        "\n",
        "Исходные данные - Yandex Cup 2022 RecSys:\n",
        "- Описание соревнования - https://contest.yandex.ru/yacup/contest/41618/problems/\n",
        "- Данные - https://disk.yandex.ru/d/SI1aAooPn9i8TA\n",
        "- Описание данных - в архиве likes_data.zip три файла:\n",
        "  - train - обучающий набор данных. Каждая строка - последовательность id треков, которые лайкнул один пользователь. Гарантируется, что лайки даны в той последовательности, в которой их ставил пользователь.\n",
        "  - test - набор тестовых данных. Имеет точно такой же формат, но в каждой строке не хватает последнего лайка, который надо предсказать.\n",
        "  - track_artists.csv - информация о исполнителях треков. Гарантируется, что у каждого трека есть ровно один исполнитель. Для треков, у которых фактически несколько исполнителей, мы оставили того, который считается основным исполнителем трека.\n",
        "- Описание сабмита - в качестве решения необходимо отправить файл, в котором для каждого пользователя из test в отдельной строке будет не более 100 треков, разделенных пробелом. Гарантируется, что у каждого пользователя будет только 1 лайк в тесте\n",
        "- Метрика - MRR@100"
      ]
    },
    {
      "cell_type": "markdown",
      "id": "14336bc2",
      "metadata": {
        "id": "14336bc2"
      },
      "source": [
        "Промежуточная задача - преобразовать данные в pandas.DataFrame вида {user, item, order}, где order - порядковый номер с конца (0 - самый \"свежий\" лайк, чем больше order, тем позже был поставлен лайк)\n",
        "\n",
        "**Итоговая задача** - построить схему валидации для данного соревнования с учетом особенностей сорвенования\n",
        "- Между `train` и `test` не должно быть общих пользователей\n",
        "- Количество фолдов задается через параметр класса `n_folds`\n",
        "- В `test` должно быть не более `p` последних треков (параметр класса `p`)"
      ]
    },
    {
      "cell_type": "code",
      "source": [
        "from google.colab import drive\n",
        "drive.mount('/content/drive')"
      ],
      "metadata": {
        "colab": {
          "base_uri": "https://localhost:8080/"
        },
        "id": "UJbBLALl--kK",
        "outputId": "ab76dff1-809f-47c6-ba83-4187600dc792"
      },
      "id": "UJbBLALl--kK",
      "execution_count": 1,
      "outputs": [
        {
          "output_type": "stream",
          "name": "stdout",
          "text": [
            "Mounted at /content/drive\n"
          ]
        }
      ]
    },
    {
      "cell_type": "code",
      "execution_count": 2,
      "id": "a15817a9",
      "metadata": {
        "ExecuteTime": {
          "end_time": "2022-11-16T13:17:11.007473Z",
          "start_time": "2022-11-16T13:17:09.799477Z"
        },
        "id": "a15817a9"
      },
      "outputs": [],
      "source": [
        "import pandas as pd\n",
        "import numpy as np"
      ]
    },
    {
      "cell_type": "code",
      "source": [
        "PATH = '/content/drive/MyDrive/YCup/'"
      ],
      "metadata": {
        "id": "hxbrlFq98O2g"
      },
      "id": "hxbrlFq98O2g",
      "execution_count": 3,
      "outputs": []
    },
    {
      "cell_type": "code",
      "source": [
        "data = []\n",
        "\n",
        "with open(PATH + 'test') as f:\n",
        "    for line in f.readlines():\n",
        "        data.append([id for id in line.split()])\n",
        "\n",
        "data = pd.DataFrame(np.array(data, dtype=object), columns=['tracks'])\n",
        "data.reset_index(inplace=True)\n",
        "data = data.explode('tracks', ignore_index=True)\n",
        "data.rename(columns={'index': 'user_id', 'tracks': 'track_id'},\n",
        "          inplace=True)\n",
        "data['order'] = data.groupby('user_id').cumcount(ascending=False)"
      ],
      "metadata": {
        "id": "bNXq0LF6_HsK"
      },
      "id": "bNXq0LF6_HsK",
      "execution_count": 4,
      "outputs": []
    },
    {
      "cell_type": "code",
      "source": [
        "data"
      ],
      "metadata": {
        "colab": {
          "base_uri": "https://localhost:8080/",
          "height": 424
        },
        "id": "m1Jtm9YLEWy2",
        "outputId": "e1f6eb13-ab57-4d32-c657-638232d03f7a"
      },
      "id": "m1Jtm9YLEWy2",
      "execution_count": 5,
      "outputs": [
        {
          "output_type": "execute_result",
          "data": {
            "text/plain": [
              "          user_id track_id  order\n",
              "0               0   454758     19\n",
              "1               0   382341     18\n",
              "2               0   240893     17\n",
              "3               0   280388     16\n",
              "4               0   362253     15\n",
              "...           ...      ...    ...\n",
              "23262195   289913   448288      4\n",
              "23262196   289913     1343      3\n",
              "23262197   289913    86420      2\n",
              "23262198   289913   186436      1\n",
              "23262199   289913     8474      0\n",
              "\n",
              "[23262200 rows x 3 columns]"
            ],
            "text/html": [
              "\n",
              "  <div id=\"df-9a84cb5f-0c5c-4773-a3a6-4b28f6becece\">\n",
              "    <div class=\"colab-df-container\">\n",
              "      <div>\n",
              "<style scoped>\n",
              "    .dataframe tbody tr th:only-of-type {\n",
              "        vertical-align: middle;\n",
              "    }\n",
              "\n",
              "    .dataframe tbody tr th {\n",
              "        vertical-align: top;\n",
              "    }\n",
              "\n",
              "    .dataframe thead th {\n",
              "        text-align: right;\n",
              "    }\n",
              "</style>\n",
              "<table border=\"1\" class=\"dataframe\">\n",
              "  <thead>\n",
              "    <tr style=\"text-align: right;\">\n",
              "      <th></th>\n",
              "      <th>user_id</th>\n",
              "      <th>track_id</th>\n",
              "      <th>order</th>\n",
              "    </tr>\n",
              "  </thead>\n",
              "  <tbody>\n",
              "    <tr>\n",
              "      <th>0</th>\n",
              "      <td>0</td>\n",
              "      <td>454758</td>\n",
              "      <td>19</td>\n",
              "    </tr>\n",
              "    <tr>\n",
              "      <th>1</th>\n",
              "      <td>0</td>\n",
              "      <td>382341</td>\n",
              "      <td>18</td>\n",
              "    </tr>\n",
              "    <tr>\n",
              "      <th>2</th>\n",
              "      <td>0</td>\n",
              "      <td>240893</td>\n",
              "      <td>17</td>\n",
              "    </tr>\n",
              "    <tr>\n",
              "      <th>3</th>\n",
              "      <td>0</td>\n",
              "      <td>280388</td>\n",
              "      <td>16</td>\n",
              "    </tr>\n",
              "    <tr>\n",
              "      <th>4</th>\n",
              "      <td>0</td>\n",
              "      <td>362253</td>\n",
              "      <td>15</td>\n",
              "    </tr>\n",
              "    <tr>\n",
              "      <th>...</th>\n",
              "      <td>...</td>\n",
              "      <td>...</td>\n",
              "      <td>...</td>\n",
              "    </tr>\n",
              "    <tr>\n",
              "      <th>23262195</th>\n",
              "      <td>289913</td>\n",
              "      <td>448288</td>\n",
              "      <td>4</td>\n",
              "    </tr>\n",
              "    <tr>\n",
              "      <th>23262196</th>\n",
              "      <td>289913</td>\n",
              "      <td>1343</td>\n",
              "      <td>3</td>\n",
              "    </tr>\n",
              "    <tr>\n",
              "      <th>23262197</th>\n",
              "      <td>289913</td>\n",
              "      <td>86420</td>\n",
              "      <td>2</td>\n",
              "    </tr>\n",
              "    <tr>\n",
              "      <th>23262198</th>\n",
              "      <td>289913</td>\n",
              "      <td>186436</td>\n",
              "      <td>1</td>\n",
              "    </tr>\n",
              "    <tr>\n",
              "      <th>23262199</th>\n",
              "      <td>289913</td>\n",
              "      <td>8474</td>\n",
              "      <td>0</td>\n",
              "    </tr>\n",
              "  </tbody>\n",
              "</table>\n",
              "<p>23262200 rows × 3 columns</p>\n",
              "</div>\n",
              "      <button class=\"colab-df-convert\" onclick=\"convertToInteractive('df-9a84cb5f-0c5c-4773-a3a6-4b28f6becece')\"\n",
              "              title=\"Convert this dataframe to an interactive table.\"\n",
              "              style=\"display:none;\">\n",
              "        \n",
              "  <svg xmlns=\"http://www.w3.org/2000/svg\" height=\"24px\"viewBox=\"0 0 24 24\"\n",
              "       width=\"24px\">\n",
              "    <path d=\"M0 0h24v24H0V0z\" fill=\"none\"/>\n",
              "    <path d=\"M18.56 5.44l.94 2.06.94-2.06 2.06-.94-2.06-.94-.94-2.06-.94 2.06-2.06.94zm-11 1L8.5 8.5l.94-2.06 2.06-.94-2.06-.94L8.5 2.5l-.94 2.06-2.06.94zm10 10l.94 2.06.94-2.06 2.06-.94-2.06-.94-.94-2.06-.94 2.06-2.06.94z\"/><path d=\"M17.41 7.96l-1.37-1.37c-.4-.4-.92-.59-1.43-.59-.52 0-1.04.2-1.43.59L10.3 9.45l-7.72 7.72c-.78.78-.78 2.05 0 2.83L4 21.41c.39.39.9.59 1.41.59.51 0 1.02-.2 1.41-.59l7.78-7.78 2.81-2.81c.8-.78.8-2.07 0-2.86zM5.41 20L4 18.59l7.72-7.72 1.47 1.35L5.41 20z\"/>\n",
              "  </svg>\n",
              "      </button>\n",
              "      \n",
              "  <style>\n",
              "    .colab-df-container {\n",
              "      display:flex;\n",
              "      flex-wrap:wrap;\n",
              "      gap: 12px;\n",
              "    }\n",
              "\n",
              "    .colab-df-convert {\n",
              "      background-color: #E8F0FE;\n",
              "      border: none;\n",
              "      border-radius: 50%;\n",
              "      cursor: pointer;\n",
              "      display: none;\n",
              "      fill: #1967D2;\n",
              "      height: 32px;\n",
              "      padding: 0 0 0 0;\n",
              "      width: 32px;\n",
              "    }\n",
              "\n",
              "    .colab-df-convert:hover {\n",
              "      background-color: #E2EBFA;\n",
              "      box-shadow: 0px 1px 2px rgba(60, 64, 67, 0.3), 0px 1px 3px 1px rgba(60, 64, 67, 0.15);\n",
              "      fill: #174EA6;\n",
              "    }\n",
              "\n",
              "    [theme=dark] .colab-df-convert {\n",
              "      background-color: #3B4455;\n",
              "      fill: #D2E3FC;\n",
              "    }\n",
              "\n",
              "    [theme=dark] .colab-df-convert:hover {\n",
              "      background-color: #434B5C;\n",
              "      box-shadow: 0px 1px 3px 1px rgba(0, 0, 0, 0.15);\n",
              "      filter: drop-shadow(0px 1px 2px rgba(0, 0, 0, 0.3));\n",
              "      fill: #FFFFFF;\n",
              "    }\n",
              "  </style>\n",
              "\n",
              "      <script>\n",
              "        const buttonEl =\n",
              "          document.querySelector('#df-9a84cb5f-0c5c-4773-a3a6-4b28f6becece button.colab-df-convert');\n",
              "        buttonEl.style.display =\n",
              "          google.colab.kernel.accessAllowed ? 'block' : 'none';\n",
              "\n",
              "        async function convertToInteractive(key) {\n",
              "          const element = document.querySelector('#df-9a84cb5f-0c5c-4773-a3a6-4b28f6becece');\n",
              "          const dataTable =\n",
              "            await google.colab.kernel.invokeFunction('convertToInteractive',\n",
              "                                                     [key], {});\n",
              "          if (!dataTable) return;\n",
              "\n",
              "          const docLinkHtml = 'Like what you see? Visit the ' +\n",
              "            '<a target=\"_blank\" href=https://colab.research.google.com/notebooks/data_table.ipynb>data table notebook</a>'\n",
              "            + ' to learn more about interactive tables.';\n",
              "          element.innerHTML = '';\n",
              "          dataTable['output_type'] = 'display_data';\n",
              "          await google.colab.output.renderOutput(dataTable, element);\n",
              "          const docLink = document.createElement('div');\n",
              "          docLink.innerHTML = docLinkHtml;\n",
              "          element.appendChild(docLink);\n",
              "        }\n",
              "      </script>\n",
              "    </div>\n",
              "  </div>\n",
              "  "
            ]
          },
          "metadata": {},
          "execution_count": 5
        }
      ]
    },
    {
      "cell_type": "code",
      "execution_count": 6,
      "id": "e98ffc37",
      "metadata": {
        "ExecuteTime": {
          "end_time": "2022-11-16T13:17:45.251478Z",
          "start_time": "2022-11-16T13:17:45.238476Z"
        },
        "id": "e98ffc37"
      },
      "outputs": [],
      "source": [
        "class UsersKFoldPOut():\n",
        "    def __init__(self, n_folds, p, user_column='user_id', rank_column='order', random_seed=23):\n",
        "        self.n_folds = n_folds\n",
        "        self.p = p\n",
        "        self.seed = random_seed\n",
        "        self.user_column = user_column\n",
        "        self.rank_column = rank_column\n",
        "    \n",
        "    def split(self, df):\n",
        "        users = df[self.user_column].unique()\n",
        "        users_count = len(users)\n",
        "        \n",
        "        np.random.seed(self.seed)\n",
        "        np.random.shuffle(users)\n",
        "        \n",
        "        fold_sizes = np.full(self.n_folds, users_count // self.n_folds, dtype=int)\n",
        "        fold_sizes[: users_count % self.n_folds] += 1\n",
        "        current = 0\n",
        "        for fold_size in fold_sizes:\n",
        "            start, stop = current, current + fold_size\n",
        "            test_fold_users = users[start:stop]\n",
        "            test_mask = df[self.user_column].isin(test_fold_users) & (df['order'] < self.p)\n",
        "            train_mask = ~df[self.user_column].isin(test_fold_users)\n",
        "            \n",
        "            yield train_mask, test_mask"
      ]
    },
    {
      "cell_type": "code",
      "execution_count": 7,
      "id": "ef4e74be",
      "metadata": {
        "ExecuteTime": {
          "end_time": "2022-11-16T13:17:45.267474Z",
          "start_time": "2022-11-16T13:17:45.254478Z"
        },
        "colab": {
          "base_uri": "https://localhost:8080/"
        },
        "id": "ef4e74be",
        "outputId": "0297a675-7443-40c1-9d5f-73d6baea82fe"
      },
      "outputs": [
        {
          "output_type": "stream",
          "name": "stdout",
          "text": [
            "Fold#0 | Train: 17456794, Test: 217437\n",
            "Fold#1 | Train: 17456794, Test: 217437\n",
            "Fold#2 | Train: 17456885, Test: 217434\n",
            "Fold#3 | Train: 17456885, Test: 217434\n"
          ]
        }
      ],
      "source": [
        "p = 3\n",
        "cv = UsersKFoldPOut(n_folds=4, p=p)\n",
        "\n",
        "for i, (train_mask, test_mask) in enumerate(cv.split(data)):\n",
        "    train = data[train_mask]\n",
        "    test = data[test_mask]\n",
        "    assert set(train['user_id'].unique()).intersection(test['user_id'].unique()) == set(), 'Между train и test есть общие пользователи'\n",
        "    assert np.all(test['order'] < p), 'В test более p последних треков'\n",
        "    print(f'Fold#{i} | Train: {train.shape[0]}, Test: {test.shape[0]}')"
      ]
    }
  ],
  "metadata": {
    "kernelspec": {
      "display_name": "Practice #2 (py38)",
      "language": "python",
      "name": "practice2"
    },
    "language_info": {
      "codemirror_mode": {
        "name": "ipython",
        "version": 3
      },
      "file_extension": ".py",
      "mimetype": "text/x-python",
      "name": "python",
      "nbconvert_exporter": "python",
      "pygments_lexer": "ipython3",
      "version": "3.8.15"
    },
    "toc": {
      "base_numbering": 1,
      "nav_menu": {},
      "number_sections": true,
      "sideBar": true,
      "skip_h1_title": true,
      "title_cell": "Table of Contents",
      "title_sidebar": "Contents",
      "toc_cell": false,
      "toc_position": {
        "height": "calc(100% - 180px)",
        "left": "10px",
        "top": "150px",
        "width": "207px"
      },
      "toc_section_display": true,
      "toc_window_display": true
    },
    "colab": {
      "provenance": []
    }
  },
  "nbformat": 4,
  "nbformat_minor": 5
}