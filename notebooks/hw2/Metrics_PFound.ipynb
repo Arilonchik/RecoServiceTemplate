{
  "cells": [
    {
      "cell_type": "markdown",
      "id": "a00c6db1",
      "metadata": {
        "id": "a00c6db1"
      },
      "source": [
        "# Метрика Pfound\n",
        "\n",
        "## Imports"
      ]
    },
    {
      "cell_type": "code",
      "execution_count": 43,
      "id": "14dec809",
      "metadata": {
        "ExecuteTime": {
          "end_time": "2022-11-16T13:16:59.822474Z",
          "start_time": "2022-11-16T13:16:58.134477Z"
        },
        "id": "14dec809"
      },
      "outputs": [],
      "source": [
        "import pandas as pd\n",
        "import numpy as np\n",
        "import numba as nb\n",
        "\n",
        "from tqdm.auto import tqdm"
      ]
    },
    {
      "cell_type": "code",
      "execution_count": 44,
      "id": "e3551b5e",
      "metadata": {
        "ExecuteTime": {
          "end_time": "2022-11-16T13:16:59.838475Z",
          "start_time": "2022-11-16T13:16:59.825476Z"
        },
        "id": "e3551b5e"
      },
      "outputs": [],
      "source": [
        "np.random.seed(23)"
      ]
    },
    {
      "cell_type": "markdown",
      "id": "86146c27",
      "metadata": {
        "id": "86146c27"
      },
      "source": [
        "## Homework\n",
        "\n",
        "### PFound\n",
        "Исходные данные - Yandex Cup 2022 Analytics\n",
        "- Ссылка - https://yandex.ru/cup/analytics/analysis/ , пример A. Рассчитать pFound\n",
        "- Данные - https://yadi.sk/d/guqki4UI4hFlXQ\n",
        "- Формула\n",
        "$$pFound@K = \\sum_{i=1}^{k} pLook[i]\\ pRel[i]$$\n",
        "\n",
        "$$pLook[1] = 1$$\n",
        "\n",
        "$$pLook[i] = pLook[i-1]\\ (1 - pRel[i-1])\\ (1 - pBreak)$$\n",
        "\n",
        "$$pBreak = 0.15$$\n",
        "\n",
        "**Задача** - написать функцию, которая принимает на вход dataframe (после join), а на выходе дает средний pFound по всем query.\n",
        "- Запрещается использовать циклы for для расчет метрики (как полностью, так и ее частей).\n",
        "- Усложнение, если задача показалась легкой - попробуйте обойтись без groupby (не уверен, что это возможно, но вдруг вы справитесь)\n"
      ]
    },
    {
      "cell_type": "markdown",
      "source": [
        "##Решение с циклом\n",
        "\n",
        "(Измененный пример из yandexcup)\n"
      ],
      "metadata": {
        "id": "BDUfFCRO9Eyr"
      },
      "id": "BDUfFCRO9Eyr"
    },
    {
      "cell_type": "code",
      "execution_count": 45,
      "id": "a0e001ef",
      "metadata": {
        "colab": {
          "base_uri": "https://localhost:8080/",
          "height": 206
        },
        "id": "a0e001ef",
        "outputId": "c2847a6c-cb56-4c8d-c605-f0c94da21473"
      },
      "outputs": [
        {
          "output_type": "execute_result",
          "data": {
            "text/plain": [
              "     qid                                                url  rating  hostid\n",
              "0  10387                       http://batman-arkhamcity.ru/    0.00      64\n",
              "1  10387  http://bigtorrents.org/publ/batman_arkham_city...    0.14      71\n",
              "2  10387  http://consolelife.ru/xbox-360/6577-o-rossiysk...    0.14     101\n",
              "3  10387  http://dic.academic.ru/book.nsf/3662736/Batman...    0.00     115\n",
              "4  10387      http://forum.csmania.ru/viewtopic.php?t=25986    0.14     155"
            ],
            "text/html": [
              "\n",
              "  <div id=\"df-5cc0a1fe-1409-463a-8d0e-6b84e79f2ba8\">\n",
              "    <div class=\"colab-df-container\">\n",
              "      <div>\n",
              "<style scoped>\n",
              "    .dataframe tbody tr th:only-of-type {\n",
              "        vertical-align: middle;\n",
              "    }\n",
              "\n",
              "    .dataframe tbody tr th {\n",
              "        vertical-align: top;\n",
              "    }\n",
              "\n",
              "    .dataframe thead th {\n",
              "        text-align: right;\n",
              "    }\n",
              "</style>\n",
              "<table border=\"1\" class=\"dataframe\">\n",
              "  <thead>\n",
              "    <tr style=\"text-align: right;\">\n",
              "      <th></th>\n",
              "      <th>qid</th>\n",
              "      <th>url</th>\n",
              "      <th>rating</th>\n",
              "      <th>hostid</th>\n",
              "    </tr>\n",
              "  </thead>\n",
              "  <tbody>\n",
              "    <tr>\n",
              "      <th>0</th>\n",
              "      <td>10387</td>\n",
              "      <td>http://batman-arkhamcity.ru/</td>\n",
              "      <td>0.00</td>\n",
              "      <td>64</td>\n",
              "    </tr>\n",
              "    <tr>\n",
              "      <th>1</th>\n",
              "      <td>10387</td>\n",
              "      <td>http://bigtorrents.org/publ/batman_arkham_city...</td>\n",
              "      <td>0.14</td>\n",
              "      <td>71</td>\n",
              "    </tr>\n",
              "    <tr>\n",
              "      <th>2</th>\n",
              "      <td>10387</td>\n",
              "      <td>http://consolelife.ru/xbox-360/6577-o-rossiysk...</td>\n",
              "      <td>0.14</td>\n",
              "      <td>101</td>\n",
              "    </tr>\n",
              "    <tr>\n",
              "      <th>3</th>\n",
              "      <td>10387</td>\n",
              "      <td>http://dic.academic.ru/book.nsf/3662736/Batman...</td>\n",
              "      <td>0.00</td>\n",
              "      <td>115</td>\n",
              "    </tr>\n",
              "    <tr>\n",
              "      <th>4</th>\n",
              "      <td>10387</td>\n",
              "      <td>http://forum.csmania.ru/viewtopic.php?t=25986</td>\n",
              "      <td>0.14</td>\n",
              "      <td>155</td>\n",
              "    </tr>\n",
              "  </tbody>\n",
              "</table>\n",
              "</div>\n",
              "      <button class=\"colab-df-convert\" onclick=\"convertToInteractive('df-5cc0a1fe-1409-463a-8d0e-6b84e79f2ba8')\"\n",
              "              title=\"Convert this dataframe to an interactive table.\"\n",
              "              style=\"display:none;\">\n",
              "        \n",
              "  <svg xmlns=\"http://www.w3.org/2000/svg\" height=\"24px\"viewBox=\"0 0 24 24\"\n",
              "       width=\"24px\">\n",
              "    <path d=\"M0 0h24v24H0V0z\" fill=\"none\"/>\n",
              "    <path d=\"M18.56 5.44l.94 2.06.94-2.06 2.06-.94-2.06-.94-.94-2.06-.94 2.06-2.06.94zm-11 1L8.5 8.5l.94-2.06 2.06-.94-2.06-.94L8.5 2.5l-.94 2.06-2.06.94zm10 10l.94 2.06.94-2.06 2.06-.94-2.06-.94-.94-2.06-.94 2.06-2.06.94z\"/><path d=\"M17.41 7.96l-1.37-1.37c-.4-.4-.92-.59-1.43-.59-.52 0-1.04.2-1.43.59L10.3 9.45l-7.72 7.72c-.78.78-.78 2.05 0 2.83L4 21.41c.39.39.9.59 1.41.59.51 0 1.02-.2 1.41-.59l7.78-7.78 2.81-2.81c.8-.78.8-2.07 0-2.86zM5.41 20L4 18.59l7.72-7.72 1.47 1.35L5.41 20z\"/>\n",
              "  </svg>\n",
              "      </button>\n",
              "      \n",
              "  <style>\n",
              "    .colab-df-container {\n",
              "      display:flex;\n",
              "      flex-wrap:wrap;\n",
              "      gap: 12px;\n",
              "    }\n",
              "\n",
              "    .colab-df-convert {\n",
              "      background-color: #E8F0FE;\n",
              "      border: none;\n",
              "      border-radius: 50%;\n",
              "      cursor: pointer;\n",
              "      display: none;\n",
              "      fill: #1967D2;\n",
              "      height: 32px;\n",
              "      padding: 0 0 0 0;\n",
              "      width: 32px;\n",
              "    }\n",
              "\n",
              "    .colab-df-convert:hover {\n",
              "      background-color: #E2EBFA;\n",
              "      box-shadow: 0px 1px 2px rgba(60, 64, 67, 0.3), 0px 1px 3px 1px rgba(60, 64, 67, 0.15);\n",
              "      fill: #174EA6;\n",
              "    }\n",
              "\n",
              "    [theme=dark] .colab-df-convert {\n",
              "      background-color: #3B4455;\n",
              "      fill: #D2E3FC;\n",
              "    }\n",
              "\n",
              "    [theme=dark] .colab-df-convert:hover {\n",
              "      background-color: #434B5C;\n",
              "      box-shadow: 0px 1px 3px 1px rgba(0, 0, 0, 0.15);\n",
              "      filter: drop-shadow(0px 1px 2px rgba(0, 0, 0, 0.3));\n",
              "      fill: #FFFFFF;\n",
              "    }\n",
              "  </style>\n",
              "\n",
              "      <script>\n",
              "        const buttonEl =\n",
              "          document.querySelector('#df-5cc0a1fe-1409-463a-8d0e-6b84e79f2ba8 button.colab-df-convert');\n",
              "        buttonEl.style.display =\n",
              "          google.colab.kernel.accessAllowed ? 'block' : 'none';\n",
              "\n",
              "        async function convertToInteractive(key) {\n",
              "          const element = document.querySelector('#df-5cc0a1fe-1409-463a-8d0e-6b84e79f2ba8');\n",
              "          const dataTable =\n",
              "            await google.colab.kernel.invokeFunction('convertToInteractive',\n",
              "                                                     [key], {});\n",
              "          if (!dataTable) return;\n",
              "\n",
              "          const docLinkHtml = 'Like what you see? Visit the ' +\n",
              "            '<a target=\"_blank\" href=https://colab.research.google.com/notebooks/data_table.ipynb>data table notebook</a>'\n",
              "            + ' to learn more about interactive tables.';\n",
              "          element.innerHTML = '';\n",
              "          dataTable['output_type'] = 'display_data';\n",
              "          await google.colab.output.renderOutput(dataTable, element);\n",
              "          const docLink = document.createElement('div');\n",
              "          docLink.innerHTML = docLinkHtml;\n",
              "          element.appendChild(docLink);\n",
              "        }\n",
              "      </script>\n",
              "    </div>\n",
              "  </div>\n",
              "  "
            ]
          },
          "metadata": {},
          "execution_count": 45
        }
      ],
      "source": [
        "# считываем данные\n",
        "qid_query = pd.read_csv(\"qid_query.tsv\", sep=\"\\t\", names=[\"qid\", \"query\"])\n",
        "qid_url_rating = pd.read_csv(\"qid_url_rating.tsv\", sep=\"\\t\", names=[\"qid\", \"url\", \"rating\"])\n",
        "hostid_url = pd.read_csv(\"hostid_url.tsv\", sep=\"\\t\", names=[\"hostid\", \"url\"])\n",
        "\n",
        "# делаем join двух таблиц\n",
        "qid_url_rating_hostid = pd.merge(qid_url_rating, hostid_url, on=\"url\")\n",
        "qid_url_rating_hostid.head()"
      ]
    },
    {
      "cell_type": "code",
      "source": [
        "def plook(ind, rels):\n",
        "  if ind == 0:\n",
        "    return 1\n",
        "  return plook(ind-1, rels)*(1-rels[ind-1])*(1-0.15)\n",
        "\n",
        "\n",
        "def pfound(group, top_k):\n",
        "  max_by_host = group.groupby(\"hostid\")[\"rating\"].max() # максимальный рейтинг хоста\n",
        "  topk = max_by_host.sort_values(ascending=False)[:top_k] # берем топ k урлов с наивысшим рейтингом\n",
        "  pfound = 0\n",
        "  for ind, val in enumerate(topk):\n",
        "    pfound += val*plook(ind, topk.values)\n",
        "  return pfound"
      ],
      "metadata": {
        "id": "eQzZvmqr-6yN"
      },
      "id": "eQzZvmqr-6yN",
      "execution_count": 46,
      "outputs": []
    },
    {
      "cell_type": "code",
      "source": [
        "qid_pfound = qid_url_rating_hostid.groupby('qid').apply(pfound, top_k=10) # группируем по qid и вычисляем pfound\n",
        "qid_pfound"
      ],
      "metadata": {
        "colab": {
          "base_uri": "https://localhost:8080/"
        },
        "id": "UYMirGmN-9CW",
        "outputId": "120b6752-6dba-438e-adcc-9a3beb4a0c2e"
      },
      "id": "UYMirGmN-9CW",
      "execution_count": 47,
      "outputs": [
        {
          "output_type": "execute_result",
          "data": {
            "text/plain": [
              "qid\n",
              "10387     0.497771\n",
              "20860     0.655448\n",
              "21070     0.497771\n",
              "35618     0.437794\n",
              "107538    0.354808\n",
              "150126    0.366109\n",
              "168170    0.481255\n",
              "176370    0.393661\n",
              "192007    0.191170\n",
              "213932    0.347005\n",
              "221830    0.497771\n",
              "242953    0.497771\n",
              "253476    0.497771\n",
              "295761    0.900836\n",
              "346214    0.263596\n",
              "347852    0.618534\n",
              "360100    0.470204\n",
              "366042    0.309314\n",
              "375608    0.497771\n",
              "380923    0.429989\n",
              "dtype: float64"
            ]
          },
          "metadata": {},
          "execution_count": 47
        }
      ]
    },
    {
      "cell_type": "code",
      "source": [
        "qid_pfound = qid_url_rating_hostid.groupby('qid').apply(pfound, top_k=10).mean() # группируем по qid и вычисляем средний pfound по всем query\n",
        "qid_pfound"
      ],
      "metadata": {
        "colab": {
          "base_uri": "https://localhost:8080/"
        },
        "id": "DPYQjD3nAvBq",
        "outputId": "695f0146-548e-4234-d4ec-1abfa5e9aecc"
      },
      "id": "DPYQjD3nAvBq",
      "execution_count": 48,
      "outputs": [
        {
          "output_type": "execute_result",
          "data": {
            "text/plain": [
              "0.4603173929969002"
            ]
          },
          "metadata": {},
          "execution_count": 48
        }
      ]
    },
    {
      "cell_type": "code",
      "source": [
        "def calc_plook_yandex(df, topk):\n",
        "  qid_pfound = qid_url_rating_hostid.groupby('qid').apply(pfound, top_k=10) # группируем по qid и вычисляем pfound\n",
        "  return qid_pfound, qid_pfound.mean()"
      ],
      "metadata": {
        "id": "v2CWDLVYk-wg"
      },
      "id": "v2CWDLVYk-wg",
      "execution_count": 49,
      "outputs": []
    },
    {
      "cell_type": "markdown",
      "source": [
        "## Решение без цикла\n"
      ],
      "metadata": {
        "id": "lB--3xGkCbCn"
      },
      "id": "lB--3xGkCbCn"
    },
    {
      "cell_type": "code",
      "source": [
        "def headtail(df):\n",
        "    return pd.concat([df.head(), df.tail()])"
      ],
      "metadata": {
        "id": "vO3oM88qHTT6"
      },
      "id": "vO3oM88qHTT6",
      "execution_count": 50,
      "outputs": []
    },
    {
      "cell_type": "markdown",
      "source": [
        "####Load data"
      ],
      "metadata": {
        "id": "p5zh0pSsT0_f"
      },
      "id": "p5zh0pSsT0_f"
    },
    {
      "cell_type": "code",
      "source": [
        "def load_data():\n",
        "  # считываем данные\n",
        "  qid_query = pd.read_csv(\"qid_query.tsv\", sep=\"\\t\", names=[\"qid\", \"query\"])\n",
        "  qid_url_rating = pd.read_csv(\"qid_url_rating.tsv\", sep=\"\\t\", names=[\"qid\", \"url\", \"rating\"])\n",
        "  hostid_url = pd.read_csv(\"hostid_url.tsv\", sep=\"\\t\", names=[\"hostid\", \"url\"])\n",
        "\n",
        "  # делаем join двух таблиц,\n",
        "  qid_url_rating_hostid = pd.merge(qid_url_rating, hostid_url, on=\"url\")\n",
        "\n",
        "  #Удаляем ненужные колонки\n",
        "  qid_url_rating_hostid = qid_url_rating_hostid.drop([\"url\"], axis=1)\n",
        "\n",
        "  Dup_Rows = qid_url_rating_hostid[qid_url_rating_hostid.duplicated()]\n",
        "  qid_url_rating_hostid = qid_url_rating_hostid.drop_duplicates(keep='first')\n",
        "\n",
        "  qid_url_rating_hostid.sort_values(by=[\"qid\", 'rating'], ascending=[False,False], inplace=True)\n",
        "  return qid_url_rating_hostid"
      ],
      "metadata": {
        "id": "4CSgrnKiCfwH"
      },
      "id": "4CSgrnKiCfwH",
      "execution_count": 67,
      "outputs": []
    },
    {
      "cell_type": "markdown",
      "source": [
        "####PFound vectorized"
      ],
      "metadata": {
        "id": "5MkcYKcQUCbq"
      },
      "id": "5MkcYKcQUCbq"
    },
    {
      "cell_type": "code",
      "source": [
        "def pfound_vector(join_df, k):\n",
        "  join_df = join_df.copy()\n",
        "  # Сортируем df\n",
        "  join_df.sort_values(by=[\"qid\", 'rating'], ascending=[False,False], inplace=True)\n",
        "  # Удаляем дубликаты взаимодейтсвия \n",
        "  Dup_Rows = join_df[join_df.duplicated()]\n",
        "  join_df = join_df.drop_duplicates(keep='first')\n",
        "\n",
        "  # Проставляем порядок вхождения\n",
        "  join_df[\"rank\"] = join_df.groupby(\"qid\").cumcount() + 1\n",
        "\n",
        "  # Высчитываем коэф. * (1-rel) \n",
        "  join_df['1relbetta'] = (1 - join_df[\"rating\"])*(1-0.15)\n",
        "\n",
        "  # С помощью cumprod получаем plook и сдвигаем его на строку вниз, чтобы получить предыдущие значения\n",
        "  # nan заполняем 1 по формуле\n",
        "  join_df[\"cumprod\"] = join_df.groupby(\"qid\")[\"1relbetta\"].cumprod()\n",
        "  join_df[\"plook\"] = join_df.groupby(\"qid\")[\"cumprod\"].shift(1)\n",
        "  join_df.fillna(1, inplace=True)\n",
        "\n",
        "  # Высчитываем pfound\n",
        "  join_df[\"pfound\"] = join_df[\"plook\"] * join_df[\"rating\"]\n",
        "\n",
        "  # Берем top k\n",
        "  join_df[\"pfound@k\"] = join_df[\"rank\"] <= k\n",
        "  join_df = join_df[join_df[\"pfound@k\"]==True]\n",
        "\n",
        "  # Высчитываем pfound для каждого qid\n",
        "  qid_pfound = join_df.groupby(\"qid\")[\"pfound\"].sum()\n",
        "\n",
        "\n",
        "  return qid_pfound, qid_pfound.mean()"
      ],
      "metadata": {
        "id": "2NJsHzQjWUSs"
      },
      "id": "2NJsHzQjWUSs",
      "execution_count": 68,
      "outputs": []
    },
    {
      "cell_type": "markdown",
      "source": [
        "## Проверка решений"
      ],
      "metadata": {
        "id": "q5rJqO0re7MQ"
      },
      "id": "q5rJqO0re7MQ"
    },
    {
      "cell_type": "code",
      "source": [
        "topk = 10\n",
        "qid_url_rating_hostid = load_data()\n",
        "print(headtail(qid_url_rating_hostid))\n",
        "p_found_yandex, mean_pfound_yandex = calc_plook_yandex(qid_url_rating_hostid, topk)\n",
        "\n",
        "p_found, mean_pfound = pfound_vector(qid_url_rating_hostid, topk)\n",
        "\n",
        "print(\"Yandex pfound group\")\n",
        "print(p_found_yandex)\n",
        "print(\"New pfound group\")\n",
        "print(p_found, \"\\n\\n\\n\")\n",
        "\n",
        "\n",
        "print(\"Yandex pfound mean\")\n",
        "print(mean_pfound_yandex)\n",
        "print(\"New pfound mean\")\n",
        "print(mean_pfound)\n"
      ],
      "metadata": {
        "colab": {
          "base_uri": "https://localhost:8080/"
        },
        "id": "HK2OdPMle_EZ",
        "outputId": "5cd4d351-02bf-40c1-f664-614d3589c202"
      },
      "id": "HK2OdPMle_EZ",
      "execution_count": 69,
      "outputs": [
        {
          "output_type": "stream",
          "name": "stdout",
          "text": [
            "        qid  rating  hostid\n",
            "813  380923    0.14       6\n",
            "821  380923    0.14     179\n",
            "831  380923    0.14     386\n",
            "836  380923    0.14     484\n",
            "835  380923    0.07     462\n",
            "38    10387    0.00     846\n",
            "41    10387    0.00     922\n",
            "45    10387    0.00     995\n",
            "46    10387    0.00    1042\n",
            "48    10387    0.00    1155\n",
            "Yandex pfound group\n",
            "qid\n",
            "10387     0.497771\n",
            "20860     0.655448\n",
            "21070     0.497771\n",
            "35618     0.437794\n",
            "107538    0.354808\n",
            "150126    0.366109\n",
            "168170    0.481255\n",
            "176370    0.393661\n",
            "192007    0.191170\n",
            "213932    0.347005\n",
            "221830    0.497771\n",
            "242953    0.497771\n",
            "253476    0.497771\n",
            "295761    0.900836\n",
            "346214    0.263596\n",
            "347852    0.618534\n",
            "360100    0.470204\n",
            "366042    0.309314\n",
            "375608    0.497771\n",
            "380923    0.429989\n",
            "dtype: float64\n",
            "New pfound group\n",
            "qid\n",
            "10387     0.497771\n",
            "20860     0.655448\n",
            "21070     0.497771\n",
            "35618     0.443964\n",
            "107538    0.354808\n",
            "150126    0.366109\n",
            "168170    0.481255\n",
            "176370    0.393661\n",
            "192007    0.191170\n",
            "213932    0.347005\n",
            "221830    0.497771\n",
            "242953    0.497771\n",
            "253476    0.497771\n",
            "295761    0.900836\n",
            "346214    0.263596\n",
            "347852    0.629554\n",
            "360100    0.470204\n",
            "366042    0.309314\n",
            "375608    0.497771\n",
            "380923    0.429989\n",
            "Name: pfound, dtype: float64 \n",
            "\n",
            "\n",
            "\n",
            "Yandex pfound mean\n",
            "0.4603173929969002\n",
            "New pfound mean\n",
            "0.46117690130333033\n"
          ]
        }
      ]
    }
  ],
  "metadata": {
    "kernelspec": {
      "display_name": "Practice #2 (py38)",
      "language": "python",
      "name": "practice2"
    },
    "language_info": {
      "codemirror_mode": {
        "name": "ipython",
        "version": 3
      },
      "file_extension": ".py",
      "mimetype": "text/x-python",
      "name": "python",
      "nbconvert_exporter": "python",
      "pygments_lexer": "ipython3",
      "version": "3.8.15"
    },
    "toc": {
      "base_numbering": 1,
      "nav_menu": {},
      "number_sections": true,
      "sideBar": true,
      "skip_h1_title": true,
      "title_cell": "Table of Contents",
      "title_sidebar": "Contents",
      "toc_cell": false,
      "toc_position": {
        "height": "calc(100% - 180px)",
        "left": "10px",
        "top": "150px",
        "width": "221px"
      },
      "toc_section_display": true,
      "toc_window_display": true
    },
    "colab": {
      "provenance": []
    }
  },
  "nbformat": 4,
  "nbformat_minor": 5
}