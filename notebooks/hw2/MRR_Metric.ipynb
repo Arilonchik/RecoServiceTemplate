{
  "cells": [
    {
      "cell_type": "code",
      "execution_count": 120,
      "id": "DZ212Gy9XAB7",
      "metadata": {
        "colab": {
          "base_uri": "https://localhost:8080/"
        },
        "id": "DZ212Gy9XAB7",
        "outputId": "d34a13bb-8cd8-4cbf-aef1-f6fadbd80c99"
      },
      "outputs": [
        {
          "name": "stdout",
          "output_type": "stream",
          "text": [
            "Drive already mounted at /content/drive; to attempt to forcibly remount, call drive.mount(\"/content/drive\", force_remount=True).\n"
          ]
        }
      ],
      "source": [
        "from google.colab import drive\n",
        "drive.mount('/content/drive')"
      ]
    },
    {
      "cell_type": "markdown",
      "id": "7c8d88a7-66fd-4379-af88-e3d8f2274855",
      "metadata": {
        "id": "7c8d88a7-66fd-4379-af88-e3d8f2274855"
      },
      "source": [
        "## Homework\n",
        "\n",
        "### MRR\n",
        "Исходные данные - результат `generate_subsample` \n",
        "\n",
        "**Задача** - по аналогии с precision написать три версии функции подсчета Mean Reciprocal Rank (naive, numba, pandas) и протестировать на разных размерах выборки\n",
        "- Протестируйте для всех комбинаций (users_count, top_k):\n",
        "  - users_count - [100, 1000, 10000, 100000]\n",
        "  - top_k - [10, 50, 100]\n",
        "- Результатом тестирования должен быть график, где будут отражены следующие показатели:\n",
        "  - Алгоритм - naive, numba, pandas\n",
        "  - Скорость работы (время)\n",
        "  - users_count\n",
        "  - top_k"
      ]
    },
    {
      "cell_type": "code",
      "execution_count": 121,
      "id": "wnxKk6h1W3zo",
      "metadata": {
        "id": "wnxKk6h1W3zo"
      },
      "outputs": [],
      "source": [
        "# !pip install rectools"
      ]
    },
    {
      "cell_type": "code",
      "execution_count": 122,
      "id": "14dec809",
      "metadata": {
        "ExecuteTime": {
          "end_time": "2022-11-16T13:16:59.822474Z",
          "start_time": "2022-11-16T13:16:58.134477Z"
        },
        "id": "14dec809"
      },
      "outputs": [],
      "source": [
        "import pandas as pd\n",
        "import numpy as np\n",
        "import numba as nb\n",
        "import plotly.express as px\n",
        "import timeit\n",
        "\n",
        "from rectools import Columns"
      ]
    },
    {
      "cell_type": "code",
      "execution_count": 123,
      "id": "e3551b5e",
      "metadata": {
        "ExecuteTime": {
          "end_time": "2022-11-16T13:16:59.838475Z",
          "start_time": "2022-11-16T13:16:59.825476Z"
        },
        "id": "e3551b5e"
      },
      "outputs": [],
      "source": [
        "np.random.seed(23)\n",
        "\n",
        "PATH = '/content/drive/MyDrive/kion_train/'"
      ]
    },
    {
      "cell_type": "code",
      "execution_count": 124,
      "id": "8b021111",
      "metadata": {
        "ExecuteTime": {
          "end_time": "2022-11-16T13:17:02.540473Z",
          "start_time": "2022-11-16T13:16:59.841479Z"
        },
        "id": "8b021111"
      },
      "outputs": [],
      "source": [
        "interactions = pd.read_csv(PATH + 'interactions.csv')\n",
        "\n",
        "interactions.rename(\n",
        "    columns={\n",
        "        'track_id': Columns.Item,\n",
        "        'last_watch_dt': Columns.Datetime,\n",
        "        'total_dur': Columns.Weight\n",
        "    }, \n",
        "    inplace=True) \n",
        "\n",
        "interactions[Columns.Datetime] = pd.to_datetime(interactions[Columns.Datetime])"
      ]
    },
    {
      "cell_type": "code",
      "execution_count": 125,
      "id": "1170099f",
      "metadata": {
        "ExecuteTime": {
          "end_time": "2022-11-16T13:17:03.522473Z",
          "start_time": "2022-11-16T13:17:02.544478Z"
        },
        "id": "1170099f"
      },
      "outputs": [],
      "source": [
        "users = pd.read_csv(PATH + 'users.csv')\n",
        "items = pd.read_csv(PATH + 'items.csv')"
      ]
    },
    {
      "cell_type": "code",
      "execution_count": 126,
      "id": "003c90fd",
      "metadata": {
        "ExecuteTime": {
          "end_time": "2022-11-16T13:17:19.763472Z",
          "start_time": "2022-11-16T13:17:19.751472Z"
        },
        "id": "003c90fd"
      },
      "outputs": [],
      "source": [
        "def generate_subsample(users_count, top_k):\n",
        "    users = np.random.choice(interactions[Columns.User].unique(),\n",
        "                             users_count, replace=False)\n",
        "    df = interactions[interactions[Columns.User].isin(users)].reset_index(drop=True)\n",
        "    del df[Columns.Datetime], df[Columns.Weight], df['watched_pct']\n",
        "    \n",
        "    recs = np.random.choice(df[Columns.Item], size=(users_count, top_k))\n",
        "    return df, users, recs"
      ]
    },
    {
      "cell_type": "code",
      "execution_count": 127,
      "id": "cd795c2a",
      "metadata": {
        "ExecuteTime": {
          "end_time": "2022-11-16T13:17:04.190474Z",
          "start_time": "2022-11-16T13:17:04.178474Z"
        },
        "id": "cd795c2a"
      },
      "outputs": [],
      "source": [
        "def mrr_naive(target, users, recs, k):\n",
        "    rr = []\n",
        "    for i, user in enumerate(users):\n",
        "        user_target = target[target[:, 0] == user][:, 1]\n",
        "        for rank, rec in enumerate(recs[i]):\n",
        "            if rec in user_target:\n",
        "                rr.append(1 / (rank+1))\n",
        "                break\n",
        "    return sum(rr) / len(users)"
      ]
    },
    {
      "cell_type": "code",
      "execution_count": 128,
      "id": "6e9013f4",
      "metadata": {
        "ExecuteTime": {
          "end_time": "2022-11-16T13:17:04.270475Z",
          "start_time": "2022-11-16T13:17:04.208473Z"
        },
        "id": "6e9013f4"
      },
      "outputs": [],
      "source": [
        "@nb.njit(cache=True, parallel=True)\n",
        "def mrr_numba(target, users, recs, k):\n",
        "    rr = np.zeros(len(users))\n",
        "    for i in nb.prange(len(users)):\n",
        "        user = users[i]\n",
        "        user_target = target[target[:, 0] == user][:, 1]\n",
        "        for rank, rec in enumerate(recs[i]):\n",
        "            if rec in user_target:\n",
        "                rr[i] = 1 / (rank+1)\n",
        "                break\n",
        "    return rr.mean()"
      ]
    },
    {
      "cell_type": "code",
      "execution_count": 129,
      "id": "eb34dfeb",
      "metadata": {
        "ExecuteTime": {
          "end_time": "2022-11-16T13:17:04.950473Z",
          "start_time": "2022-11-16T13:17:04.938474Z"
        },
        "id": "eb34dfeb"
      },
      "outputs": [],
      "source": [
        "def mrr_pandas(df, users, recs, k):\n",
        "    df_recs = pd.DataFrame({\n",
        "        Columns.User: np.repeat(users, k),\n",
        "        Columns.Item: recs.ravel()\n",
        "    })\n",
        "    df_recs[Columns.Rank] = df_recs.groupby(Columns.User).cumcount() + 1\n",
        "    df['target'] = 1\n",
        "    df_recs = df.merge(df_recs, how='left', on=Columns.UserItem)\n",
        "    df_recs['rr'] = 1 / df_recs['rank']\n",
        "    return df_recs.groupby('user_id')['rr'].max().sum()/len(users)"
      ]
    },
    {
      "cell_type": "code",
      "execution_count": 130,
      "id": "DkfvAgtmCPb6",
      "metadata": {
        "id": "DkfvAgtmCPb6"
      },
      "outputs": [],
      "source": [
        "top_k = 10\n",
        "df, users, recs = generate_subsample(10000, top_k)\n",
        "target = df.values"
      ]
    },
    {
      "cell_type": "code",
      "execution_count": 131,
      "id": "68849e75",
      "metadata": {
        "ExecuteTime": {
          "end_time": "2022-11-16T13:17:04.206473Z",
          "start_time": "2022-11-16T13:17:04.193473Z"
        },
        "colab": {
          "base_uri": "https://localhost:8080/"
        },
        "id": "68849e75",
        "outputId": "30d4bcae-c342-4f52-c75c-eb65ea8c1e53"
      },
      "outputs": [
        {
          "data": {
            "text/plain": [
              "0.07836801587301619"
            ]
          },
          "execution_count": 131,
          "metadata": {},
          "output_type": "execute_result"
        }
      ],
      "source": [
        "mrr_naive(target, users, recs, top_k)"
      ]
    },
    {
      "cell_type": "code",
      "execution_count": 132,
      "id": "8e6bddb3",
      "metadata": {
        "ExecuteTime": {
          "end_time": "2022-11-16T13:17:04.919472Z",
          "start_time": "2022-11-16T13:17:04.273475Z"
        },
        "colab": {
          "base_uri": "https://localhost:8080/"
        },
        "id": "8e6bddb3",
        "outputId": "ebb29280-4594-4e04-8a29-d54fca50936a"
      },
      "outputs": [
        {
          "data": {
            "text/plain": [
              "0.07836801587301577"
            ]
          },
          "execution_count": 132,
          "metadata": {},
          "output_type": "execute_result"
        }
      ],
      "source": [
        "mrr_numba(target, users, recs, top_k)"
      ]
    },
    {
      "cell_type": "code",
      "execution_count": 133,
      "id": "b40cf2a1",
      "metadata": {
        "ExecuteTime": {
          "end_time": "2022-11-16T13:17:04.982472Z",
          "start_time": "2022-11-16T13:17:04.953476Z"
        },
        "colab": {
          "base_uri": "https://localhost:8080/"
        },
        "id": "b40cf2a1",
        "outputId": "b6b67bbd-46b2-4f5b-9599-3d26d580f0f3"
      },
      "outputs": [
        {
          "data": {
            "text/plain": [
              "0.07836801587301587"
            ]
          },
          "execution_count": 133,
          "metadata": {},
          "output_type": "execute_result"
        }
      ],
      "source": [
        "mrr_pandas(df, users, recs, top_k)"
      ]
    },
    {
      "cell_type": "markdown",
      "id": "JQcdpunrN89j",
      "metadata": {
        "id": "JQcdpunrN89j"
      },
      "source": [
        "Результаты метрик совпадают. "
      ]
    },
    {
      "cell_type": "markdown",
      "id": "1a2e1aab",
      "metadata": {
        "id": "1a2e1aab"
      },
      "source": [
        "Посмотрим время работы:"
      ]
    },
    {
      "cell_type": "code",
      "execution_count": 134,
      "id": "ed196c27",
      "metadata": {
        "ExecuteTime": {
          "end_time": "2022-11-16T13:17:36.490476Z",
          "start_time": "2022-11-16T13:17:19.984472Z"
        },
        "colab": {
          "base_uri": "https://localhost:8080/"
        },
        "id": "ed196c27",
        "outputId": "63e376c9-671d-4e73-8380-889197400516"
      },
      "outputs": [
        {
          "name": "stdout",
          "output_type": "stream",
          "text": [
            "2.86 s ± 1.57 s per loop (mean ± std. dev. of 7 runs, 1 loop each)\n"
          ]
        }
      ],
      "source": [
        "%timeit mrr_naive(target, users, recs, top_k)"
      ]
    },
    {
      "cell_type": "code",
      "execution_count": 135,
      "id": "ff00d091",
      "metadata": {
        "ExecuteTime": {
          "end_time": "2022-11-16T13:17:44.254473Z",
          "start_time": "2022-11-16T13:17:36.618475Z"
        },
        "colab": {
          "base_uri": "https://localhost:8080/"
        },
        "id": "ff00d091",
        "outputId": "3c5c8281-8999-4a20-da31-9bd89fb0060c"
      },
      "outputs": [
        {
          "name": "stdout",
          "output_type": "stream",
          "text": [
            "1.13 s ± 16.7 ms per loop (mean ± std. dev. of 7 runs, 1 loop each)\n"
          ]
        }
      ],
      "source": [
        "%timeit mrr_numba(target, users, recs, top_k)"
      ]
    },
    {
      "cell_type": "code",
      "execution_count": 136,
      "id": "bb53a8f4",
      "metadata": {
        "ExecuteTime": {
          "end_time": "2022-11-16T13:17:47.065475Z",
          "start_time": "2022-11-16T13:17:44.257476Z"
        },
        "colab": {
          "base_uri": "https://localhost:8080/"
        },
        "id": "bb53a8f4",
        "outputId": "be22a0b9-22ca-4407-e67d-e6363d73d377"
      },
      "outputs": [
        {
          "name": "stdout",
          "output_type": "stream",
          "text": [
            "58.4 ms ± 7.7 ms per loop (mean ± std. dev. of 7 runs, 10 loops each)\n"
          ]
        }
      ],
      "source": [
        "%timeit mrr_pandas(df, users, recs, top_k)"
      ]
    },
    {
      "cell_type": "markdown",
      "id": "_M7dLJsnNr76",
      "metadata": {
        "id": "_M7dLJsnNr76"
      },
      "source": [
        "Результаты предсказуемы, pandas сильно выигрывает по скорости работы"
      ]
    },
    {
      "cell_type": "code",
      "execution_count": 137,
      "id": "a0e001ef",
      "metadata": {
        "id": "a0e001ef"
      },
      "outputs": [],
      "source": [
        "users_count = [100, 1000, 10000, 100000]\n",
        "top_k = [10, 50, 100]\n",
        "algs = ['naive', 'numba', 'pandas']"
      ]
    },
    {
      "cell_type": "code",
      "execution_count": 149,
      "id": "83XFrZCZDSf9",
      "metadata": {
        "id": "83XFrZCZDSf9"
      },
      "outputs": [],
      "source": [
        "time = []\n",
        "count = [n for n in users_count for _ in range(9)]\n",
        "top = [n for n in top_k for _ in range(3)] * 4\n",
        "algs = algs * 12\n",
        "n = 5 \n",
        "\n",
        "for user_count in users_count:\n",
        "    for k in top_k:\n",
        "        df, users, recs = generate_subsample(user_count, k)\n",
        "        target = df.values\n",
        "        t = timeit.timeit('mrr_naive(target, users, recs, k)',\n",
        "                          'from __main__ import mrr_naive, target, users, recs, k',\n",
        "                          number=n)\n",
        "        time.append(t / n)\n",
        "        t = timeit.timeit('mrr_numba(target, users, recs, k)',\n",
        "                          'from __main__ import mrr_numba, target, users, recs, k',\n",
        "                          number=n)\n",
        "        time.append(t / n)\n",
        "        t = timeit.timeit('mrr_pandas(df, users, recs, k)',\n",
        "                          'from __main__ import mrr_pandas, df, users, recs, k',\n",
        "                          number=n)\n",
        "        time.append(t / n)"
      ]
    },
    {
      "cell_type": "code",
      "execution_count": 150,
      "id": "otceSPF2KHdf",
      "metadata": {
        "id": "otceSPF2KHdf"
      },
      "outputs": [],
      "source": [
        "res = pd.DataFrame({\n",
        "    'top_k': np.array(top),\n",
        "    'user_count': np.array(count),\n",
        "    'algoritm': np.array(algs),\n",
        "    'time': np.array(time)})"
      ]
    },
    {
      "cell_type": "code",
      "execution_count": 151,
      "id": "D28IWCqvi-s9",
      "metadata": {
        "colab": {
          "base_uri": "https://localhost:8080/",
          "height": 1000
        },
        "id": "D28IWCqvi-s9",
        "outputId": "8c96338c-2b53-4499-88d1-4474ca735b7c"
      },
      "outputs": [
        {
          "data": {
            "text/html": [
              "\n",
              "  <div id=\"df-c64415f0-89e2-4d08-bb99-2ab3f38f6425\">\n",
              "    <div class=\"colab-df-container\">\n",
              "      <div>\n",
              "<style scoped>\n",
              "    .dataframe tbody tr th:only-of-type {\n",
              "        vertical-align: middle;\n",
              "    }\n",
              "\n",
              "    .dataframe tbody tr th {\n",
              "        vertical-align: top;\n",
              "    }\n",
              "\n",
              "    .dataframe thead th {\n",
              "        text-align: right;\n",
              "    }\n",
              "</style>\n",
              "<table border=\"1\" class=\"dataframe\">\n",
              "  <thead>\n",
              "    <tr style=\"text-align: right;\">\n",
              "      <th></th>\n",
              "      <th>top_k</th>\n",
              "      <th>user_count</th>\n",
              "      <th>algoritm</th>\n",
              "      <th>time</th>\n",
              "    </tr>\n",
              "  </thead>\n",
              "  <tbody>\n",
              "    <tr>\n",
              "      <th>0</th>\n",
              "      <td>10</td>\n",
              "      <td>100</td>\n",
              "      <td>naive</td>\n",
              "      <td>0.008622</td>\n",
              "    </tr>\n",
              "    <tr>\n",
              "      <th>1</th>\n",
              "      <td>10</td>\n",
              "      <td>100</td>\n",
              "      <td>numba</td>\n",
              "      <td>0.001790</td>\n",
              "    </tr>\n",
              "    <tr>\n",
              "      <th>2</th>\n",
              "      <td>10</td>\n",
              "      <td>100</td>\n",
              "      <td>pandas</td>\n",
              "      <td>0.008326</td>\n",
              "    </tr>\n",
              "    <tr>\n",
              "      <th>3</th>\n",
              "      <td>50</td>\n",
              "      <td>100</td>\n",
              "      <td>naive</td>\n",
              "      <td>0.013309</td>\n",
              "    </tr>\n",
              "    <tr>\n",
              "      <th>4</th>\n",
              "      <td>50</td>\n",
              "      <td>100</td>\n",
              "      <td>numba</td>\n",
              "      <td>0.000301</td>\n",
              "    </tr>\n",
              "    <tr>\n",
              "      <th>5</th>\n",
              "      <td>50</td>\n",
              "      <td>100</td>\n",
              "      <td>pandas</td>\n",
              "      <td>0.009365</td>\n",
              "    </tr>\n",
              "    <tr>\n",
              "      <th>6</th>\n",
              "      <td>100</td>\n",
              "      <td>100</td>\n",
              "      <td>naive</td>\n",
              "      <td>0.016326</td>\n",
              "    </tr>\n",
              "    <tr>\n",
              "      <th>7</th>\n",
              "      <td>100</td>\n",
              "      <td>100</td>\n",
              "      <td>numba</td>\n",
              "      <td>0.000174</td>\n",
              "    </tr>\n",
              "    <tr>\n",
              "      <th>8</th>\n",
              "      <td>100</td>\n",
              "      <td>100</td>\n",
              "      <td>pandas</td>\n",
              "      <td>0.010878</td>\n",
              "    </tr>\n",
              "    <tr>\n",
              "      <th>9</th>\n",
              "      <td>10</td>\n",
              "      <td>1000</td>\n",
              "      <td>naive</td>\n",
              "      <td>0.134295</td>\n",
              "    </tr>\n",
              "    <tr>\n",
              "      <th>10</th>\n",
              "      <td>10</td>\n",
              "      <td>1000</td>\n",
              "      <td>numba</td>\n",
              "      <td>0.021345</td>\n",
              "    </tr>\n",
              "    <tr>\n",
              "      <th>11</th>\n",
              "      <td>10</td>\n",
              "      <td>1000</td>\n",
              "      <td>pandas</td>\n",
              "      <td>0.046815</td>\n",
              "    </tr>\n",
              "    <tr>\n",
              "      <th>12</th>\n",
              "      <td>50</td>\n",
              "      <td>1000</td>\n",
              "      <td>naive</td>\n",
              "      <td>0.142782</td>\n",
              "    </tr>\n",
              "    <tr>\n",
              "      <th>13</th>\n",
              "      <td>50</td>\n",
              "      <td>1000</td>\n",
              "      <td>numba</td>\n",
              "      <td>0.010948</td>\n",
              "    </tr>\n",
              "    <tr>\n",
              "      <th>14</th>\n",
              "      <td>50</td>\n",
              "      <td>1000</td>\n",
              "      <td>pandas</td>\n",
              "      <td>0.018087</td>\n",
              "    </tr>\n",
              "    <tr>\n",
              "      <th>15</th>\n",
              "      <td>100</td>\n",
              "      <td>1000</td>\n",
              "      <td>naive</td>\n",
              "      <td>0.209703</td>\n",
              "    </tr>\n",
              "    <tr>\n",
              "      <th>16</th>\n",
              "      <td>100</td>\n",
              "      <td>1000</td>\n",
              "      <td>numba</td>\n",
              "      <td>0.011293</td>\n",
              "    </tr>\n",
              "    <tr>\n",
              "      <th>17</th>\n",
              "      <td>100</td>\n",
              "      <td>1000</td>\n",
              "      <td>pandas</td>\n",
              "      <td>0.028299</td>\n",
              "    </tr>\n",
              "    <tr>\n",
              "      <th>18</th>\n",
              "      <td>10</td>\n",
              "      <td>10000</td>\n",
              "      <td>naive</td>\n",
              "      <td>2.042051</td>\n",
              "    </tr>\n",
              "    <tr>\n",
              "      <th>19</th>\n",
              "      <td>10</td>\n",
              "      <td>10000</td>\n",
              "      <td>numba</td>\n",
              "      <td>1.117078</td>\n",
              "    </tr>\n",
              "    <tr>\n",
              "      <th>20</th>\n",
              "      <td>10</td>\n",
              "      <td>10000</td>\n",
              "      <td>pandas</td>\n",
              "      <td>0.064570</td>\n",
              "    </tr>\n",
              "    <tr>\n",
              "      <th>21</th>\n",
              "      <td>50</td>\n",
              "      <td>10000</td>\n",
              "      <td>naive</td>\n",
              "      <td>2.971150</td>\n",
              "    </tr>\n",
              "    <tr>\n",
              "      <th>22</th>\n",
              "      <td>50</td>\n",
              "      <td>10000</td>\n",
              "      <td>numba</td>\n",
              "      <td>1.152701</td>\n",
              "    </tr>\n",
              "    <tr>\n",
              "      <th>23</th>\n",
              "      <td>50</td>\n",
              "      <td>10000</td>\n",
              "      <td>pandas</td>\n",
              "      <td>0.190070</td>\n",
              "    </tr>\n",
              "    <tr>\n",
              "      <th>24</th>\n",
              "      <td>100</td>\n",
              "      <td>10000</td>\n",
              "      <td>naive</td>\n",
              "      <td>3.628688</td>\n",
              "    </tr>\n",
              "    <tr>\n",
              "      <th>25</th>\n",
              "      <td>100</td>\n",
              "      <td>10000</td>\n",
              "      <td>numba</td>\n",
              "      <td>1.119011</td>\n",
              "    </tr>\n",
              "    <tr>\n",
              "      <th>26</th>\n",
              "      <td>100</td>\n",
              "      <td>10000</td>\n",
              "      <td>pandas</td>\n",
              "      <td>0.265376</td>\n",
              "    </tr>\n",
              "    <tr>\n",
              "      <th>27</th>\n",
              "      <td>10</td>\n",
              "      <td>100000</td>\n",
              "      <td>naive</td>\n",
              "      <td>203.209858</td>\n",
              "    </tr>\n",
              "    <tr>\n",
              "      <th>28</th>\n",
              "      <td>10</td>\n",
              "      <td>100000</td>\n",
              "      <td>numba</td>\n",
              "      <td>127.567862</td>\n",
              "    </tr>\n",
              "    <tr>\n",
              "      <th>29</th>\n",
              "      <td>10</td>\n",
              "      <td>100000</td>\n",
              "      <td>pandas</td>\n",
              "      <td>0.654076</td>\n",
              "    </tr>\n",
              "    <tr>\n",
              "      <th>30</th>\n",
              "      <td>50</td>\n",
              "      <td>100000</td>\n",
              "      <td>naive</td>\n",
              "      <td>202.512348</td>\n",
              "    </tr>\n",
              "    <tr>\n",
              "      <th>31</th>\n",
              "      <td>50</td>\n",
              "      <td>100000</td>\n",
              "      <td>numba</td>\n",
              "      <td>118.141880</td>\n",
              "    </tr>\n",
              "    <tr>\n",
              "      <th>32</th>\n",
              "      <td>50</td>\n",
              "      <td>100000</td>\n",
              "      <td>pandas</td>\n",
              "      <td>2.538170</td>\n",
              "    </tr>\n",
              "    <tr>\n",
              "      <th>33</th>\n",
              "      <td>100</td>\n",
              "      <td>100000</td>\n",
              "      <td>naive</td>\n",
              "      <td>216.873912</td>\n",
              "    </tr>\n",
              "    <tr>\n",
              "      <th>34</th>\n",
              "      <td>100</td>\n",
              "      <td>100000</td>\n",
              "      <td>numba</td>\n",
              "      <td>119.452399</td>\n",
              "    </tr>\n",
              "    <tr>\n",
              "      <th>35</th>\n",
              "      <td>100</td>\n",
              "      <td>100000</td>\n",
              "      <td>pandas</td>\n",
              "      <td>4.063842</td>\n",
              "    </tr>\n",
              "  </tbody>\n",
              "</table>\n",
              "</div>\n",
              "      <button class=\"colab-df-convert\" onclick=\"convertToInteractive('df-c64415f0-89e2-4d08-bb99-2ab3f38f6425')\"\n",
              "              title=\"Convert this dataframe to an interactive table.\"\n",
              "              style=\"display:none;\">\n",
              "        \n",
              "  <svg xmlns=\"http://www.w3.org/2000/svg\" height=\"24px\"viewBox=\"0 0 24 24\"\n",
              "       width=\"24px\">\n",
              "    <path d=\"M0 0h24v24H0V0z\" fill=\"none\"/>\n",
              "    <path d=\"M18.56 5.44l.94 2.06.94-2.06 2.06-.94-2.06-.94-.94-2.06-.94 2.06-2.06.94zm-11 1L8.5 8.5l.94-2.06 2.06-.94-2.06-.94L8.5 2.5l-.94 2.06-2.06.94zm10 10l.94 2.06.94-2.06 2.06-.94-2.06-.94-.94-2.06-.94 2.06-2.06.94z\"/><path d=\"M17.41 7.96l-1.37-1.37c-.4-.4-.92-.59-1.43-.59-.52 0-1.04.2-1.43.59L10.3 9.45l-7.72 7.72c-.78.78-.78 2.05 0 2.83L4 21.41c.39.39.9.59 1.41.59.51 0 1.02-.2 1.41-.59l7.78-7.78 2.81-2.81c.8-.78.8-2.07 0-2.86zM5.41 20L4 18.59l7.72-7.72 1.47 1.35L5.41 20z\"/>\n",
              "  </svg>\n",
              "      </button>\n",
              "      \n",
              "  <style>\n",
              "    .colab-df-container {\n",
              "      display:flex;\n",
              "      flex-wrap:wrap;\n",
              "      gap: 12px;\n",
              "    }\n",
              "\n",
              "    .colab-df-convert {\n",
              "      background-color: #E8F0FE;\n",
              "      border: none;\n",
              "      border-radius: 50%;\n",
              "      cursor: pointer;\n",
              "      display: none;\n",
              "      fill: #1967D2;\n",
              "      height: 32px;\n",
              "      padding: 0 0 0 0;\n",
              "      width: 32px;\n",
              "    }\n",
              "\n",
              "    .colab-df-convert:hover {\n",
              "      background-color: #E2EBFA;\n",
              "      box-shadow: 0px 1px 2px rgba(60, 64, 67, 0.3), 0px 1px 3px 1px rgba(60, 64, 67, 0.15);\n",
              "      fill: #174EA6;\n",
              "    }\n",
              "\n",
              "    [theme=dark] .colab-df-convert {\n",
              "      background-color: #3B4455;\n",
              "      fill: #D2E3FC;\n",
              "    }\n",
              "\n",
              "    [theme=dark] .colab-df-convert:hover {\n",
              "      background-color: #434B5C;\n",
              "      box-shadow: 0px 1px 3px 1px rgba(0, 0, 0, 0.15);\n",
              "      filter: drop-shadow(0px 1px 2px rgba(0, 0, 0, 0.3));\n",
              "      fill: #FFFFFF;\n",
              "    }\n",
              "  </style>\n",
              "\n",
              "      <script>\n",
              "        const buttonEl =\n",
              "          document.querySelector('#df-c64415f0-89e2-4d08-bb99-2ab3f38f6425 button.colab-df-convert');\n",
              "        buttonEl.style.display =\n",
              "          google.colab.kernel.accessAllowed ? 'block' : 'none';\n",
              "\n",
              "        async function convertToInteractive(key) {\n",
              "          const element = document.querySelector('#df-c64415f0-89e2-4d08-bb99-2ab3f38f6425');\n",
              "          const dataTable =\n",
              "            await google.colab.kernel.invokeFunction('convertToInteractive',\n",
              "                                                     [key], {});\n",
              "          if (!dataTable) return;\n",
              "\n",
              "          const docLinkHtml = 'Like what you see? Visit the ' +\n",
              "            '<a target=\"_blank\" href=https://colab.research.google.com/notebooks/data_table.ipynb>data table notebook</a>'\n",
              "            + ' to learn more about interactive tables.';\n",
              "          element.innerHTML = '';\n",
              "          dataTable['output_type'] = 'display_data';\n",
              "          await google.colab.output.renderOutput(dataTable, element);\n",
              "          const docLink = document.createElement('div');\n",
              "          docLink.innerHTML = docLinkHtml;\n",
              "          element.appendChild(docLink);\n",
              "        }\n",
              "      </script>\n",
              "    </div>\n",
              "  </div>\n",
              "  "
            ],
            "text/plain": [
              "    top_k  user_count algoritm        time\n",
              "0      10         100    naive    0.008622\n",
              "1      10         100    numba    0.001790\n",
              "2      10         100   pandas    0.008326\n",
              "3      50         100    naive    0.013309\n",
              "4      50         100    numba    0.000301\n",
              "5      50         100   pandas    0.009365\n",
              "6     100         100    naive    0.016326\n",
              "7     100         100    numba    0.000174\n",
              "8     100         100   pandas    0.010878\n",
              "9      10        1000    naive    0.134295\n",
              "10     10        1000    numba    0.021345\n",
              "11     10        1000   pandas    0.046815\n",
              "12     50        1000    naive    0.142782\n",
              "13     50        1000    numba    0.010948\n",
              "14     50        1000   pandas    0.018087\n",
              "15    100        1000    naive    0.209703\n",
              "16    100        1000    numba    0.011293\n",
              "17    100        1000   pandas    0.028299\n",
              "18     10       10000    naive    2.042051\n",
              "19     10       10000    numba    1.117078\n",
              "20     10       10000   pandas    0.064570\n",
              "21     50       10000    naive    2.971150\n",
              "22     50       10000    numba    1.152701\n",
              "23     50       10000   pandas    0.190070\n",
              "24    100       10000    naive    3.628688\n",
              "25    100       10000    numba    1.119011\n",
              "26    100       10000   pandas    0.265376\n",
              "27     10      100000    naive  203.209858\n",
              "28     10      100000    numba  127.567862\n",
              "29     10      100000   pandas    0.654076\n",
              "30     50      100000    naive  202.512348\n",
              "31     50      100000    numba  118.141880\n",
              "32     50      100000   pandas    2.538170\n",
              "33    100      100000    naive  216.873912\n",
              "34    100      100000    numba  119.452399\n",
              "35    100      100000   pandas    4.063842"
            ]
          },
          "execution_count": 151,
          "metadata": {},
          "output_type": "execute_result"
        }
      ],
      "source": [
        "res"
      ]
    },
    {
      "cell_type": "code",
      "execution_count": 155,
      "id": "HLAVDkMXL7mX",
      "metadata": {
        "colab": {
          "base_uri": "https://localhost:8080/",
          "height": 542
        },
        "id": "HLAVDkMXL7mX",
        "outputId": "4f5196ff-ff5d-4b85-ea90-d39347fe93df"
      },
      "outputs": [
        {
          "data": {
            "text/html": [
              "<html>\n",
              "<head><meta charset=\"utf-8\" /></head>\n",
              "<body>\n",
              "    <div>            <script src=\"https://cdnjs.cloudflare.com/ajax/libs/mathjax/2.7.5/MathJax.js?config=TeX-AMS-MML_SVG\"></script><script type=\"text/javascript\">if (window.MathJax) {MathJax.Hub.Config({SVG: {font: \"STIX-Web\"}});}</script>                <script type=\"text/javascript\">window.PlotlyConfig = {MathJaxConfig: 'local'};</script>\n",
              "        <script src=\"https://cdn.plot.ly/plotly-2.8.3.min.js\"></script>                <div id=\"0cd39071-ce4a-4e07-8aea-a9fc3e3a08f5\" class=\"plotly-graph-div\" style=\"height:525px; width:100%;\"></div>            <script type=\"text/javascript\">                                    window.PLOTLYENV=window.PLOTLYENV || {};                                    if (document.getElementById(\"0cd39071-ce4a-4e07-8aea-a9fc3e3a08f5\")) {                    Plotly.newPlot(                        \"0cd39071-ce4a-4e07-8aea-a9fc3e3a08f5\",                        [{\"hovertemplate\":\"algoritm=naive<br>top_k=10<br>user_count=%{x}<br>time=%{y}<extra></extra>\",\"legendgroup\":\"naive\",\"line\":{\"color\":\"#636efa\",\"dash\":\"solid\"},\"marker\":{\"symbol\":\"circle\"},\"mode\":\"lines\",\"name\":\"naive\",\"orientation\":\"v\",\"showlegend\":true,\"x\":[100,1000,10000,100000],\"xaxis\":\"x\",\"y\":[0.008622168799774954,0.13429475399971125,2.042051482199895,203.20985798699985],\"yaxis\":\"y\",\"type\":\"scatter\"},{\"hovertemplate\":\"algoritm=naive<br>top_k=50<br>user_count=%{x}<br>time=%{y}<extra></extra>\",\"legendgroup\":\"naive\",\"line\":{\"color\":\"#636efa\",\"dash\":\"solid\"},\"marker\":{\"symbol\":\"circle\"},\"mode\":\"lines\",\"name\":\"naive\",\"orientation\":\"v\",\"showlegend\":false,\"x\":[100,1000,10000,100000],\"xaxis\":\"x2\",\"y\":[0.013308938599948306,0.14278177340020193,2.971149623400197,202.51234801659956],\"yaxis\":\"y2\",\"type\":\"scatter\"},{\"hovertemplate\":\"algoritm=naive<br>top_k=100<br>user_count=%{x}<br>time=%{y}<extra></extra>\",\"legendgroup\":\"naive\",\"line\":{\"color\":\"#636efa\",\"dash\":\"solid\"},\"marker\":{\"symbol\":\"circle\"},\"mode\":\"lines\",\"name\":\"naive\",\"orientation\":\"v\",\"showlegend\":false,\"x\":[100,1000,10000,100000],\"xaxis\":\"x3\",\"y\":[0.016326186200240046,0.20970344779998412,3.628688155799682,216.87391216239993],\"yaxis\":\"y3\",\"type\":\"scatter\"},{\"hovertemplate\":\"algoritm=numba<br>top_k=10<br>user_count=%{x}<br>time=%{y}<extra></extra>\",\"legendgroup\":\"numba\",\"line\":{\"color\":\"#EF553B\",\"dash\":\"solid\"},\"marker\":{\"symbol\":\"circle\"},\"mode\":\"lines\",\"name\":\"numba\",\"orientation\":\"v\",\"showlegend\":true,\"x\":[100,1000,10000,100000],\"xaxis\":\"x\",\"y\":[0.0017898864000017057,0.021344631600004504,1.117078049000338,127.567862083],\"yaxis\":\"y\",\"type\":\"scatter\"},{\"hovertemplate\":\"algoritm=numba<br>top_k=50<br>user_count=%{x}<br>time=%{y}<extra></extra>\",\"legendgroup\":\"numba\",\"line\":{\"color\":\"#EF553B\",\"dash\":\"solid\"},\"marker\":{\"symbol\":\"circle\"},\"mode\":\"lines\",\"name\":\"numba\",\"orientation\":\"v\",\"showlegend\":false,\"x\":[100,1000,10000,100000],\"xaxis\":\"x2\",\"y\":[0.000301378400035901,0.0109484048000013,1.1527011795998987,118.14187978439949],\"yaxis\":\"y2\",\"type\":\"scatter\"},{\"hovertemplate\":\"algoritm=numba<br>top_k=100<br>user_count=%{x}<br>time=%{y}<extra></extra>\",\"legendgroup\":\"numba\",\"line\":{\"color\":\"#EF553B\",\"dash\":\"solid\"},\"marker\":{\"symbol\":\"circle\"},\"mode\":\"lines\",\"name\":\"numba\",\"orientation\":\"v\",\"showlegend\":false,\"x\":[100,1000,10000,100000],\"xaxis\":\"x3\",\"y\":[0.0001744369998050388,0.011293264400228509,1.1190106829999422,119.4523994178002],\"yaxis\":\"y3\",\"type\":\"scatter\"},{\"hovertemplate\":\"algoritm=pandas<br>top_k=10<br>user_count=%{x}<br>time=%{y}<extra></extra>\",\"legendgroup\":\"pandas\",\"line\":{\"color\":\"#00cc96\",\"dash\":\"solid\"},\"marker\":{\"symbol\":\"circle\"},\"mode\":\"lines\",\"name\":\"pandas\",\"orientation\":\"v\",\"showlegend\":true,\"x\":[100,1000,10000,100000],\"xaxis\":\"x\",\"y\":[0.008325696000247263,0.04681464759996743,0.06457011940001393,0.654076048600109],\"yaxis\":\"y\",\"type\":\"scatter\"},{\"hovertemplate\":\"algoritm=pandas<br>top_k=50<br>user_count=%{x}<br>time=%{y}<extra></extra>\",\"legendgroup\":\"pandas\",\"line\":{\"color\":\"#00cc96\",\"dash\":\"solid\"},\"marker\":{\"symbol\":\"circle\"},\"mode\":\"lines\",\"name\":\"pandas\",\"orientation\":\"v\",\"showlegend\":false,\"x\":[100,1000,10000,100000],\"xaxis\":\"x2\",\"y\":[0.009365044399964972,0.018086610999671394,0.19007036100010738,2.5381703674000162],\"yaxis\":\"y2\",\"type\":\"scatter\"},{\"hovertemplate\":\"algoritm=pandas<br>top_k=100<br>user_count=%{x}<br>time=%{y}<extra></extra>\",\"legendgroup\":\"pandas\",\"line\":{\"color\":\"#00cc96\",\"dash\":\"solid\"},\"marker\":{\"symbol\":\"circle\"},\"mode\":\"lines\",\"name\":\"pandas\",\"orientation\":\"v\",\"showlegend\":false,\"x\":[100,1000,10000,100000],\"xaxis\":\"x3\",\"y\":[0.010878104199946392,0.028299204399809243,0.2653764888000296,4.063842022400058],\"yaxis\":\"y3\",\"type\":\"scatter\"}],                        {\"template\":{\"data\":{\"bar\":[{\"error_x\":{\"color\":\"#2a3f5f\"},\"error_y\":{\"color\":\"#2a3f5f\"},\"marker\":{\"line\":{\"color\":\"#E5ECF6\",\"width\":0.5},\"pattern\":{\"fillmode\":\"overlay\",\"size\":10,\"solidity\":0.2}},\"type\":\"bar\"}],\"barpolar\":[{\"marker\":{\"line\":{\"color\":\"#E5ECF6\",\"width\":0.5},\"pattern\":{\"fillmode\":\"overlay\",\"size\":10,\"solidity\":0.2}},\"type\":\"barpolar\"}],\"carpet\":[{\"aaxis\":{\"endlinecolor\":\"#2a3f5f\",\"gridcolor\":\"white\",\"linecolor\":\"white\",\"minorgridcolor\":\"white\",\"startlinecolor\":\"#2a3f5f\"},\"baxis\":{\"endlinecolor\":\"#2a3f5f\",\"gridcolor\":\"white\",\"linecolor\":\"white\",\"minorgridcolor\":\"white\",\"startlinecolor\":\"#2a3f5f\"},\"type\":\"carpet\"}],\"choropleth\":[{\"colorbar\":{\"outlinewidth\":0,\"ticks\":\"\"},\"type\":\"choropleth\"}],\"contour\":[{\"colorbar\":{\"outlinewidth\":0,\"ticks\":\"\"},\"colorscale\":[[0.0,\"#0d0887\"],[0.1111111111111111,\"#46039f\"],[0.2222222222222222,\"#7201a8\"],[0.3333333333333333,\"#9c179e\"],[0.4444444444444444,\"#bd3786\"],[0.5555555555555556,\"#d8576b\"],[0.6666666666666666,\"#ed7953\"],[0.7777777777777778,\"#fb9f3a\"],[0.8888888888888888,\"#fdca26\"],[1.0,\"#f0f921\"]],\"type\":\"contour\"}],\"contourcarpet\":[{\"colorbar\":{\"outlinewidth\":0,\"ticks\":\"\"},\"type\":\"contourcarpet\"}],\"heatmap\":[{\"colorbar\":{\"outlinewidth\":0,\"ticks\":\"\"},\"colorscale\":[[0.0,\"#0d0887\"],[0.1111111111111111,\"#46039f\"],[0.2222222222222222,\"#7201a8\"],[0.3333333333333333,\"#9c179e\"],[0.4444444444444444,\"#bd3786\"],[0.5555555555555556,\"#d8576b\"],[0.6666666666666666,\"#ed7953\"],[0.7777777777777778,\"#fb9f3a\"],[0.8888888888888888,\"#fdca26\"],[1.0,\"#f0f921\"]],\"type\":\"heatmap\"}],\"heatmapgl\":[{\"colorbar\":{\"outlinewidth\":0,\"ticks\":\"\"},\"colorscale\":[[0.0,\"#0d0887\"],[0.1111111111111111,\"#46039f\"],[0.2222222222222222,\"#7201a8\"],[0.3333333333333333,\"#9c179e\"],[0.4444444444444444,\"#bd3786\"],[0.5555555555555556,\"#d8576b\"],[0.6666666666666666,\"#ed7953\"],[0.7777777777777778,\"#fb9f3a\"],[0.8888888888888888,\"#fdca26\"],[1.0,\"#f0f921\"]],\"type\":\"heatmapgl\"}],\"histogram\":[{\"marker\":{\"pattern\":{\"fillmode\":\"overlay\",\"size\":10,\"solidity\":0.2}},\"type\":\"histogram\"}],\"histogram2d\":[{\"colorbar\":{\"outlinewidth\":0,\"ticks\":\"\"},\"colorscale\":[[0.0,\"#0d0887\"],[0.1111111111111111,\"#46039f\"],[0.2222222222222222,\"#7201a8\"],[0.3333333333333333,\"#9c179e\"],[0.4444444444444444,\"#bd3786\"],[0.5555555555555556,\"#d8576b\"],[0.6666666666666666,\"#ed7953\"],[0.7777777777777778,\"#fb9f3a\"],[0.8888888888888888,\"#fdca26\"],[1.0,\"#f0f921\"]],\"type\":\"histogram2d\"}],\"histogram2dcontour\":[{\"colorbar\":{\"outlinewidth\":0,\"ticks\":\"\"},\"colorscale\":[[0.0,\"#0d0887\"],[0.1111111111111111,\"#46039f\"],[0.2222222222222222,\"#7201a8\"],[0.3333333333333333,\"#9c179e\"],[0.4444444444444444,\"#bd3786\"],[0.5555555555555556,\"#d8576b\"],[0.6666666666666666,\"#ed7953\"],[0.7777777777777778,\"#fb9f3a\"],[0.8888888888888888,\"#fdca26\"],[1.0,\"#f0f921\"]],\"type\":\"histogram2dcontour\"}],\"mesh3d\":[{\"colorbar\":{\"outlinewidth\":0,\"ticks\":\"\"},\"type\":\"mesh3d\"}],\"parcoords\":[{\"line\":{\"colorbar\":{\"outlinewidth\":0,\"ticks\":\"\"}},\"type\":\"parcoords\"}],\"pie\":[{\"automargin\":true,\"type\":\"pie\"}],\"scatter\":[{\"marker\":{\"colorbar\":{\"outlinewidth\":0,\"ticks\":\"\"}},\"type\":\"scatter\"}],\"scatter3d\":[{\"line\":{\"colorbar\":{\"outlinewidth\":0,\"ticks\":\"\"}},\"marker\":{\"colorbar\":{\"outlinewidth\":0,\"ticks\":\"\"}},\"type\":\"scatter3d\"}],\"scattercarpet\":[{\"marker\":{\"colorbar\":{\"outlinewidth\":0,\"ticks\":\"\"}},\"type\":\"scattercarpet\"}],\"scattergeo\":[{\"marker\":{\"colorbar\":{\"outlinewidth\":0,\"ticks\":\"\"}},\"type\":\"scattergeo\"}],\"scattergl\":[{\"marker\":{\"colorbar\":{\"outlinewidth\":0,\"ticks\":\"\"}},\"type\":\"scattergl\"}],\"scattermapbox\":[{\"marker\":{\"colorbar\":{\"outlinewidth\":0,\"ticks\":\"\"}},\"type\":\"scattermapbox\"}],\"scatterpolar\":[{\"marker\":{\"colorbar\":{\"outlinewidth\":0,\"ticks\":\"\"}},\"type\":\"scatterpolar\"}],\"scatterpolargl\":[{\"marker\":{\"colorbar\":{\"outlinewidth\":0,\"ticks\":\"\"}},\"type\":\"scatterpolargl\"}],\"scatterternary\":[{\"marker\":{\"colorbar\":{\"outlinewidth\":0,\"ticks\":\"\"}},\"type\":\"scatterternary\"}],\"surface\":[{\"colorbar\":{\"outlinewidth\":0,\"ticks\":\"\"},\"colorscale\":[[0.0,\"#0d0887\"],[0.1111111111111111,\"#46039f\"],[0.2222222222222222,\"#7201a8\"],[0.3333333333333333,\"#9c179e\"],[0.4444444444444444,\"#bd3786\"],[0.5555555555555556,\"#d8576b\"],[0.6666666666666666,\"#ed7953\"],[0.7777777777777778,\"#fb9f3a\"],[0.8888888888888888,\"#fdca26\"],[1.0,\"#f0f921\"]],\"type\":\"surface\"}],\"table\":[{\"cells\":{\"fill\":{\"color\":\"#EBF0F8\"},\"line\":{\"color\":\"white\"}},\"header\":{\"fill\":{\"color\":\"#C8D4E3\"},\"line\":{\"color\":\"white\"}},\"type\":\"table\"}]},\"layout\":{\"annotationdefaults\":{\"arrowcolor\":\"#2a3f5f\",\"arrowhead\":0,\"arrowwidth\":1},\"autotypenumbers\":\"strict\",\"coloraxis\":{\"colorbar\":{\"outlinewidth\":0,\"ticks\":\"\"}},\"colorscale\":{\"diverging\":[[0,\"#8e0152\"],[0.1,\"#c51b7d\"],[0.2,\"#de77ae\"],[0.3,\"#f1b6da\"],[0.4,\"#fde0ef\"],[0.5,\"#f7f7f7\"],[0.6,\"#e6f5d0\"],[0.7,\"#b8e186\"],[0.8,\"#7fbc41\"],[0.9,\"#4d9221\"],[1,\"#276419\"]],\"sequential\":[[0.0,\"#0d0887\"],[0.1111111111111111,\"#46039f\"],[0.2222222222222222,\"#7201a8\"],[0.3333333333333333,\"#9c179e\"],[0.4444444444444444,\"#bd3786\"],[0.5555555555555556,\"#d8576b\"],[0.6666666666666666,\"#ed7953\"],[0.7777777777777778,\"#fb9f3a\"],[0.8888888888888888,\"#fdca26\"],[1.0,\"#f0f921\"]],\"sequentialminus\":[[0.0,\"#0d0887\"],[0.1111111111111111,\"#46039f\"],[0.2222222222222222,\"#7201a8\"],[0.3333333333333333,\"#9c179e\"],[0.4444444444444444,\"#bd3786\"],[0.5555555555555556,\"#d8576b\"],[0.6666666666666666,\"#ed7953\"],[0.7777777777777778,\"#fb9f3a\"],[0.8888888888888888,\"#fdca26\"],[1.0,\"#f0f921\"]]},\"colorway\":[\"#636efa\",\"#EF553B\",\"#00cc96\",\"#ab63fa\",\"#FFA15A\",\"#19d3f3\",\"#FF6692\",\"#B6E880\",\"#FF97FF\",\"#FECB52\"],\"font\":{\"color\":\"#2a3f5f\"},\"geo\":{\"bgcolor\":\"white\",\"lakecolor\":\"white\",\"landcolor\":\"#E5ECF6\",\"showlakes\":true,\"showland\":true,\"subunitcolor\":\"white\"},\"hoverlabel\":{\"align\":\"left\"},\"hovermode\":\"closest\",\"mapbox\":{\"style\":\"light\"},\"paper_bgcolor\":\"white\",\"plot_bgcolor\":\"#E5ECF6\",\"polar\":{\"angularaxis\":{\"gridcolor\":\"white\",\"linecolor\":\"white\",\"ticks\":\"\"},\"bgcolor\":\"#E5ECF6\",\"radialaxis\":{\"gridcolor\":\"white\",\"linecolor\":\"white\",\"ticks\":\"\"}},\"scene\":{\"xaxis\":{\"backgroundcolor\":\"#E5ECF6\",\"gridcolor\":\"white\",\"gridwidth\":2,\"linecolor\":\"white\",\"showbackground\":true,\"ticks\":\"\",\"zerolinecolor\":\"white\"},\"yaxis\":{\"backgroundcolor\":\"#E5ECF6\",\"gridcolor\":\"white\",\"gridwidth\":2,\"linecolor\":\"white\",\"showbackground\":true,\"ticks\":\"\",\"zerolinecolor\":\"white\"},\"zaxis\":{\"backgroundcolor\":\"#E5ECF6\",\"gridcolor\":\"white\",\"gridwidth\":2,\"linecolor\":\"white\",\"showbackground\":true,\"ticks\":\"\",\"zerolinecolor\":\"white\"}},\"shapedefaults\":{\"line\":{\"color\":\"#2a3f5f\"}},\"ternary\":{\"aaxis\":{\"gridcolor\":\"white\",\"linecolor\":\"white\",\"ticks\":\"\"},\"baxis\":{\"gridcolor\":\"white\",\"linecolor\":\"white\",\"ticks\":\"\"},\"bgcolor\":\"#E5ECF6\",\"caxis\":{\"gridcolor\":\"white\",\"linecolor\":\"white\",\"ticks\":\"\"}},\"title\":{\"x\":0.05},\"xaxis\":{\"automargin\":true,\"gridcolor\":\"white\",\"linecolor\":\"white\",\"ticks\":\"\",\"title\":{\"standoff\":15},\"zerolinecolor\":\"white\",\"zerolinewidth\":2},\"yaxis\":{\"automargin\":true,\"gridcolor\":\"white\",\"linecolor\":\"white\",\"ticks\":\"\",\"title\":{\"standoff\":15},\"zerolinecolor\":\"white\",\"zerolinewidth\":2}}},\"xaxis\":{\"anchor\":\"y\",\"domain\":[0.0,0.31999999999999995],\"title\":{\"text\":\"user_count\"},\"type\":\"log\"},\"yaxis\":{\"anchor\":\"x\",\"domain\":[0.0,1.0],\"title\":{\"text\":\"time\"},\"type\":\"log\"},\"xaxis2\":{\"anchor\":\"y2\",\"domain\":[0.33999999999999997,0.6599999999999999],\"matches\":\"x\",\"title\":{\"text\":\"user_count\"},\"type\":\"log\"},\"yaxis2\":{\"anchor\":\"x2\",\"domain\":[0.0,1.0],\"matches\":\"y\",\"showticklabels\":false,\"type\":\"log\"},\"xaxis3\":{\"anchor\":\"y3\",\"domain\":[0.6799999999999999,0.9999999999999999],\"matches\":\"x\",\"title\":{\"text\":\"user_count\"},\"type\":\"log\"},\"yaxis3\":{\"anchor\":\"x3\",\"domain\":[0.0,1.0],\"matches\":\"y\",\"showticklabels\":false,\"type\":\"log\"},\"annotations\":[{\"font\":{},\"showarrow\":false,\"text\":\"top_k=10\",\"x\":0.15999999999999998,\"xanchor\":\"center\",\"xref\":\"paper\",\"y\":1.0,\"yanchor\":\"bottom\",\"yref\":\"paper\"},{\"font\":{},\"showarrow\":false,\"text\":\"top_k=50\",\"x\":0.49999999999999994,\"xanchor\":\"center\",\"xref\":\"paper\",\"y\":1.0,\"yanchor\":\"bottom\",\"yref\":\"paper\"},{\"font\":{},\"showarrow\":false,\"text\":\"top_k=100\",\"x\":0.8399999999999999,\"xanchor\":\"center\",\"xref\":\"paper\",\"y\":1.0,\"yanchor\":\"bottom\",\"yref\":\"paper\"}],\"legend\":{\"title\":{\"text\":\"algoritm\"},\"tracegroupgap\":0},\"margin\":{\"t\":60}},                        {\"responsive\": true}                    ).then(function(){\n",
              "                            \n",
              "var gd = document.getElementById('0cd39071-ce4a-4e07-8aea-a9fc3e3a08f5');\n",
              "var x = new MutationObserver(function (mutations, observer) {{\n",
              "        var display = window.getComputedStyle(gd).display;\n",
              "        if (!display || display === 'none') {{\n",
              "            console.log([gd, 'removed!']);\n",
              "            Plotly.purge(gd);\n",
              "            observer.disconnect();\n",
              "        }}\n",
              "}});\n",
              "\n",
              "// Listen for the removal of the full notebook cells\n",
              "var notebookContainer = gd.closest('#notebook-container');\n",
              "if (notebookContainer) {{\n",
              "    x.observe(notebookContainer, {childList: true});\n",
              "}}\n",
              "\n",
              "// Listen for the clearing of the current output cell\n",
              "var outputEl = gd.closest('.output');\n",
              "if (outputEl) {{\n",
              "    x.observe(outputEl, {childList: true});\n",
              "}}\n",
              "\n",
              "                        })                };                            </script>        </div>\n",
              "</body>\n",
              "</html>"
            ]
          },
          "metadata": {},
          "output_type": "display_data"
        }
      ],
      "source": [
        "fig = px.line(res, x=\"user_count\", y=\"time\", log_x=True, log_y=True, color=\"algoritm\", facet_col=\"top_k\")\n",
        "fig.show()"
      ]
    },
    {
      "cell_type": "markdown",
      "id": "f95d48b1",
      "metadata": {},
      "source": [
        "С увеличением количества вычислений, векторизация начинает превосходить другие способы"
      ]
    }
  ],
  "metadata": {
    "colab": {
      "provenance": []
    },
    "kernelspec": {
      "display_name": "Python 3 (ipykernel)",
      "language": "python",
      "name": "python3"
    },
    "language_info": {
      "codemirror_mode": {
        "name": "ipython",
        "version": 3
      },
      "file_extension": ".py",
      "mimetype": "text/x-python",
      "name": "python",
      "nbconvert_exporter": "python",
      "pygments_lexer": "ipython3",
      "version": "3.10.6"
    },
    "toc": {
      "base_numbering": 1,
      "nav_menu": {},
      "number_sections": true,
      "sideBar": true,
      "skip_h1_title": true,
      "title_cell": "Table of Contents",
      "title_sidebar": "Contents",
      "toc_cell": false,
      "toc_position": {
        "height": "calc(100% - 180px)",
        "left": "10px",
        "top": "150px",
        "width": "221px"
      },
      "toc_section_display": true,
      "toc_window_display": true
    }
  },
  "nbformat": 4,
  "nbformat_minor": 5
}
